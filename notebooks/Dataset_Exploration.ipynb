{
 "cells": [
  {
   "cell_type": "markdown",
   "metadata": {},
   "source": [
    "# Dataset Exploration"
   ]
  },
  {
   "cell_type": "code",
   "execution_count": 38,
   "metadata": {},
   "outputs": [],
   "source": [
    "import os\n",
    "import sys\n",
    "import numpy as np\n",
    "import pandas as pd\n",
    "import matplotlib.pyplot as plt\n",
    "from PIL import Image\n",
    "from collections import Counter\n",
    "from copy import deepcopy\n",
    "from rich import inspect\n",
    "from tqdm import tqdm\n",
    "\n",
    "# torch\n",
    "import torch\n",
    "\n",
    "# monai\n",
    "import monai\n",
    "from monai.data import ImageDataset, ThreadDataLoader\n"
   ]
  },
  {
   "cell_type": "code",
   "execution_count": 79,
   "metadata": {},
   "outputs": [],
   "source": [
    "# rtk\n",
    "from rtk import repl\n",
    "from rtk.config import (\n",
    "    set_hydra_configuration,\n",
    "    Configuration,\n",
    "    DatasetConfiguration,\n",
    "    JobConfiguration,\n",
    ")\n",
    "from rtk.utils import login, hydra_instantiate, get_console, get_logger\n"
   ]
  },
  {
   "cell_type": "code",
   "execution_count": 80,
   "metadata": {},
   "outputs": [
    {
     "name": "stdout",
     "output_type": "stream",
     "text": [
      "MONAI version: 1.3.0\n",
      "Numpy version: 1.23.5\n",
      "Pytorch version: 2.1.0+cu121\n",
      "MONAI flags: HAS_EXT = False, USE_COMPILED = False, USE_META_DICT = False\n",
      "MONAI rev id: 865972f7a791bf7b42efbcd87c8402bd865b329e\n",
      "MONAI __file__: /home/<username>/anaconda3/envs/rtk/lib/python3.11/site-packages/monai/__init__.py\n",
      "\n",
      "Optional dependencies:\n",
      "Pytorch Ignite version: 0.4.13\n",
      "ITK version: 5.3.0\n",
      "Nibabel version: 5.1.0\n",
      "scikit-image version: 0.22.0\n",
      "scipy version: 1.11.3\n",
      "Pillow version: 10.0.1\n",
      "Tensorboard version: NOT INSTALLED or UNKNOWN VERSION.\n",
      "gdown version: NOT INSTALLED or UNKNOWN VERSION.\n",
      "TorchVision version: 0.16.0+cu121\n",
      "tqdm version: 4.66.1\n",
      "lmdb version: NOT INSTALLED or UNKNOWN VERSION.\n",
      "psutil version: 5.9.0\n",
      "pandas version: 2.1.2\n",
      "einops version: 0.7.0\n",
      "transformers version: NOT INSTALLED or UNKNOWN VERSION.\n",
      "mlflow version: 2.8.0\n",
      "pynrrd version: NOT INSTALLED or UNKNOWN VERSION.\n",
      "clearml version: NOT INSTALLED or UNKNOWN VERSION.\n",
      "\n",
      "For details about installing the optional dependencies, please visit:\n",
      "    https://docs.monai.io/en/latest/installation.html#installing-the-recommended-dependencies\n",
      "\n"
     ]
    }
   ],
   "source": [
    "repl.install(show_locals=False)\n",
    "console = get_console()\n",
    "logger = get_logger(\"rtk.notebook\")\n",
    "monai.config.print_config()"
   ]
  },
  {
   "cell_type": "markdown",
   "metadata": {},
   "source": [
    "### Constant setup"
   ]
  },
  {
   "cell_type": "code",
   "execution_count": 41,
   "metadata": {},
   "outputs": [
    {
     "data": {
      "text/html": [
       "<pre style=\"white-space:pre;overflow-x:auto;line-height:normal;font-family:Menlo,'DejaVu Sans Mono',consolas,'Courier New',monospace\"><span style=\"color: #008000; text-decoration-color: #008000\">'/home/nicoleg/workspaces/ResearchToolKit/configs'</span>\n",
       "</pre>\n"
      ],
      "text/plain": [
       "\u001b[32m'/home/nicoleg/workspaces/ResearchToolKit/configs'\u001b[0m\n"
      ]
     },
     "metadata": {},
     "output_type": "display_data"
    }
   ],
   "source": [
    "# configs\n",
    "config_name = \"tests\"\n",
    "config_path = \"../configs/\"\n",
    "config_dir = os.path.abspath(config_path)\n",
    "config_dir"
   ]
  },
  {
   "cell_type": "code",
   "execution_count": 42,
   "metadata": {},
   "outputs": [
    {
     "data": {
      "text/html": [
       "<pre style=\"white-space:pre;overflow-x:auto;line-height:normal;font-family:Menlo,'DejaVu Sans Mono',consolas,'Courier New',monospace\"><span style=\"color: #7fbfbf; text-decoration-color: #7fbfbf\">[14:33:22] </span><span style=\"color: #000080; text-decoration-color: #000080\">INFO    </span> rtk.config: Creating configuration: <span style=\"color: #008000; text-decoration-color: #008000\">'tests'</span>                                       <a href=\"file:///home/nicoleg/workspaces/ResearchToolKit/rtk/config.py\" target=\"_blank\"><span style=\"color: #7f7f7f; text-decoration-color: #7f7f7f\">config.py</span></a><span style=\"color: #7f7f7f; text-decoration-color: #7f7f7f\">:</span><a href=\"file:///home/nicoleg/workspaces/ResearchToolKit/rtk/config.py#292\" target=\"_blank\"><span style=\"color: #7f7f7f; text-decoration-color: #7f7f7f\">292</span></a>\n",
       "<span style=\"color: #7fbfbf; text-decoration-color: #7fbfbf\">           </span>         \u001b<span style=\"font-weight: bold\">[</span>0m                                                                               <span style=\"color: #7f7f7f; text-decoration-color: #7f7f7f\">             </span>\n",
       "</pre>\n"
      ],
      "text/plain": [
       "\u001b[2;36m[14:33:22]\u001b[0m\u001b[2;36m \u001b[0m\u001b[34mINFO    \u001b[0m rtk.config: Creating configuration: \u001b[32m'tests'\u001b[0m                                       \u001b]8;id=288389;file:///home/nicoleg/workspaces/ResearchToolKit/rtk/config.py\u001b\\\u001b[2mconfig.py\u001b[0m\u001b]8;;\u001b\\\u001b[2m:\u001b[0m\u001b]8;id=256787;file:///home/nicoleg/workspaces/ResearchToolKit/rtk/config.py#292\u001b\\\u001b[2m292\u001b[0m\u001b]8;;\u001b\\\n",
       "\u001b[2;36m           \u001b[0m         \u001b\u001b[1m[\u001b[0m0m                                                                               \u001b[2m             \u001b[0m\n"
      ]
     },
     "metadata": {},
     "output_type": "display_data"
    },
    {
     "data": {
      "text/html": [
       "<pre style=\"white-space:pre;overflow-x:auto;line-height:normal;font-family:Menlo,'DejaVu Sans Mono',consolas,'Courier New',monospace\">\n",
       "<span style=\"color: #800080; text-decoration-color: #800080; font-weight: bold\">Configuration</span><span style=\"font-weight: bold\">(</span>\n",
       "    <span style=\"color: #808000; text-decoration-color: #808000\">date</span>=<span style=\"color: #008000; text-decoration-color: #008000\">'2023-11-06'</span>,\n",
       "    <span style=\"color: #808000; text-decoration-color: #808000\">postfix</span>=<span style=\"color: #008000; text-decoration-color: #008000\">''</span>,\n",
       "    <span style=\"color: #808000; text-decoration-color: #808000\">timestamp</span>=<span style=\"color: #008000; text-decoration-color: #008000\">'14-33-22'</span>,\n",
       "    <span style=\"color: #808000; text-decoration-color: #808000\">datasets</span>=<span style=\"font-weight: bold\">{</span><span style=\"color: #008000; text-decoration-color: #008000\">'dim'</span>: <span style=\"color: #008080; text-decoration-color: #008080; font-weight: bold\">229</span>, <span style=\"color: #008000; text-decoration-color: #008000\">'extension'</span>: <span style=\"color: #008000; text-decoration-color: #008000\">'.png'</span>, <span style=\"color: #008000; text-decoration-color: #008000\">'index'</span>: <span style=\"color: #008000; text-decoration-color: #008000\">'Image Index'</span>, <span style=\"color: #008000; text-decoration-color: #008000\">'labels'</span>: <span style=\"font-weight: bold\">[</span><span style=\"color: #008000; text-decoration-color: #008000\">'Non-Pneumonia'</span>, <span style=\"color: #008000; text-decoration-color: #008000\">'Pneumonia'</span><span style=\"font-weight: bold\">]</span>, <span style=\"color: #008000; text-decoration-color: #008000\">'target'</span>: <span style=\"color: #008000; text-decoration-color: #008000\">'Finding Labels'</span>, <span style=\"color: #008000; text-decoration-color: #008000\">'patient_data'</span>: <span style=\"color: #008000; text-decoration-color: #008000\">'/home/nicoleg/workspaces/dissertation/.data/Chest_XRay_14_Kaggle_RGB/Data_Entry_2017.csv'</span>, <span style=\"color: #008000; text-decoration-color: #008000\">'scan_data'</span>: <span style=\"color: #008000; text-decoration-color: #008000\">'/home/nicoleg/workspaces/dissertation/.data/Chest_XRay_14_Kaggle_RGB/'</span>, <span style=\"color: #008000; text-decoration-color: #008000\">'encoding'</span>: <span style=\"font-weight: bold\">{</span><span style=\"color: #008000; text-decoration-color: #008000\">'Non-Pneumonia'</span>: <span style=\"color: #008080; text-decoration-color: #008080; font-weight: bold\">0</span>, <span style=\"color: #008000; text-decoration-color: #008000\">'Pneumonia'</span>: <span style=\"color: #008080; text-decoration-color: #008080; font-weight: bold\">1</span><span style=\"font-weight: bold\">}</span>, <span style=\"color: #008000; text-decoration-color: #008000\">'instantiate'</span>: <span style=\"font-weight: bold\">{</span><span style=\"color: #008000; text-decoration-color: #008000\">'_target_'</span>: <span style=\"color: #008000; text-decoration-color: #008000\">'monai.data.ImageDataset'</span><span style=\"font-weight: bold\">}</span>, <span style=\"color: #008000; text-decoration-color: #008000\">'dataloader'</span>: <span style=\"font-weight: bold\">{</span><span style=\"color: #008000; text-decoration-color: #008000\">'_target_'</span>: <span style=\"color: #008000; text-decoration-color: #008000\">'monai.data.ThreadDataLoader'</span>, <span style=\"color: #008000; text-decoration-color: #008000\">'batch_size'</span>: <span style=\"color: #008080; text-decoration-color: #008080; font-weight: bold\">16</span>, <span style=\"color: #008000; text-decoration-color: #008000\">'num_workers'</span>: <span style=\"color: #008080; text-decoration-color: #008080; font-weight: bold\">24</span><span style=\"font-weight: bold\">}</span>, <span style=\"color: #008000; text-decoration-color: #008000\">'preprocessing'</span>: <span style=\"font-weight: bold\">{</span><span style=\"color: #008000; text-decoration-color: #008000\">'positive_class'</span>: <span style=\"color: #008000; text-decoration-color: #008000\">'Pneumonia'</span>, <span style=\"color: #008000; text-decoration-color: #008000\">'subset'</span>: <span style=\"font-weight: bold\">[</span><span style=\"color: #008000; text-decoration-color: #008000\">'Atelectasis'</span>, <span style=\"color: #008000; text-decoration-color: #008000\">'Edema'</span>, <span style=\"color: #008000; text-decoration-color: #008000\">'Effusion'</span>, <span style=\"color: #008000; text-decoration-color: #008000\">'Consolidation'</span>, <span style=\"color: #008000; text-decoration-color: #008000\">'Pneumonia'</span><span style=\"font-weight: bold\">]</span>, <span style=\"color: #008000; text-decoration-color: #008000\">'use_sampling'</span>: <span style=\"color: #00ff00; text-decoration-color: #00ff00; font-style: italic\">True</span>, <span style=\"color: #008000; text-decoration-color: #008000\">'sampling_method'</span>: <span style=\"font-weight: bold\">{</span><span style=\"color: #008000; text-decoration-color: #008000\">'sample_to_value'</span>: <span style=\"color: #008080; text-decoration-color: #008080; font-weight: bold\">5000</span>, <span style=\"color: #008000; text-decoration-color: #008000\">'method'</span>: <span style=\"font-weight: bold\">{</span><span style=\"color: #008000; text-decoration-color: #008000\">'_partial_'</span>: <span style=\"color: #00ff00; text-decoration-color: #00ff00; font-style: italic\">True</span>, <span style=\"color: #008000; text-decoration-color: #008000\">'_target_'</span>: <span style=\"color: #008000; text-decoration-color: #008000\">'imblearn.datasets.make_imbalance'</span>, <span style=\"color: #008000; text-decoration-color: #008000\">'verbose'</span>: <span style=\"color: #00ff00; text-decoration-color: #00ff00; font-style: italic\">True</span><span style=\"font-weight: bold\">}}}</span>, <span style=\"color: #008000; text-decoration-color: #008000\">'transforms'</span>: <span style=\"font-weight: bold\">{</span><span style=\"color: #008000; text-decoration-color: #008000\">'load'</span>: <span style=\"font-weight: bold\">[{</span><span style=\"color: #008000; text-decoration-color: #008000\">'_target_'</span>: <span style=\"color: #008000; text-decoration-color: #008000\">'monai.transforms.ScaleIntensity'</span><span style=\"font-weight: bold\">}</span>, <span style=\"font-weight: bold\">{</span><span style=\"color: #008000; text-decoration-color: #008000\">'_target_'</span>: <span style=\"color: #008000; text-decoration-color: #008000\">'monai.transforms.EnsureChannelFirst'</span><span style=\"font-weight: bold\">}</span>, <span style=\"font-weight: bold\">{</span><span style=\"color: #008000; text-decoration-color: #008000\">'_target_'</span>: <span style=\"color: #008000; text-decoration-color: #008000\">'monai.transforms.EnsureType'</span>, <span style=\"color: #008000; text-decoration-color: #008000\">'track_meta'</span>: <span style=\"color: #00ff00; text-decoration-color: #00ff00; font-style: italic\">True</span><span style=\"font-weight: bold\">}</span>, <span style=\"font-weight: bold\">{</span><span style=\"color: #008000; text-decoration-color: #008000\">'_target_'</span>: <span style=\"color: #008000; text-decoration-color: #008000\">'monai.transforms.Resize'</span>, <span style=\"color: #008000; text-decoration-color: #008000\">'spatial_size'</span>: <span style=\"font-weight: bold\">[</span><span style=\"color: #008000; text-decoration-color: #008000\">'${datasets.dim}'</span>, <span style=\"color: #008000; text-decoration-color: #008000\">'${datasets.dim}'</span><span style=\"font-weight: bold\">]}]</span>, <span style=\"color: #008000; text-decoration-color: #008000\">'train'</span>: <span style=\"font-weight: bold\">[{</span><span style=\"color: #008000; text-decoration-color: #008000\">'_target_'</span>: <span style=\"color: #008000; text-decoration-color: #008000\">'torchvision.transforms.RandomResizedCrop'</span>, <span style=\"color: #008000; text-decoration-color: #008000\">'scale'</span>: <span style=\"font-weight: bold\">[</span><span style=\"color: #008080; text-decoration-color: #008080; font-weight: bold\">0.75</span>, <span style=\"color: #008080; text-decoration-color: #008080; font-weight: bold\">1.25</span><span style=\"font-weight: bold\">]</span>, <span style=\"color: #008000; text-decoration-color: #008000\">'size'</span>: <span style=\"font-weight: bold\">[</span><span style=\"color: #008000; text-decoration-color: #008000\">'${datasets.dim}'</span>, <span style=\"color: #008000; text-decoration-color: #008000\">'${datasets.dim}'</span><span style=\"font-weight: bold\">]</span>, <span style=\"color: #008000; text-decoration-color: #008000\">'antialias'</span>: <span style=\"color: #00ff00; text-decoration-color: #00ff00; font-style: italic\">True</span><span style=\"font-weight: bold\">}</span>, <span style=\"font-weight: bold\">{</span><span style=\"color: #008000; text-decoration-color: #008000\">'_target_'</span>: <span style=\"color: #008000; text-decoration-color: #008000\">'torchvision.transforms.RandomAffine'</span>, <span style=\"color: #008000; text-decoration-color: #008000\">'degrees'</span>: <span style=\"color: #008080; text-decoration-color: #008080; font-weight: bold\">45</span>, <span style=\"color: #008000; text-decoration-color: #008000\">'shear'</span>: <span style=\"color: #008080; text-decoration-color: #008080; font-weight: bold\">16</span>, <span style=\"color: #008000; text-decoration-color: #008000\">'translate'</span>: <span style=\"font-weight: bold\">[</span><span style=\"color: #008080; text-decoration-color: #008080; font-weight: bold\">0.15</span>, <span style=\"color: #008080; text-decoration-color: #008080; font-weight: bold\">0.2</span><span style=\"font-weight: bold\">]}]}}</span>,\n",
       "    <span style=\"color: #808000; text-decoration-color: #808000\">job</span>=<span style=\"font-weight: bold\">{</span><span style=\"color: #008000; text-decoration-color: #008000\">'device'</span>: <span style=\"color: #008080; text-decoration-color: #008080; font-weight: bold\">1</span>, <span style=\"color: #008000; text-decoration-color: #008000\">'dry_run'</span>: <span style=\"color: #00ff00; text-decoration-color: #00ff00; font-style: italic\">True</span>, <span style=\"color: #008000; text-decoration-color: #008000\">'epoch_length'</span>: <span style=\"color: #008080; text-decoration-color: #008080; font-weight: bold\">8</span>, <span style=\"color: #008000; text-decoration-color: #008000\">'max_epochs'</span>: <span style=\"color: #008080; text-decoration-color: #008080; font-weight: bold\">2</span>, <span style=\"color: #008000; text-decoration-color: #008000\">'mode'</span>: <span style=\"color: #008000; text-decoration-color: #008000\">'train'</span>, <span style=\"color: #008000; text-decoration-color: #008000\">'perform_validation'</span>: <span style=\"color: #00ff00; text-decoration-color: #00ff00; font-style: italic\">True</span>, <span style=\"color: #008000; text-decoration-color: #008000\">'random_state'</span>: <span style=\"color: #008080; text-decoration-color: #008080; font-weight: bold\">42</span>, <span style=\"color: #008000; text-decoration-color: #008000\">'set_track_meta'</span>: <span style=\"color: #ff0000; text-decoration-color: #ff0000; font-style: italic\">False</span>, <span style=\"color: #008000; text-decoration-color: #008000\">'use_autocast'</span>: <span style=\"color: #00ff00; text-decoration-color: #00ff00; font-style: italic\">True</span>, <span style=\"color: #008000; text-decoration-color: #008000\">'use_azureml'</span>: <span style=\"color: #00ff00; text-decoration-color: #00ff00; font-style: italic\">True</span>, <span style=\"color: #008000; text-decoration-color: #008000\">'use_mlflow'</span>: <span style=\"color: #00ff00; text-decoration-color: #00ff00; font-style: italic\">True</span>, <span style=\"color: #008000; text-decoration-color: #008000\">'use_pretrained'</span>: <span style=\"color: #00ff00; text-decoration-color: #00ff00; font-style: italic\">True</span>, <span style=\"color: #008000; text-decoration-color: #008000\">'use_transforms'</span>: <span style=\"color: #00ff00; text-decoration-color: #00ff00; font-style: italic\">True</span>, <span style=\"color: #008000; text-decoration-color: #008000\">'train_test_split'</span>: <span style=\"font-weight: bold\">{</span><span style=\"color: #008000; text-decoration-color: #008000\">'shuffle'</span>: <span style=\"color: #00ff00; text-decoration-color: #00ff00; font-style: italic\">True</span>, <span style=\"color: #008000; text-decoration-color: #008000\">'test_size'</span>: <span style=\"color: #008080; text-decoration-color: #008080; font-weight: bold\">0.1</span><span style=\"font-weight: bold\">}</span>, <span style=\"color: #008000; text-decoration-color: #008000\">'prepare_function'</span>: <span style=\"font-weight: bold\">{</span><span style=\"color: #008000; text-decoration-color: #008000\">'_target_'</span>: <span style=\"color: #008000; text-decoration-color: #008000\">'rtk.ignite.prepare_run'</span><span style=\"font-weight: bold\">}</span>, <span style=\"color: #008000; text-decoration-color: #008000\">'tags'</span>: <span style=\"font-weight: bold\">{</span><span style=\"color: #008000; text-decoration-color: #008000\">'type'</span>: <span style=\"color: #008000; text-decoration-color: #008000\">'test'</span><span style=\"font-weight: bold\">}}</span>,\n",
       "    <span style=\"color: #808000; text-decoration-color: #808000\">models</span>=<span style=\"font-weight: bold\">{</span><span style=\"color: #008000; text-decoration-color: #008000\">'model'</span>: <span style=\"font-weight: bold\">{</span><span style=\"color: #008000; text-decoration-color: #008000\">'_target_'</span>: <span style=\"color: #008000; text-decoration-color: #008000\">'timm.create_model'</span>, <span style=\"color: #008000; text-decoration-color: #008000\">'model_name'</span>: <span style=\"color: #008000; text-decoration-color: #008000\">'resnet50'</span>, <span style=\"color: #008000; text-decoration-color: #008000\">'num_classes'</span>: <span style=\"color: #008080; text-decoration-color: #008080; font-weight: bold\">2</span>, <span style=\"color: #008000; text-decoration-color: #008000\">'pretrained'</span>: <span style=\"color: #008000; text-decoration-color: #008000\">'${job.use_pretrained}'</span><span style=\"font-weight: bold\">}</span>, <span style=\"color: #008000; text-decoration-color: #008000\">'load_model'</span>: <span style=\"font-weight: bold\">{</span><span style=\"color: #008000; text-decoration-color: #008000\">'name'</span>: <span style=\"color: #008000; text-decoration-color: #008000\">'resnet50_PEDIATRICS_CHESTXRAY14'</span>, <span style=\"color: #008000; text-decoration-color: #008000\">'version'</span>: <span style=\"color: #008080; text-decoration-color: #008080; font-weight: bold\">1</span><span style=\"font-weight: bold\">}</span>, <span style=\"color: #008000; text-decoration-color: #008000\">'criterion'</span>: <span style=\"font-weight: bold\">{</span><span style=\"color: #008000; text-decoration-color: #008000\">'_target_'</span>: <span style=\"color: #008000; text-decoration-color: #008000\">'torch.nn.CrossEntropyLoss'</span><span style=\"font-weight: bold\">}</span>, <span style=\"color: #008000; text-decoration-color: #008000\">'optimizer'</span>: <span style=\"font-weight: bold\">{</span><span style=\"color: #008000; text-decoration-color: #008000\">'_target_'</span>: <span style=\"color: #008000; text-decoration-color: #008000\">'torch.optim.Adam'</span>, <span style=\"color: #008000; text-decoration-color: #008000\">'lr'</span>: <span style=\"color: #008080; text-decoration-color: #008080; font-weight: bold\">1e-05</span>, <span style=\"color: #008000; text-decoration-color: #008000\">'weight_decay'</span>: <span style=\"color: #008080; text-decoration-color: #008080; font-weight: bold\">0.01</span><span style=\"font-weight: bold\">}}</span>,\n",
       "    <span style=\"color: #808000; text-decoration-color: #808000\">ignite</span>=<span style=\"font-weight: bold\">{</span><span style=\"color: #008000; text-decoration-color: #008000\">'log_interval'</span>: <span style=\"color: #008080; text-decoration-color: #008080; font-weight: bold\">5</span>, <span style=\"color: #008000; text-decoration-color: #008000\">'score_name'</span>: <span style=\"color: #008000; text-decoration-color: #008000\">'loss'</span>, <span style=\"color: #008000; text-decoration-color: #008000\">'use_checkpoint'</span>: <span style=\"color: #00ff00; text-decoration-color: #00ff00; font-style: italic\">True</span>, <span style=\"color: #008000; text-decoration-color: #008000\">'use_early_stopping'</span>: <span style=\"color: #00ff00; text-decoration-color: #00ff00; font-style: italic\">True</span>, <span style=\"color: #008000; text-decoration-color: #008000\">'use_lr_scheduler'</span>: <span style=\"color: #ff0000; text-decoration-color: #ff0000; font-style: italic\">False</span>, <span style=\"color: #008000; text-decoration-color: #008000\">'use_multi_gpu'</span>: <span style=\"color: #ff0000; text-decoration-color: #ff0000; font-style: italic\">False</span>, <span style=\"color: #008000; text-decoration-color: #008000\">'metrics'</span>: <span style=\"font-weight: bold\">{</span><span style=\"color: #008000; text-decoration-color: #008000\">'Accuracy'</span>: <span style=\"color: #800080; text-decoration-color: #800080; font-style: italic\">None</span>, <span style=\"color: #008000; text-decoration-color: #008000\">'Loss'</span>: <span style=\"color: #800080; text-decoration-color: #800080; font-style: italic\">None</span>, <span style=\"color: #008000; text-decoration-color: #008000\">'Predictions'</span>: <span style=\"color: #800080; text-decoration-color: #800080; font-style: italic\">None</span><span style=\"font-weight: bold\">}</span>, <span style=\"color: #008000; text-decoration-color: #008000\">'checkpoint'</span>: <span style=\"font-weight: bold\">{</span><span style=\"color: #008000; text-decoration-color: #008000\">'_target_'</span>: <span style=\"color: #008000; text-decoration-color: #008000\">'ignite.handlers.checkpoint.Checkpoint'</span>, <span style=\"color: #008000; text-decoration-color: #008000\">'save_handler'</span>: <span style=\"color: #008000; text-decoration-color: #008000\">'artifacts/checkpoints/'</span>, <span style=\"color: #008000; text-decoration-color: #008000\">'filename_prefix'</span>: <span style=\"color: #008000; text-decoration-color: #008000\">'best'</span>, <span style=\"color: #008000; text-decoration-color: #008000\">'n_saved'</span>: <span style=\"color: #008080; text-decoration-color: #008080; font-weight: bold\">10</span><span style=\"font-weight: bold\">}</span>, <span style=\"color: #008000; text-decoration-color: #008000\">'early_stopping'</span>: <span style=\"font-weight: bold\">{</span><span style=\"color: #008000; text-decoration-color: #008000\">'_target_'</span>: <span style=\"color: #008000; text-decoration-color: #008000\">'ignite.handlers.early_stopping.EarlyStopping'</span>, <span style=\"color: #008000; text-decoration-color: #008000\">'patience'</span>: <span style=\"color: #008080; text-decoration-color: #008080; font-weight: bold\">5</span><span style=\"font-weight: bold\">}</span>, <span style=\"color: #008000; text-decoration-color: #008000\">'lr_scheduler'</span>: <span style=\"color: #800080; text-decoration-color: #800080; font-style: italic\">None</span><span style=\"font-weight: bold\">}</span>,\n",
       "    <span style=\"color: #808000; text-decoration-color: #808000\">mlflow</span>=<span style=\"font-weight: bold\">{</span><span style=\"color: #008000; text-decoration-color: #008000\">'tracking_uri'</span>: <span style=\"color: #008000; text-decoration-color: #008000\">'file:///mlruns/'</span><span style=\"font-weight: bold\">}</span>,\n",
       "    <span style=\"color: #808000; text-decoration-color: #808000\">sklearn</span>=<span style=\"font-weight: bold\">{</span><span style=\"color: #008000; text-decoration-color: #008000\">'model_selection'</span>: <span style=\"font-weight: bold\">{</span><span style=\"color: #008000; text-decoration-color: #008000\">'train_test_split'</span>: <span style=\"font-weight: bold\">{</span><span style=\"color: #008000; text-decoration-color: #008000\">'shuffle'</span>: <span style=\"color: #00ff00; text-decoration-color: #00ff00; font-style: italic\">True</span>, <span style=\"color: #008000; text-decoration-color: #008000\">'test_size'</span>: <span style=\"color: #008080; text-decoration-color: #008080; font-weight: bold\">0.1</span><span style=\"font-weight: bold\">}}}</span>\n",
       "<span style=\"font-weight: bold\">)</span>\n",
       "</pre>\n"
      ],
      "text/plain": [
       "\n",
       "\u001b[1;35mConfiguration\u001b[0m\u001b[1m(\u001b[0m\n",
       "    \u001b[33mdate\u001b[0m=\u001b[32m'2023-11-06'\u001b[0m,\n",
       "    \u001b[33mpostfix\u001b[0m=\u001b[32m''\u001b[0m,\n",
       "    \u001b[33mtimestamp\u001b[0m=\u001b[32m'14-33-22'\u001b[0m,\n",
       "    \u001b[33mdatasets\u001b[0m=\u001b[1m{\u001b[0m\u001b[32m'dim'\u001b[0m: \u001b[1;36m229\u001b[0m, \u001b[32m'extension'\u001b[0m: \u001b[32m'.png'\u001b[0m, \u001b[32m'index'\u001b[0m: \u001b[32m'Image Index'\u001b[0m, \u001b[32m'labels'\u001b[0m: \u001b[1m[\u001b[0m\u001b[32m'Non-Pneumonia'\u001b[0m, \u001b[32m'Pneumonia'\u001b[0m\u001b[1m]\u001b[0m, \u001b[32m'target'\u001b[0m: \u001b[32m'Finding Labels'\u001b[0m, \u001b[32m'patient_data'\u001b[0m: \u001b[32m'/home/nicoleg/workspaces/dissertation/.data/Chest_XRay_14_Kaggle_RGB/Data_Entry_2017.csv'\u001b[0m, \u001b[32m'scan_data'\u001b[0m: \u001b[32m'/home/nicoleg/workspaces/dissertation/.data/Chest_XRay_14_Kaggle_RGB/'\u001b[0m, \u001b[32m'encoding'\u001b[0m: \u001b[1m{\u001b[0m\u001b[32m'Non-Pneumonia'\u001b[0m: \u001b[1;36m0\u001b[0m, \u001b[32m'Pneumonia'\u001b[0m: \u001b[1;36m1\u001b[0m\u001b[1m}\u001b[0m, \u001b[32m'instantiate'\u001b[0m: \u001b[1m{\u001b[0m\u001b[32m'_target_'\u001b[0m: \u001b[32m'monai.data.ImageDataset'\u001b[0m\u001b[1m}\u001b[0m, \u001b[32m'dataloader'\u001b[0m: \u001b[1m{\u001b[0m\u001b[32m'_target_'\u001b[0m: \u001b[32m'monai.data.ThreadDataLoader'\u001b[0m, \u001b[32m'batch_size'\u001b[0m: \u001b[1;36m16\u001b[0m, \u001b[32m'num_workers'\u001b[0m: \u001b[1;36m24\u001b[0m\u001b[1m}\u001b[0m, \u001b[32m'preprocessing'\u001b[0m: \u001b[1m{\u001b[0m\u001b[32m'positive_class'\u001b[0m: \u001b[32m'Pneumonia'\u001b[0m, \u001b[32m'subset'\u001b[0m: \u001b[1m[\u001b[0m\u001b[32m'Atelectasis'\u001b[0m, \u001b[32m'Edema'\u001b[0m, \u001b[32m'Effusion'\u001b[0m, \u001b[32m'Consolidation'\u001b[0m, \u001b[32m'Pneumonia'\u001b[0m\u001b[1m]\u001b[0m, \u001b[32m'use_sampling'\u001b[0m: \u001b[3;92mTrue\u001b[0m, \u001b[32m'sampling_method'\u001b[0m: \u001b[1m{\u001b[0m\u001b[32m'sample_to_value'\u001b[0m: \u001b[1;36m5000\u001b[0m, \u001b[32m'method'\u001b[0m: \u001b[1m{\u001b[0m\u001b[32m'_partial_'\u001b[0m: \u001b[3;92mTrue\u001b[0m, \u001b[32m'_target_'\u001b[0m: \u001b[32m'imblearn.datasets.make_imbalance'\u001b[0m, \u001b[32m'verbose'\u001b[0m: \u001b[3;92mTrue\u001b[0m\u001b[1m}\u001b[0m\u001b[1m}\u001b[0m\u001b[1m}\u001b[0m, \u001b[32m'transforms'\u001b[0m: \u001b[1m{\u001b[0m\u001b[32m'load'\u001b[0m: \u001b[1m[\u001b[0m\u001b[1m{\u001b[0m\u001b[32m'_target_'\u001b[0m: \u001b[32m'monai.transforms.ScaleIntensity'\u001b[0m\u001b[1m}\u001b[0m, \u001b[1m{\u001b[0m\u001b[32m'_target_'\u001b[0m: \u001b[32m'monai.transforms.EnsureChannelFirst'\u001b[0m\u001b[1m}\u001b[0m, \u001b[1m{\u001b[0m\u001b[32m'_target_'\u001b[0m: \u001b[32m'monai.transforms.EnsureType'\u001b[0m, \u001b[32m'track_meta'\u001b[0m: \u001b[3;92mTrue\u001b[0m\u001b[1m}\u001b[0m, \u001b[1m{\u001b[0m\u001b[32m'_target_'\u001b[0m: \u001b[32m'monai.transforms.Resize'\u001b[0m, \u001b[32m'spatial_size'\u001b[0m: \u001b[1m[\u001b[0m\u001b[32m'$\u001b[0m\u001b[32m{\u001b[0m\u001b[32mdatasets.dim\u001b[0m\u001b[32m}\u001b[0m\u001b[32m'\u001b[0m, \u001b[32m'$\u001b[0m\u001b[32m{\u001b[0m\u001b[32mdatasets.dim\u001b[0m\u001b[32m}\u001b[0m\u001b[32m'\u001b[0m\u001b[1m]\u001b[0m\u001b[1m}\u001b[0m\u001b[1m]\u001b[0m, \u001b[32m'train'\u001b[0m: \u001b[1m[\u001b[0m\u001b[1m{\u001b[0m\u001b[32m'_target_'\u001b[0m: \u001b[32m'torchvision.transforms.RandomResizedCrop'\u001b[0m, \u001b[32m'scale'\u001b[0m: \u001b[1m[\u001b[0m\u001b[1;36m0.75\u001b[0m, \u001b[1;36m1.25\u001b[0m\u001b[1m]\u001b[0m, \u001b[32m'size'\u001b[0m: \u001b[1m[\u001b[0m\u001b[32m'$\u001b[0m\u001b[32m{\u001b[0m\u001b[32mdatasets.dim\u001b[0m\u001b[32m}\u001b[0m\u001b[32m'\u001b[0m, \u001b[32m'$\u001b[0m\u001b[32m{\u001b[0m\u001b[32mdatasets.dim\u001b[0m\u001b[32m}\u001b[0m\u001b[32m'\u001b[0m\u001b[1m]\u001b[0m, \u001b[32m'antialias'\u001b[0m: \u001b[3;92mTrue\u001b[0m\u001b[1m}\u001b[0m, \u001b[1m{\u001b[0m\u001b[32m'_target_'\u001b[0m: \u001b[32m'torchvision.transforms.RandomAffine'\u001b[0m, \u001b[32m'degrees'\u001b[0m: \u001b[1;36m45\u001b[0m, \u001b[32m'shear'\u001b[0m: \u001b[1;36m16\u001b[0m, \u001b[32m'translate'\u001b[0m: \u001b[1m[\u001b[0m\u001b[1;36m0.15\u001b[0m, \u001b[1;36m0.2\u001b[0m\u001b[1m]\u001b[0m\u001b[1m}\u001b[0m\u001b[1m]\u001b[0m\u001b[1m}\u001b[0m\u001b[1m}\u001b[0m,\n",
       "    \u001b[33mjob\u001b[0m=\u001b[1m{\u001b[0m\u001b[32m'device'\u001b[0m: \u001b[1;36m1\u001b[0m, \u001b[32m'dry_run'\u001b[0m: \u001b[3;92mTrue\u001b[0m, \u001b[32m'epoch_length'\u001b[0m: \u001b[1;36m8\u001b[0m, \u001b[32m'max_epochs'\u001b[0m: \u001b[1;36m2\u001b[0m, \u001b[32m'mode'\u001b[0m: \u001b[32m'train'\u001b[0m, \u001b[32m'perform_validation'\u001b[0m: \u001b[3;92mTrue\u001b[0m, \u001b[32m'random_state'\u001b[0m: \u001b[1;36m42\u001b[0m, \u001b[32m'set_track_meta'\u001b[0m: \u001b[3;91mFalse\u001b[0m, \u001b[32m'use_autocast'\u001b[0m: \u001b[3;92mTrue\u001b[0m, \u001b[32m'use_azureml'\u001b[0m: \u001b[3;92mTrue\u001b[0m, \u001b[32m'use_mlflow'\u001b[0m: \u001b[3;92mTrue\u001b[0m, \u001b[32m'use_pretrained'\u001b[0m: \u001b[3;92mTrue\u001b[0m, \u001b[32m'use_transforms'\u001b[0m: \u001b[3;92mTrue\u001b[0m, \u001b[32m'train_test_split'\u001b[0m: \u001b[1m{\u001b[0m\u001b[32m'shuffle'\u001b[0m: \u001b[3;92mTrue\u001b[0m, \u001b[32m'test_size'\u001b[0m: \u001b[1;36m0.1\u001b[0m\u001b[1m}\u001b[0m, \u001b[32m'prepare_function'\u001b[0m: \u001b[1m{\u001b[0m\u001b[32m'_target_'\u001b[0m: \u001b[32m'rtk.ignite.prepare_run'\u001b[0m\u001b[1m}\u001b[0m, \u001b[32m'tags'\u001b[0m: \u001b[1m{\u001b[0m\u001b[32m'type'\u001b[0m: \u001b[32m'test'\u001b[0m\u001b[1m}\u001b[0m\u001b[1m}\u001b[0m,\n",
       "    \u001b[33mmodels\u001b[0m=\u001b[1m{\u001b[0m\u001b[32m'model'\u001b[0m: \u001b[1m{\u001b[0m\u001b[32m'_target_'\u001b[0m: \u001b[32m'timm.create_model'\u001b[0m, \u001b[32m'model_name'\u001b[0m: \u001b[32m'resnet50'\u001b[0m, \u001b[32m'num_classes'\u001b[0m: \u001b[1;36m2\u001b[0m, \u001b[32m'pretrained'\u001b[0m: \u001b[32m'$\u001b[0m\u001b[32m{\u001b[0m\u001b[32mjob.use_pretrained\u001b[0m\u001b[32m}\u001b[0m\u001b[32m'\u001b[0m\u001b[1m}\u001b[0m, \u001b[32m'load_model'\u001b[0m: \u001b[1m{\u001b[0m\u001b[32m'name'\u001b[0m: \u001b[32m'resnet50_PEDIATRICS_CHESTXRAY14'\u001b[0m, \u001b[32m'version'\u001b[0m: \u001b[1;36m1\u001b[0m\u001b[1m}\u001b[0m, \u001b[32m'criterion'\u001b[0m: \u001b[1m{\u001b[0m\u001b[32m'_target_'\u001b[0m: \u001b[32m'torch.nn.CrossEntropyLoss'\u001b[0m\u001b[1m}\u001b[0m, \u001b[32m'optimizer'\u001b[0m: \u001b[1m{\u001b[0m\u001b[32m'_target_'\u001b[0m: \u001b[32m'torch.optim.Adam'\u001b[0m, \u001b[32m'lr'\u001b[0m: \u001b[1;36m1e-05\u001b[0m, \u001b[32m'weight_decay'\u001b[0m: \u001b[1;36m0.01\u001b[0m\u001b[1m}\u001b[0m\u001b[1m}\u001b[0m,\n",
       "    \u001b[33mignite\u001b[0m=\u001b[1m{\u001b[0m\u001b[32m'log_interval'\u001b[0m: \u001b[1;36m5\u001b[0m, \u001b[32m'score_name'\u001b[0m: \u001b[32m'loss'\u001b[0m, \u001b[32m'use_checkpoint'\u001b[0m: \u001b[3;92mTrue\u001b[0m, \u001b[32m'use_early_stopping'\u001b[0m: \u001b[3;92mTrue\u001b[0m, \u001b[32m'use_lr_scheduler'\u001b[0m: \u001b[3;91mFalse\u001b[0m, \u001b[32m'use_multi_gpu'\u001b[0m: \u001b[3;91mFalse\u001b[0m, \u001b[32m'metrics'\u001b[0m: \u001b[1m{\u001b[0m\u001b[32m'Accuracy'\u001b[0m: \u001b[3;35mNone\u001b[0m, \u001b[32m'Loss'\u001b[0m: \u001b[3;35mNone\u001b[0m, \u001b[32m'Predictions'\u001b[0m: \u001b[3;35mNone\u001b[0m\u001b[1m}\u001b[0m, \u001b[32m'checkpoint'\u001b[0m: \u001b[1m{\u001b[0m\u001b[32m'_target_'\u001b[0m: \u001b[32m'ignite.handlers.checkpoint.Checkpoint'\u001b[0m, \u001b[32m'save_handler'\u001b[0m: \u001b[32m'artifacts/checkpoints/'\u001b[0m, \u001b[32m'filename_prefix'\u001b[0m: \u001b[32m'best'\u001b[0m, \u001b[32m'n_saved'\u001b[0m: \u001b[1;36m10\u001b[0m\u001b[1m}\u001b[0m, \u001b[32m'early_stopping'\u001b[0m: \u001b[1m{\u001b[0m\u001b[32m'_target_'\u001b[0m: \u001b[32m'ignite.handlers.early_stopping.EarlyStopping'\u001b[0m, \u001b[32m'patience'\u001b[0m: \u001b[1;36m5\u001b[0m\u001b[1m}\u001b[0m, \u001b[32m'lr_scheduler'\u001b[0m: \u001b[3;35mNone\u001b[0m\u001b[1m}\u001b[0m,\n",
       "    \u001b[33mmlflow\u001b[0m=\u001b[1m{\u001b[0m\u001b[32m'tracking_uri'\u001b[0m: \u001b[32m'file:///mlruns/'\u001b[0m\u001b[1m}\u001b[0m,\n",
       "    \u001b[33msklearn\u001b[0m=\u001b[1m{\u001b[0m\u001b[32m'model_selection'\u001b[0m: \u001b[1m{\u001b[0m\u001b[32m'train_test_split'\u001b[0m: \u001b[1m{\u001b[0m\u001b[32m'shuffle'\u001b[0m: \u001b[3;92mTrue\u001b[0m, \u001b[32m'test_size'\u001b[0m: \u001b[1;36m0.1\u001b[0m\u001b[1m}\u001b[0m\u001b[1m}\u001b[0m\u001b[1m}\u001b[0m\n",
       "\u001b[1m)\u001b[0m\n"
      ]
     },
     "metadata": {},
     "output_type": "display_data"
    }
   ],
   "source": [
    "cfg: Configuration = set_hydra_configuration(\n",
    "        config_name=config_name,\n",
    "        init_method_kwargs={\"config_dir\": config_dir},\n",
    "        ConfigurationInstance=Configuration,\n",
    "    )\n",
    "dataset_cfg: DatasetConfiguration = cfg.datasets\n",
    "job_cfg: JobConfiguration = cfg.job\n",
    "monai.utils.set_determinism(seed=job_cfg.random_state)\n",
    "cfg"
   ]
  },
  {
   "cell_type": "code",
   "execution_count": 43,
   "metadata": {},
   "outputs": [
    {
     "data": {
      "text/html": [
       "<pre style=\"white-space:pre;overflow-x:auto;line-height:normal;font-family:Menlo,'DejaVu Sans Mono',consolas,'Courier New',monospace\"><span style=\"color: #008000; text-decoration-color: #008000\">'/home/nicoleg/workspaces/dissertation/.data/Chest_XRay_14_Kaggle_RGB/Data_Entry_2017.csv'</span>\n",
       "</pre>\n"
      ],
      "text/plain": [
       "\u001b[32m'/home/nicoleg/workspaces/dissertation/.data/Chest_XRay_14_Kaggle_RGB/Data_Entry_2017.csv'\u001b[0m\n"
      ]
     },
     "metadata": {},
     "output_type": "display_data"
    }
   ],
   "source": [
    "patient_path = dataset_cfg.patient_data\n",
    "patient_path"
   ]
  },
  {
   "cell_type": "code",
   "execution_count": 44,
   "metadata": {},
   "outputs": [
    {
     "data": {
      "text/html": [
       "<pre style=\"white-space:pre;overflow-x:auto;line-height:normal;font-family:Menlo,'DejaVu Sans Mono',consolas,'Courier New',monospace\"><span style=\"color: #008000; text-decoration-color: #008000\">'/home/nicoleg/workspaces/dissertation/.data/Chest_XRay_14_Kaggle/'</span>\n",
       "</pre>\n"
      ],
      "text/plain": [
       "\u001b[32m'/home/nicoleg/workspaces/dissertation/.data/Chest_XRay_14_Kaggle/'\u001b[0m\n"
      ]
     },
     "metadata": {},
     "output_type": "display_data"
    }
   ],
   "source": [
    "scan_path = \"/home/nicoleg/workspaces/dissertation/.data/Chest_XRay_14_Kaggle/\"\n",
    "scan_path"
   ]
  },
  {
   "cell_type": "code",
   "execution_count": 45,
   "metadata": {},
   "outputs": [],
   "source": [
    "# display single image\n",
    "# depth_slice = scan.shape[2] // 2\n",
    "# display_scan_slice = scan[:, :, depth_slice].numpy()\n",
    "# plt.imshow(display_scan_slice, cmap=\"bone\");"
   ]
  },
  {
   "cell_type": "markdown",
   "metadata": {},
   "source": [
    "# Exploration"
   ]
  },
  {
   "cell_type": "code",
   "execution_count": 46,
   "metadata": {},
   "outputs": [
    {
     "data": {
      "text/html": [
       "<pre style=\"white-space:pre;overflow-x:auto;line-height:normal;font-family:Menlo,'DejaVu Sans Mono',consolas,'Courier New',monospace\">\n",
       "<span style=\"font-weight: bold\">[</span>\n",
       "    <span style=\"color: #008000; text-decoration-color: #008000\">'00000096_001.png'</span>,\n",
       "    <span style=\"color: #008000; text-decoration-color: #008000\">'00001250_005.png'</span>,\n",
       "    <span style=\"color: #008000; text-decoration-color: #008000\">'00001220_000.png'</span>,\n",
       "    <span style=\"color: #008000; text-decoration-color: #008000\">'00000419_000.png'</span>,\n",
       "    <span style=\"color: #008000; text-decoration-color: #008000\">'00000654_001.png'</span>,\n",
       "    <span style=\"color: #008000; text-decoration-color: #008000\">'00000827_016.png'</span>,\n",
       "    <span style=\"color: #008000; text-decoration-color: #008000\">'00000468_025.png'</span>,\n",
       "    <span style=\"color: #808000; text-decoration-color: #808000\">...</span> +<span style=\"color: #008080; text-decoration-color: #008080; font-weight: bold\">4992</span>\n",
       "<span style=\"font-weight: bold\">]</span>\n",
       "</pre>\n"
      ],
      "text/plain": [
       "\n",
       "\u001b[1m[\u001b[0m\n",
       "    \u001b[32m'00000096_001.png'\u001b[0m,\n",
       "    \u001b[32m'00001250_005.png'\u001b[0m,\n",
       "    \u001b[32m'00001220_000.png'\u001b[0m,\n",
       "    \u001b[32m'00000419_000.png'\u001b[0m,\n",
       "    \u001b[32m'00000654_001.png'\u001b[0m,\n",
       "    \u001b[32m'00000827_016.png'\u001b[0m,\n",
       "    \u001b[32m'00000468_025.png'\u001b[0m,\n",
       "    \u001b[33m...\u001b[0m +\u001b[1;36m4992\u001b[0m\n",
       "\u001b[1m]\u001b[0m\n"
      ]
     },
     "metadata": {},
     "output_type": "display_data"
    }
   ],
   "source": [
    "# https://stackoverflow.com/questions/339007/how-do-i-pad-a-string-with-zeroes\n",
    "index = dataset_cfg.index\n",
    "target = dataset_cfg.target\n",
    "label_encoding = 1\n",
    "patient_df = pd.read_csv(patient_path).set_index(index)\n",
    "label_path = os.path.join(scan_path, f\"images_{label_encoding:03}\", \"images\")\n",
    "os.listdir(label_path)\n"
   ]
  },
  {
   "cell_type": "code",
   "execution_count": 47,
   "metadata": {},
   "outputs": [
    {
     "data": {
      "text/html": [
       "<pre style=\"white-space:pre;overflow-x:auto;line-height:normal;font-family:Menlo,'DejaVu Sans Mono',consolas,'Courier New',monospace\">\n",
       "<span style=\"font-weight: bold\">{</span>\n",
       "    <span style=\"color: #008000; text-decoration-color: #008000\">'image_files'</span>: <span style=\"font-weight: bold\">[</span>\n",
       "        <span style=\"color: #008000; text-decoration-color: #008000\">'/home/nicoleg/workspaces/dissertation/.data/Chest_XRay_14_Kaggle/images_001/images/00000096_001.png'</span>,\n",
       "        <span style=\"color: #008000; text-decoration-color: #008000\">'/home/nicoleg/workspaces/dissertation/.data/Chest_XRay_14_Kaggle/images_001/images/00001250_005.png'</span>,\n",
       "        <span style=\"color: #008000; text-decoration-color: #008000\">'/home/nicoleg/workspaces/dissertation/.data/Chest_XRay_14_Kaggle/images_001/images/00001220_000.png'</span>,\n",
       "        <span style=\"color: #008000; text-decoration-color: #008000\">'/home/nicoleg/workspaces/dissertation/.data/Chest_XRay_14_Kaggle/images_001/images/00000419_000.png'</span>,\n",
       "        <span style=\"color: #008000; text-decoration-color: #008000\">'/home/nicoleg/workspaces/dissertation/.data/Chest_XRay_14_Kaggle/images_001/images/00000654_001.png'</span>,\n",
       "        <span style=\"color: #008000; text-decoration-color: #008000\">'/home/nicoleg/workspaces/dissertation/.data/Chest_XRay_14_Kaggle/images_001/images/00000827_016.png'</span>,\n",
       "        <span style=\"color: #008000; text-decoration-color: #008000\">'/home/nicoleg/workspaces/dissertation/.data/Chest_XRay_14_Kaggle/images_001/images/00000468_025.png'</span>,\n",
       "        <span style=\"color: #808000; text-decoration-color: #808000\">...</span> +<span style=\"color: #008080; text-decoration-color: #008080; font-weight: bold\">4992</span>\n",
       "    <span style=\"font-weight: bold\">]</span>,\n",
       "    <span style=\"color: #008000; text-decoration-color: #008000\">'Image Index'</span>: <span style=\"font-weight: bold\">[</span>\n",
       "        <span style=\"color: #008000; text-decoration-color: #008000\">'00000096_001.png'</span>,\n",
       "        <span style=\"color: #008000; text-decoration-color: #008000\">'00001250_005.png'</span>,\n",
       "        <span style=\"color: #008000; text-decoration-color: #008000\">'00001220_000.png'</span>,\n",
       "        <span style=\"color: #008000; text-decoration-color: #008000\">'00000419_000.png'</span>,\n",
       "        <span style=\"color: #008000; text-decoration-color: #008000\">'00000654_001.png'</span>,\n",
       "        <span style=\"color: #008000; text-decoration-color: #008000\">'00000827_016.png'</span>,\n",
       "        <span style=\"color: #008000; text-decoration-color: #008000\">'00000468_025.png'</span>,\n",
       "        <span style=\"color: #808000; text-decoration-color: #808000\">...</span> +<span style=\"color: #008080; text-decoration-color: #008080; font-weight: bold\">4992</span>\n",
       "    <span style=\"font-weight: bold\">]</span>\n",
       "<span style=\"font-weight: bold\">}</span>\n",
       "</pre>\n"
      ],
      "text/plain": [
       "\n",
       "\u001b[1m{\u001b[0m\n",
       "    \u001b[32m'image_files'\u001b[0m: \u001b[1m[\u001b[0m\n",
       "        \u001b[32m'/home/nicoleg/workspaces/dissertation/.data/Chest_XRay_14_Kaggle/images_001/images/00000096_001.png'\u001b[0m,\n",
       "        \u001b[32m'/home/nicoleg/workspaces/dissertation/.data/Chest_XRay_14_Kaggle/images_001/images/00001250_005.png'\u001b[0m,\n",
       "        \u001b[32m'/home/nicoleg/workspaces/dissertation/.data/Chest_XRay_14_Kaggle/images_001/images/00001220_000.png'\u001b[0m,\n",
       "        \u001b[32m'/home/nicoleg/workspaces/dissertation/.data/Chest_XRay_14_Kaggle/images_001/images/00000419_000.png'\u001b[0m,\n",
       "        \u001b[32m'/home/nicoleg/workspaces/dissertation/.data/Chest_XRay_14_Kaggle/images_001/images/00000654_001.png'\u001b[0m,\n",
       "        \u001b[32m'/home/nicoleg/workspaces/dissertation/.data/Chest_XRay_14_Kaggle/images_001/images/00000827_016.png'\u001b[0m,\n",
       "        \u001b[32m'/home/nicoleg/workspaces/dissertation/.data/Chest_XRay_14_Kaggle/images_001/images/00000468_025.png'\u001b[0m,\n",
       "        \u001b[33m...\u001b[0m +\u001b[1;36m4992\u001b[0m\n",
       "    \u001b[1m]\u001b[0m,\n",
       "    \u001b[32m'Image Index'\u001b[0m: \u001b[1m[\u001b[0m\n",
       "        \u001b[32m'00000096_001.png'\u001b[0m,\n",
       "        \u001b[32m'00001250_005.png'\u001b[0m,\n",
       "        \u001b[32m'00001220_000.png'\u001b[0m,\n",
       "        \u001b[32m'00000419_000.png'\u001b[0m,\n",
       "        \u001b[32m'00000654_001.png'\u001b[0m,\n",
       "        \u001b[32m'00000827_016.png'\u001b[0m,\n",
       "        \u001b[32m'00000468_025.png'\u001b[0m,\n",
       "        \u001b[33m...\u001b[0m +\u001b[1;36m4992\u001b[0m\n",
       "    \u001b[1m]\u001b[0m\n",
       "\u001b[1m}\u001b[0m\n"
      ]
     },
     "metadata": {},
     "output_type": "display_data"
    }
   ],
   "source": [
    "# subset to the indicated indices in the label encoding\n",
    "filename_matches = {\"image_files\": [], index: []}\n",
    "\n",
    "for filename in os.listdir(label_path):\n",
    "    filename_matches[index].append(filename)\n",
    "    filename_matches[\"image_files\"].append(os.path.join(label_path, filename))\n",
    "\n",
    "filename_matches\n"
   ]
  },
  {
   "cell_type": "markdown",
   "metadata": {},
   "source": [
    "## Wrangling data"
   ]
  },
  {
   "cell_type": "code",
   "execution_count": 48,
   "metadata": {},
   "outputs": [
    {
     "data": {
      "text/html": [
       "<div>\n",
       "<style scoped>\n",
       "    .dataframe tbody tr th:only-of-type {\n",
       "        vertical-align: middle;\n",
       "    }\n",
       "\n",
       "    .dataframe tbody tr th {\n",
       "        vertical-align: top;\n",
       "    }\n",
       "\n",
       "    .dataframe thead th {\n",
       "        text-align: right;\n",
       "    }\n",
       "</style>\n",
       "<table border=\"1\" class=\"dataframe\">\n",
       "  <thead>\n",
       "    <tr style=\"text-align: right;\">\n",
       "      <th></th>\n",
       "      <th>Finding Labels</th>\n",
       "      <th>Follow-up #</th>\n",
       "      <th>Patient ID</th>\n",
       "      <th>Patient Age</th>\n",
       "      <th>Patient Gender</th>\n",
       "      <th>View Position</th>\n",
       "      <th>OriginalImage[Width</th>\n",
       "      <th>Height]</th>\n",
       "      <th>OriginalImagePixelSpacing[x</th>\n",
       "      <th>y]</th>\n",
       "      <th>Unnamed: 11</th>\n",
       "    </tr>\n",
       "    <tr>\n",
       "      <th>Image Index</th>\n",
       "      <th></th>\n",
       "      <th></th>\n",
       "      <th></th>\n",
       "      <th></th>\n",
       "      <th></th>\n",
       "      <th></th>\n",
       "      <th></th>\n",
       "      <th></th>\n",
       "      <th></th>\n",
       "      <th></th>\n",
       "      <th></th>\n",
       "    </tr>\n",
       "  </thead>\n",
       "  <tbody>\n",
       "    <tr>\n",
       "      <th>00000001_000.png</th>\n",
       "      <td>Cardiomegaly</td>\n",
       "      <td>0</td>\n",
       "      <td>1</td>\n",
       "      <td>58</td>\n",
       "      <td>M</td>\n",
       "      <td>PA</td>\n",
       "      <td>2682</td>\n",
       "      <td>2749</td>\n",
       "      <td>0.143</td>\n",
       "      <td>0.143</td>\n",
       "      <td>NaN</td>\n",
       "    </tr>\n",
       "    <tr>\n",
       "      <th>00000001_001.png</th>\n",
       "      <td>Cardiomegaly|Emphysema</td>\n",
       "      <td>1</td>\n",
       "      <td>1</td>\n",
       "      <td>58</td>\n",
       "      <td>M</td>\n",
       "      <td>PA</td>\n",
       "      <td>2894</td>\n",
       "      <td>2729</td>\n",
       "      <td>0.143</td>\n",
       "      <td>0.143</td>\n",
       "      <td>NaN</td>\n",
       "    </tr>\n",
       "    <tr>\n",
       "      <th>00000001_002.png</th>\n",
       "      <td>Cardiomegaly|Effusion</td>\n",
       "      <td>2</td>\n",
       "      <td>1</td>\n",
       "      <td>58</td>\n",
       "      <td>M</td>\n",
       "      <td>PA</td>\n",
       "      <td>2500</td>\n",
       "      <td>2048</td>\n",
       "      <td>0.168</td>\n",
       "      <td>0.168</td>\n",
       "      <td>NaN</td>\n",
       "    </tr>\n",
       "    <tr>\n",
       "      <th>00000002_000.png</th>\n",
       "      <td>No Finding</td>\n",
       "      <td>0</td>\n",
       "      <td>2</td>\n",
       "      <td>81</td>\n",
       "      <td>M</td>\n",
       "      <td>PA</td>\n",
       "      <td>2500</td>\n",
       "      <td>2048</td>\n",
       "      <td>0.171</td>\n",
       "      <td>0.171</td>\n",
       "      <td>NaN</td>\n",
       "    </tr>\n",
       "    <tr>\n",
       "      <th>00000003_000.png</th>\n",
       "      <td>Hernia</td>\n",
       "      <td>0</td>\n",
       "      <td>3</td>\n",
       "      <td>81</td>\n",
       "      <td>F</td>\n",
       "      <td>PA</td>\n",
       "      <td>2582</td>\n",
       "      <td>2991</td>\n",
       "      <td>0.143</td>\n",
       "      <td>0.143</td>\n",
       "      <td>NaN</td>\n",
       "    </tr>\n",
       "  </tbody>\n",
       "</table>\n",
       "</div>"
      ]
     },
     "execution_count": 48,
     "metadata": {},
     "output_type": "execute_result"
    }
   ],
   "source": [
    "patient_df.head()"
   ]
  },
  {
   "cell_type": "code",
   "execution_count": 49,
   "metadata": {},
   "outputs": [
    {
     "data": {
      "text/html": [
       "<div>\n",
       "<style scoped>\n",
       "    .dataframe tbody tr th:only-of-type {\n",
       "        vertical-align: middle;\n",
       "    }\n",
       "\n",
       "    .dataframe tbody tr th {\n",
       "        vertical-align: top;\n",
       "    }\n",
       "\n",
       "    .dataframe thead th {\n",
       "        text-align: right;\n",
       "    }\n",
       "</style>\n",
       "<table border=\"1\" class=\"dataframe\">\n",
       "  <thead>\n",
       "    <tr style=\"text-align: right;\">\n",
       "      <th></th>\n",
       "      <th>Finding Labels</th>\n",
       "      <th>Patient ID</th>\n",
       "      <th>Patient Age</th>\n",
       "      <th>Patient Gender</th>\n",
       "    </tr>\n",
       "    <tr>\n",
       "      <th>Image Index</th>\n",
       "      <th></th>\n",
       "      <th></th>\n",
       "      <th></th>\n",
       "      <th></th>\n",
       "    </tr>\n",
       "  </thead>\n",
       "  <tbody>\n",
       "    <tr>\n",
       "      <th>00000001_000.png</th>\n",
       "      <td>Cardiomegaly</td>\n",
       "      <td>1</td>\n",
       "      <td>58</td>\n",
       "      <td>M</td>\n",
       "    </tr>\n",
       "    <tr>\n",
       "      <th>00000001_001.png</th>\n",
       "      <td>Cardiomegaly|Emphysema</td>\n",
       "      <td>1</td>\n",
       "      <td>58</td>\n",
       "      <td>M</td>\n",
       "    </tr>\n",
       "    <tr>\n",
       "      <th>00000001_002.png</th>\n",
       "      <td>Cardiomegaly|Effusion</td>\n",
       "      <td>1</td>\n",
       "      <td>58</td>\n",
       "      <td>M</td>\n",
       "    </tr>\n",
       "    <tr>\n",
       "      <th>00000002_000.png</th>\n",
       "      <td>No Finding</td>\n",
       "      <td>2</td>\n",
       "      <td>81</td>\n",
       "      <td>M</td>\n",
       "    </tr>\n",
       "    <tr>\n",
       "      <th>00000003_000.png</th>\n",
       "      <td>Hernia</td>\n",
       "      <td>3</td>\n",
       "      <td>81</td>\n",
       "      <td>F</td>\n",
       "    </tr>\n",
       "  </tbody>\n",
       "</table>\n",
       "</div>"
      ]
     },
     "execution_count": 49,
     "metadata": {},
     "output_type": "execute_result"
    }
   ],
   "source": [
    "# drop unnecessary columns\n",
    "\n",
    "drop_columns = [\n",
    "    \"Follow-up #\",\n",
    "    \"OriginalImage[Width\",\n",
    "    \"Height]\",\n",
    "    \"OriginalImagePixelSpacing[x\",\n",
    "    \"y]\",\n",
    "    \"Unnamed: 11\",\n",
    "    \"View Position\",\n",
    "]\n",
    "patient_df = patient_df.drop(columns=drop_columns)\n",
    "patient_df.head()"
   ]
  },
  {
   "cell_type": "code",
   "execution_count": 50,
   "metadata": {},
   "outputs": [
    {
     "data": {
      "text/html": [
       "<pre style=\"white-space:pre;overflow-x:auto;line-height:normal;font-family:Menlo,'DejaVu Sans Mono',consolas,'Courier New',monospace\">\n",
       "<span style=\"font-weight: bold\">(</span>\n",
       "    <span style=\"color: #008080; text-decoration-color: #008080; font-weight: bold\">112120</span>,\n",
       "                                                            image_files\n",
       "Image Index                                                        \n",
       "00000096_001.png  <span style=\"color: #800080; text-decoration-color: #800080\">/home/nicoleg/workspaces/dissertation/.data/</span><span style=\"color: #ff00ff; text-decoration-color: #ff00ff\">Ch...</span>\n",
       "00001250_005.png  <span style=\"color: #800080; text-decoration-color: #800080\">/home/nicoleg/workspaces/dissertation/.data/</span><span style=\"color: #ff00ff; text-decoration-color: #ff00ff\">Ch...</span>\n",
       "00001220_000.png  <span style=\"color: #800080; text-decoration-color: #800080\">/home/nicoleg/workspaces/dissertation/.data/</span><span style=\"color: #ff00ff; text-decoration-color: #ff00ff\">Ch...</span>\n",
       "00000419_000.png  <span style=\"color: #800080; text-decoration-color: #800080\">/home/nicoleg/workspaces/dissertation/.data/</span><span style=\"color: #ff00ff; text-decoration-color: #ff00ff\">Ch...</span>\n",
       "00000654_001.png  <span style=\"color: #800080; text-decoration-color: #800080\">/home/nicoleg/workspaces/dissertation/.data/</span><span style=\"color: #ff00ff; text-decoration-color: #ff00ff\">Ch...</span>\n",
       "<span style=\"font-weight: bold\">)</span>\n",
       "</pre>\n"
      ],
      "text/plain": [
       "\n",
       "\u001b[1m(\u001b[0m\n",
       "    \u001b[1;36m112120\u001b[0m,\n",
       "                                                            image_files\n",
       "Image Index                                                        \n",
       "00000096_001.png  \u001b[35m/home/nicoleg/workspaces/dissertation/.data/\u001b[0m\u001b[95mCh...\u001b[0m\n",
       "00001250_005.png  \u001b[35m/home/nicoleg/workspaces/dissertation/.data/\u001b[0m\u001b[95mCh...\u001b[0m\n",
       "00001220_000.png  \u001b[35m/home/nicoleg/workspaces/dissertation/.data/\u001b[0m\u001b[95mCh...\u001b[0m\n",
       "00000419_000.png  \u001b[35m/home/nicoleg/workspaces/dissertation/.data/\u001b[0m\u001b[95mCh...\u001b[0m\n",
       "00000654_001.png  \u001b[35m/home/nicoleg/workspaces/dissertation/.data/\u001b[0m\u001b[95mCh...\u001b[0m\n",
       "\u001b[1m)\u001b[0m\n"
      ]
     },
     "metadata": {},
     "output_type": "display_data"
    }
   ],
   "source": [
    "def unpack_images():\n",
    "    \"\"\"\"\"\"\n",
    "\n",
    "    filename_matches = {\"image_files\": [], index: []}\n",
    "\n",
    "    for encoding in range(1, 13):\n",
    "        label_path = os.path.join(scan_path, f\"images_{encoding:03}\", \"images\")\n",
    "\n",
    "        for filename in os.listdir(label_path):\n",
    "            filename_matches[index].append(filename)\n",
    "            filename_matches[\"image_files\"].append(os.path.join(label_path, filename))\n",
    "\n",
    "    return pd.DataFrame.from_dict(filename_matches, orient=\"columns\").set_index(index)\n",
    "\n",
    "matches = unpack_images()\n",
    "len(matches), matches.head()"
   ]
  },
  {
   "cell_type": "code",
   "execution_count": 51,
   "metadata": {},
   "outputs": [
    {
     "data": {
      "text/html": [
       "<div>\n",
       "<style scoped>\n",
       "    .dataframe tbody tr th:only-of-type {\n",
       "        vertical-align: middle;\n",
       "    }\n",
       "\n",
       "    .dataframe tbody tr th {\n",
       "        vertical-align: top;\n",
       "    }\n",
       "\n",
       "    .dataframe thead th {\n",
       "        text-align: right;\n",
       "    }\n",
       "</style>\n",
       "<table border=\"1\" class=\"dataframe\">\n",
       "  <thead>\n",
       "    <tr style=\"text-align: right;\">\n",
       "      <th></th>\n",
       "      <th>Finding Labels</th>\n",
       "      <th>Patient ID</th>\n",
       "      <th>Patient Age</th>\n",
       "      <th>Patient Gender</th>\n",
       "      <th>image_files</th>\n",
       "    </tr>\n",
       "    <tr>\n",
       "      <th>Image Index</th>\n",
       "      <th></th>\n",
       "      <th></th>\n",
       "      <th></th>\n",
       "      <th></th>\n",
       "      <th></th>\n",
       "    </tr>\n",
       "  </thead>\n",
       "  <tbody>\n",
       "    <tr>\n",
       "      <th>00000001_000.png</th>\n",
       "      <td>Cardiomegaly</td>\n",
       "      <td>1</td>\n",
       "      <td>58</td>\n",
       "      <td>M</td>\n",
       "      <td>/home/nicoleg/workspaces/dissertation/.data/Ch...</td>\n",
       "    </tr>\n",
       "    <tr>\n",
       "      <th>00000001_001.png</th>\n",
       "      <td>Cardiomegaly|Emphysema</td>\n",
       "      <td>1</td>\n",
       "      <td>58</td>\n",
       "      <td>M</td>\n",
       "      <td>/home/nicoleg/workspaces/dissertation/.data/Ch...</td>\n",
       "    </tr>\n",
       "    <tr>\n",
       "      <th>00000001_002.png</th>\n",
       "      <td>Cardiomegaly|Effusion</td>\n",
       "      <td>1</td>\n",
       "      <td>58</td>\n",
       "      <td>M</td>\n",
       "      <td>/home/nicoleg/workspaces/dissertation/.data/Ch...</td>\n",
       "    </tr>\n",
       "    <tr>\n",
       "      <th>00000002_000.png</th>\n",
       "      <td>No Finding</td>\n",
       "      <td>2</td>\n",
       "      <td>81</td>\n",
       "      <td>M</td>\n",
       "      <td>/home/nicoleg/workspaces/dissertation/.data/Ch...</td>\n",
       "    </tr>\n",
       "    <tr>\n",
       "      <th>00000003_000.png</th>\n",
       "      <td>Hernia</td>\n",
       "      <td>3</td>\n",
       "      <td>81</td>\n",
       "      <td>F</td>\n",
       "      <td>/home/nicoleg/workspaces/dissertation/.data/Ch...</td>\n",
       "    </tr>\n",
       "  </tbody>\n",
       "</table>\n",
       "</div>"
      ]
     },
     "execution_count": 51,
     "metadata": {},
     "output_type": "execute_result"
    }
   ],
   "source": [
    "patient_df = patient_df.merge(matches, on=index, how=\"inner\")\n",
    "patient_df.head()"
   ]
  },
  {
   "cell_type": "code",
   "execution_count": 52,
   "metadata": {},
   "outputs": [
    {
     "data": {
      "text/html": [
       "<pre style=\"white-space:pre;overflow-x:auto;line-height:normal;font-family:Menlo,'DejaVu Sans Mono',consolas,'Courier New',monospace\">\n",
       "<span style=\"font-weight: bold\">[</span>\n",
       "    <span style=\"color: #008000; text-decoration-color: #008000\">'00000001_000.png\\n'</span>,\n",
       "    <span style=\"color: #008000; text-decoration-color: #008000\">'00000001_001.png\\n'</span>,\n",
       "    <span style=\"color: #008000; text-decoration-color: #008000\">'00000001_002.png\\n'</span>,\n",
       "    <span style=\"color: #008000; text-decoration-color: #008000\">'00000002_000.png\\n'</span>,\n",
       "    <span style=\"color: #008000; text-decoration-color: #008000\">'00000004_000.png\\n'</span>,\n",
       "    <span style=\"color: #008000; text-decoration-color: #008000\">'00000005_000.png\\n'</span>,\n",
       "    <span style=\"color: #008000; text-decoration-color: #008000\">'00000005_001.png\\n'</span>,\n",
       "    <span style=\"color: #808000; text-decoration-color: #808000\">...</span> +<span style=\"color: #008080; text-decoration-color: #008080; font-weight: bold\">86517</span>\n",
       "<span style=\"font-weight: bold\">]</span>\n",
       "</pre>\n"
      ],
      "text/plain": [
       "\n",
       "\u001b[1m[\u001b[0m\n",
       "    \u001b[32m'00000001_000.png\\n'\u001b[0m,\n",
       "    \u001b[32m'00000001_001.png\\n'\u001b[0m,\n",
       "    \u001b[32m'00000001_002.png\\n'\u001b[0m,\n",
       "    \u001b[32m'00000002_000.png\\n'\u001b[0m,\n",
       "    \u001b[32m'00000004_000.png\\n'\u001b[0m,\n",
       "    \u001b[32m'00000005_000.png\\n'\u001b[0m,\n",
       "    \u001b[32m'00000005_001.png\\n'\u001b[0m,\n",
       "    \u001b[33m...\u001b[0m +\u001b[1;36m86517\u001b[0m\n",
       "\u001b[1m]\u001b[0m\n"
      ]
     },
     "metadata": {},
     "output_type": "display_data"
    }
   ],
   "source": [
    "with open(os.path.join(scan_path, \"train_val_list.txt\"), \"r\") as f:\n",
    "    train_val_list = f.readlines()\n",
    "\n",
    "train_val_list"
   ]
  },
  {
   "cell_type": "code",
   "execution_count": 53,
   "metadata": {},
   "outputs": [
    {
     "data": {
      "text/html": [
       "<pre style=\"white-space:pre;overflow-x:auto;line-height:normal;font-family:Menlo,'DejaVu Sans Mono',consolas,'Courier New',monospace\">\n",
       "<span style=\"font-weight: bold\">[</span>\n",
       "    <span style=\"color: #008000; text-decoration-color: #008000\">'00000001_000.png'</span>,\n",
       "    <span style=\"color: #008000; text-decoration-color: #008000\">'00000001_001.png'</span>,\n",
       "    <span style=\"color: #008000; text-decoration-color: #008000\">'00000001_002.png'</span>,\n",
       "    <span style=\"color: #008000; text-decoration-color: #008000\">'00000002_000.png'</span>,\n",
       "    <span style=\"color: #008000; text-decoration-color: #008000\">'00000004_000.png'</span>,\n",
       "    <span style=\"color: #008000; text-decoration-color: #008000\">'00000005_000.png'</span>,\n",
       "    <span style=\"color: #008000; text-decoration-color: #008000\">'00000005_001.png'</span>,\n",
       "    <span style=\"color: #808000; text-decoration-color: #808000\">...</span> +<span style=\"color: #008080; text-decoration-color: #008080; font-weight: bold\">86517</span>\n",
       "<span style=\"font-weight: bold\">]</span>\n",
       "</pre>\n"
      ],
      "text/plain": [
       "\n",
       "\u001b[1m[\u001b[0m\n",
       "    \u001b[32m'00000001_000.png'\u001b[0m,\n",
       "    \u001b[32m'00000001_001.png'\u001b[0m,\n",
       "    \u001b[32m'00000001_002.png'\u001b[0m,\n",
       "    \u001b[32m'00000002_000.png'\u001b[0m,\n",
       "    \u001b[32m'00000004_000.png'\u001b[0m,\n",
       "    \u001b[32m'00000005_000.png'\u001b[0m,\n",
       "    \u001b[32m'00000005_001.png'\u001b[0m,\n",
       "    \u001b[33m...\u001b[0m +\u001b[1;36m86517\u001b[0m\n",
       "\u001b[1m]\u001b[0m\n"
      ]
     },
     "metadata": {},
     "output_type": "display_data"
    }
   ],
   "source": [
    "train_val_list = [idx.strip() for idx in train_val_list]\n",
    "train_val_list"
   ]
  },
  {
   "cell_type": "code",
   "execution_count": 54,
   "metadata": {},
   "outputs": [
    {
     "data": {
      "text/html": [
       "<pre style=\"white-space:pre;overflow-x:auto;line-height:normal;font-family:Menlo,'DejaVu Sans Mono',consolas,'Courier New',monospace\">\n",
       "<span style=\"font-weight: bold\">[</span>\n",
       "    <span style=\"color: #008000; text-decoration-color: #008000\">'00000003_000.png'</span>,\n",
       "    <span style=\"color: #008000; text-decoration-color: #008000\">'00000003_001.png'</span>,\n",
       "    <span style=\"color: #008000; text-decoration-color: #008000\">'00000003_002.png'</span>,\n",
       "    <span style=\"color: #008000; text-decoration-color: #008000\">'00000003_003.png'</span>,\n",
       "    <span style=\"color: #008000; text-decoration-color: #008000\">'00000003_004.png'</span>,\n",
       "    <span style=\"color: #008000; text-decoration-color: #008000\">'00000003_005.png'</span>,\n",
       "    <span style=\"color: #008000; text-decoration-color: #008000\">'00000003_006.png'</span>,\n",
       "    <span style=\"color: #808000; text-decoration-color: #808000\">...</span> +<span style=\"color: #008080; text-decoration-color: #008080; font-weight: bold\">25589</span>\n",
       "<span style=\"font-weight: bold\">]</span>\n",
       "</pre>\n"
      ],
      "text/plain": [
       "\n",
       "\u001b[1m[\u001b[0m\n",
       "    \u001b[32m'00000003_000.png'\u001b[0m,\n",
       "    \u001b[32m'00000003_001.png'\u001b[0m,\n",
       "    \u001b[32m'00000003_002.png'\u001b[0m,\n",
       "    \u001b[32m'00000003_003.png'\u001b[0m,\n",
       "    \u001b[32m'00000003_004.png'\u001b[0m,\n",
       "    \u001b[32m'00000003_005.png'\u001b[0m,\n",
       "    \u001b[32m'00000003_006.png'\u001b[0m,\n",
       "    \u001b[33m...\u001b[0m +\u001b[1;36m25589\u001b[0m\n",
       "\u001b[1m]\u001b[0m\n"
      ]
     },
     "metadata": {},
     "output_type": "display_data"
    }
   ],
   "source": [
    "# do the same for the test list\n",
    "with open(os.path.join(scan_path, \"test_list.txt\"), \"r\") as f:\n",
    "    test_list = f.readlines()\n",
    "    test_list = [idx.strip() for idx in test_list]\n",
    "\n",
    "test_list"
   ]
  },
  {
   "cell_type": "code",
   "execution_count": 55,
   "metadata": {},
   "outputs": [
    {
     "data": {
      "text/html": [
       "<div>\n",
       "<style scoped>\n",
       "    .dataframe tbody tr th:only-of-type {\n",
       "        vertical-align: middle;\n",
       "    }\n",
       "\n",
       "    .dataframe tbody tr th {\n",
       "        vertical-align: top;\n",
       "    }\n",
       "\n",
       "    .dataframe thead th {\n",
       "        text-align: right;\n",
       "    }\n",
       "</style>\n",
       "<table border=\"1\" class=\"dataframe\">\n",
       "  <thead>\n",
       "    <tr style=\"text-align: right;\">\n",
       "      <th></th>\n",
       "      <th>Finding Labels</th>\n",
       "      <th>Patient ID</th>\n",
       "      <th>Patient Age</th>\n",
       "      <th>Patient Gender</th>\n",
       "      <th>image_files</th>\n",
       "    </tr>\n",
       "    <tr>\n",
       "      <th>Image Index</th>\n",
       "      <th></th>\n",
       "      <th></th>\n",
       "      <th></th>\n",
       "      <th></th>\n",
       "      <th></th>\n",
       "    </tr>\n",
       "  </thead>\n",
       "  <tbody>\n",
       "    <tr>\n",
       "      <th>00000001_000.png</th>\n",
       "      <td>Cardiomegaly</td>\n",
       "      <td>1</td>\n",
       "      <td>58</td>\n",
       "      <td>M</td>\n",
       "      <td>/home/nicoleg/workspaces/dissertation/.data/Ch...</td>\n",
       "    </tr>\n",
       "    <tr>\n",
       "      <th>00000001_001.png</th>\n",
       "      <td>Cardiomegaly|Emphysema</td>\n",
       "      <td>1</td>\n",
       "      <td>58</td>\n",
       "      <td>M</td>\n",
       "      <td>/home/nicoleg/workspaces/dissertation/.data/Ch...</td>\n",
       "    </tr>\n",
       "    <tr>\n",
       "      <th>00000001_002.png</th>\n",
       "      <td>Cardiomegaly|Effusion</td>\n",
       "      <td>1</td>\n",
       "      <td>58</td>\n",
       "      <td>M</td>\n",
       "      <td>/home/nicoleg/workspaces/dissertation/.data/Ch...</td>\n",
       "    </tr>\n",
       "    <tr>\n",
       "      <th>00000002_000.png</th>\n",
       "      <td>No Finding</td>\n",
       "      <td>2</td>\n",
       "      <td>81</td>\n",
       "      <td>M</td>\n",
       "      <td>/home/nicoleg/workspaces/dissertation/.data/Ch...</td>\n",
       "    </tr>\n",
       "    <tr>\n",
       "      <th>00000004_000.png</th>\n",
       "      <td>Mass|Nodule</td>\n",
       "      <td>4</td>\n",
       "      <td>82</td>\n",
       "      <td>M</td>\n",
       "      <td>/home/nicoleg/workspaces/dissertation/.data/Ch...</td>\n",
       "    </tr>\n",
       "  </tbody>\n",
       "</table>\n",
       "</div>"
      ]
     },
     "execution_count": 55,
     "metadata": {},
     "output_type": "execute_result"
    }
   ],
   "source": [
    "train_df = patient_df[patient_df.index.isin(train_val_list)]\n",
    "train_df.head()"
   ]
  },
  {
   "cell_type": "code",
   "execution_count": 56,
   "metadata": {},
   "outputs": [
    {
     "data": {
      "text/html": [
       "<div>\n",
       "<style scoped>\n",
       "    .dataframe tbody tr th:only-of-type {\n",
       "        vertical-align: middle;\n",
       "    }\n",
       "\n",
       "    .dataframe tbody tr th {\n",
       "        vertical-align: top;\n",
       "    }\n",
       "\n",
       "    .dataframe thead th {\n",
       "        text-align: right;\n",
       "    }\n",
       "</style>\n",
       "<table border=\"1\" class=\"dataframe\">\n",
       "  <thead>\n",
       "    <tr style=\"text-align: right;\">\n",
       "      <th></th>\n",
       "      <th>Finding Labels</th>\n",
       "      <th>Patient ID</th>\n",
       "      <th>Patient Age</th>\n",
       "      <th>Patient Gender</th>\n",
       "      <th>image_files</th>\n",
       "    </tr>\n",
       "    <tr>\n",
       "      <th>Image Index</th>\n",
       "      <th></th>\n",
       "      <th></th>\n",
       "      <th></th>\n",
       "      <th></th>\n",
       "      <th></th>\n",
       "    </tr>\n",
       "  </thead>\n",
       "  <tbody>\n",
       "    <tr>\n",
       "      <th>00000003_000.png</th>\n",
       "      <td>Hernia</td>\n",
       "      <td>3</td>\n",
       "      <td>81</td>\n",
       "      <td>F</td>\n",
       "      <td>/home/nicoleg/workspaces/dissertation/.data/Ch...</td>\n",
       "    </tr>\n",
       "    <tr>\n",
       "      <th>00000003_001.png</th>\n",
       "      <td>Hernia</td>\n",
       "      <td>3</td>\n",
       "      <td>74</td>\n",
       "      <td>F</td>\n",
       "      <td>/home/nicoleg/workspaces/dissertation/.data/Ch...</td>\n",
       "    </tr>\n",
       "    <tr>\n",
       "      <th>00000003_002.png</th>\n",
       "      <td>Hernia</td>\n",
       "      <td>3</td>\n",
       "      <td>75</td>\n",
       "      <td>F</td>\n",
       "      <td>/home/nicoleg/workspaces/dissertation/.data/Ch...</td>\n",
       "    </tr>\n",
       "    <tr>\n",
       "      <th>00000003_003.png</th>\n",
       "      <td>Hernia|Infiltration</td>\n",
       "      <td>3</td>\n",
       "      <td>76</td>\n",
       "      <td>F</td>\n",
       "      <td>/home/nicoleg/workspaces/dissertation/.data/Ch...</td>\n",
       "    </tr>\n",
       "    <tr>\n",
       "      <th>00000003_004.png</th>\n",
       "      <td>Hernia</td>\n",
       "      <td>3</td>\n",
       "      <td>77</td>\n",
       "      <td>F</td>\n",
       "      <td>/home/nicoleg/workspaces/dissertation/.data/Ch...</td>\n",
       "    </tr>\n",
       "  </tbody>\n",
       "</table>\n",
       "</div>"
      ]
     },
     "execution_count": 56,
     "metadata": {},
     "output_type": "execute_result"
    }
   ],
   "source": [
    "test_df = patient_df[patient_df.index.isin(test_list)]\n",
    "test_df.head()"
   ]
  },
  {
   "cell_type": "markdown",
   "metadata": {},
   "source": [
    "## Pneumonia to metaclass"
   ]
  },
  {
   "cell_type": "code",
   "execution_count": 57,
   "metadata": {},
   "outputs": [],
   "source": [
    "from sklearn.preprocessing import MultiLabelBinarizer\n",
    "\n",
    "mlb = MultiLabelBinarizer()"
   ]
  },
  {
   "cell_type": "code",
   "execution_count": 58,
   "metadata": {},
   "outputs": [
    {
     "data": {
      "text/html": [
       "<pre style=\"white-space:pre;overflow-x:auto;line-height:normal;font-family:Menlo,'DejaVu Sans Mono',consolas,'Courier New',monospace\">Positive class: <span style=\"color: #008000; text-decoration-color: #008000\">'Pneumonia'</span>\n",
       "</pre>\n"
      ],
      "text/plain": [
       "Positive class: \u001b[32m'Pneumonia'\u001b[0m\n"
      ]
     },
     "metadata": {},
     "output_type": "display_data"
    },
    {
     "data": {
      "text/html": [
       "<pre style=\"white-space:pre;overflow-x:auto;line-height:normal;font-family:Menlo,'DejaVu Sans Mono',consolas,'Courier New',monospace\">New labels:\n",
       "<span style=\"font-weight: bold\">[</span><span style=\"color: #008000; text-decoration-color: #008000\">'Non-Pneumonia'</span>, <span style=\"color: #008000; text-decoration-color: #008000\">'Pneumonia'</span><span style=\"font-weight: bold\">]</span>\n",
       "</pre>\n"
      ],
      "text/plain": [
       "New labels:\n",
       "\u001b[1m[\u001b[0m\u001b[32m'Non-Pneumonia'\u001b[0m, \u001b[32m'Pneumonia'\u001b[0m\u001b[1m]\u001b[0m\n"
      ]
     },
     "metadata": {},
     "output_type": "display_data"
    }
   ],
   "source": [
    "# subsetting\n",
    "# all_labels = dataset_cfg.all_labels\n",
    "labels = dataset_cfg.labels\n",
    "positive_class = dataset_cfg.preprocessing[\"positive_class\"]\n",
    "console.print(f\"Positive class: '{positive_class}'\")\n",
    "console.print(f\"New labels:\\n{labels}\")"
   ]
  },
  {
   "cell_type": "code",
   "execution_count": 59,
   "metadata": {},
   "outputs": [
    {
     "data": {
      "text/html": [
       "<pre style=\"white-space:pre;overflow-x:auto;line-height:normal;font-family:Menlo,'DejaVu Sans Mono',consolas,'Courier New',monospace\">Data description:\n",
       "</pre>\n"
      ],
      "text/plain": [
       "Data description:\n"
      ]
     },
     "metadata": {},
     "output_type": "display_data"
    },
    {
     "data": {
      "text/html": [
       "<pre style=\"white-space:pre;overflow-x:auto;line-height:normal;font-family:Menlo,'DejaVu Sans Mono',consolas,'Courier New',monospace\"><span style=\"color: #008080; text-decoration-color: #008080; font-weight: bold\">836</span>\n",
       "</pre>\n"
      ],
      "text/plain": [
       "\u001b[1;36m836\u001b[0m\n"
      ]
     },
     "metadata": {},
     "output_type": "display_data"
    },
    {
     "data": {
      "text/html": [
       "<pre style=\"white-space:pre;overflow-x:auto;line-height:normal;font-family:Menlo,'DejaVu Sans Mono',consolas,'Courier New',monospace\">\n",
       "<span style=\"color: #800080; text-decoration-color: #800080; font-weight: bold\">Counter</span><span style=\"font-weight: bold\">({</span>\n",
       "    <span style=\"color: #008000; text-decoration-color: #008000\">'Cardiomegaly'</span>: <span style=\"color: #008080; text-decoration-color: #008080; font-weight: bold\">1093</span>,\n",
       "    <span style=\"color: #008000; text-decoration-color: #008000\">'Cardiomegaly|Emphysema'</span>: <span style=\"color: #008080; text-decoration-color: #008080; font-weight: bold\">19</span>,\n",
       "    <span style=\"color: #008000; text-decoration-color: #008000\">'Cardiomegaly|Effusion'</span>: <span style=\"color: #008080; text-decoration-color: #008080; font-weight: bold\">484</span>,\n",
       "    <span style=\"color: #008000; text-decoration-color: #008000\">'No Finding'</span>: <span style=\"color: #008080; text-decoration-color: #008080; font-weight: bold\">60361</span>,\n",
       "    <span style=\"color: #008000; text-decoration-color: #008000\">'Hernia'</span>: <span style=\"color: #008080; text-decoration-color: #008080; font-weight: bold\">110</span>,\n",
       "    <span style=\"color: #008000; text-decoration-color: #008000\">'Hernia|Infiltration'</span>: <span style=\"color: #008080; text-decoration-color: #008080; font-weight: bold\">15</span>,\n",
       "    <span style=\"color: #008000; text-decoration-color: #008000\">'Mass|Nodule'</span>: <span style=\"color: #008080; text-decoration-color: #008080; font-weight: bold\">394</span>,\n",
       "    <span style=\"color: #808000; text-decoration-color: #808000\">...</span> +<span style=\"color: #008080; text-decoration-color: #008080; font-weight: bold\">829</span>\n",
       "<span style=\"font-weight: bold\">})</span>\n",
       "</pre>\n"
      ],
      "text/plain": [
       "\n",
       "\u001b[1;35mCounter\u001b[0m\u001b[1m(\u001b[0m\u001b[1m{\u001b[0m\n",
       "    \u001b[32m'Cardiomegaly'\u001b[0m: \u001b[1;36m1093\u001b[0m,\n",
       "    \u001b[32m'Cardiomegaly|Emphysema'\u001b[0m: \u001b[1;36m19\u001b[0m,\n",
       "    \u001b[32m'Cardiomegaly|Effusion'\u001b[0m: \u001b[1;36m484\u001b[0m,\n",
       "    \u001b[32m'No Finding'\u001b[0m: \u001b[1;36m60361\u001b[0m,\n",
       "    \u001b[32m'Hernia'\u001b[0m: \u001b[1;36m110\u001b[0m,\n",
       "    \u001b[32m'Hernia|Infiltration'\u001b[0m: \u001b[1;36m15\u001b[0m,\n",
       "    \u001b[32m'Mass|Nodule'\u001b[0m: \u001b[1;36m394\u001b[0m,\n",
       "    \u001b[33m...\u001b[0m +\u001b[1;36m829\u001b[0m\n",
       "\u001b[1m}\u001b[0m\u001b[1m)\u001b[0m\n"
      ]
     },
     "metadata": {},
     "output_type": "display_data"
    }
   ],
   "source": [
    "# unique\n",
    "\n",
    "console.print(\"Data description:\")\n",
    "console.print(patient_df[target].nunique())\n",
    "patient_target_counts = Counter(patient_df[target])\n",
    "patient_target_counts"
   ]
  },
  {
   "cell_type": "code",
   "execution_count": 60,
   "metadata": {},
   "outputs": [
    {
     "data": {
      "text/html": [
       "<pre style=\"white-space:pre;overflow-x:auto;line-height:normal;font-family:Menlo,'DejaVu Sans Mono',consolas,'Courier New',monospace\"><span style=\"font-weight: bold\">[</span><span style=\"color: #008000; text-decoration-color: #008000\">'Cardiomegaly'</span><span style=\"font-weight: bold\">]</span>\n",
       "</pre>\n"
      ],
      "text/plain": [
       "\u001b[1m[\u001b[0m\u001b[32m'Cardiomegaly'\u001b[0m\u001b[1m]\u001b[0m\n"
      ]
     },
     "metadata": {},
     "output_type": "display_data"
    },
    {
     "data": {
      "text/html": [
       "<pre style=\"white-space:pre;overflow-x:auto;line-height:normal;font-family:Menlo,'DejaVu Sans Mono',consolas,'Courier New',monospace\"><span style=\"font-weight: bold\">[</span><span style=\"color: #008000; text-decoration-color: #008000\">'Cardiomegaly'</span>, <span style=\"color: #008000; text-decoration-color: #008000\">'Emphysema'</span><span style=\"font-weight: bold\">]</span>\n",
       "</pre>\n"
      ],
      "text/plain": [
       "\u001b[1m[\u001b[0m\u001b[32m'Cardiomegaly'\u001b[0m, \u001b[32m'Emphysema'\u001b[0m\u001b[1m]\u001b[0m\n"
      ]
     },
     "metadata": {},
     "output_type": "display_data"
    },
    {
     "data": {
      "text/html": [
       "<pre style=\"white-space:pre;overflow-x:auto;line-height:normal;font-family:Menlo,'DejaVu Sans Mono',consolas,'Courier New',monospace\"><span style=\"font-weight: bold\">[</span><span style=\"color: #008000; text-decoration-color: #008000\">'Cardiomegaly'</span>, <span style=\"color: #008000; text-decoration-color: #008000\">'Effusion'</span><span style=\"font-weight: bold\">]</span>\n",
       "</pre>\n"
      ],
      "text/plain": [
       "\u001b[1m[\u001b[0m\u001b[32m'Cardiomegaly'\u001b[0m, \u001b[32m'Effusion'\u001b[0m\u001b[1m]\u001b[0m\n"
      ]
     },
     "metadata": {},
     "output_type": "display_data"
    },
    {
     "data": {
      "text/html": [
       "<pre style=\"white-space:pre;overflow-x:auto;line-height:normal;font-family:Menlo,'DejaVu Sans Mono',consolas,'Courier New',monospace\"><span style=\"font-weight: bold\">[</span><span style=\"color: #008000; text-decoration-color: #008000\">'No Finding'</span><span style=\"font-weight: bold\">]</span>\n",
       "</pre>\n"
      ],
      "text/plain": [
       "\u001b[1m[\u001b[0m\u001b[32m'No Finding'\u001b[0m\u001b[1m]\u001b[0m\n"
      ]
     },
     "metadata": {},
     "output_type": "display_data"
    },
    {
     "data": {
      "text/html": [
       "<pre style=\"white-space:pre;overflow-x:auto;line-height:normal;font-family:Menlo,'DejaVu Sans Mono',consolas,'Courier New',monospace\"><span style=\"font-weight: bold\">[</span><span style=\"color: #008000; text-decoration-color: #008000\">'Hernia'</span><span style=\"font-weight: bold\">]</span>\n",
       "</pre>\n"
      ],
      "text/plain": [
       "\u001b[1m[\u001b[0m\u001b[32m'Hernia'\u001b[0m\u001b[1m]\u001b[0m\n"
      ]
     },
     "metadata": {},
     "output_type": "display_data"
    },
    {
     "data": {
      "text/html": [
       "<pre style=\"white-space:pre;overflow-x:auto;line-height:normal;font-family:Menlo,'DejaVu Sans Mono',consolas,'Courier New',monospace\"><span style=\"font-weight: bold\">[</span><span style=\"color: #008000; text-decoration-color: #008000\">'Hernia'</span>, <span style=\"color: #008000; text-decoration-color: #008000\">'Infiltration'</span><span style=\"font-weight: bold\">]</span>\n",
       "</pre>\n"
      ],
      "text/plain": [
       "\u001b[1m[\u001b[0m\u001b[32m'Hernia'\u001b[0m, \u001b[32m'Infiltration'\u001b[0m\u001b[1m]\u001b[0m\n"
      ]
     },
     "metadata": {},
     "output_type": "display_data"
    },
    {
     "data": {
      "text/html": [
       "<pre style=\"white-space:pre;overflow-x:auto;line-height:normal;font-family:Menlo,'DejaVu Sans Mono',consolas,'Courier New',monospace\"><span style=\"font-weight: bold\">[</span><span style=\"color: #008000; text-decoration-color: #008000\">'Mass'</span>, <span style=\"color: #008000; text-decoration-color: #008000\">'Nodule'</span><span style=\"font-weight: bold\">]</span>\n",
       "</pre>\n"
      ],
      "text/plain": [
       "\u001b[1m[\u001b[0m\u001b[32m'Mass'\u001b[0m, \u001b[32m'Nodule'\u001b[0m\u001b[1m]\u001b[0m\n"
      ]
     },
     "metadata": {},
     "output_type": "display_data"
    },
    {
     "data": {
      "text/html": [
       "<pre style=\"white-space:pre;overflow-x:auto;line-height:normal;font-family:Menlo,'DejaVu Sans Mono',consolas,'Courier New',monospace\"><span style=\"font-weight: bold\">[</span><span style=\"color: #008000; text-decoration-color: #008000\">'Infiltration'</span><span style=\"font-weight: bold\">]</span>\n",
       "</pre>\n"
      ],
      "text/plain": [
       "\u001b[1m[\u001b[0m\u001b[32m'Infiltration'\u001b[0m\u001b[1m]\u001b[0m\n"
      ]
     },
     "metadata": {},
     "output_type": "display_data"
    },
    {
     "data": {
      "text/html": [
       "<pre style=\"white-space:pre;overflow-x:auto;line-height:normal;font-family:Menlo,'DejaVu Sans Mono',consolas,'Courier New',monospace\"><span style=\"font-weight: bold\">[</span><span style=\"color: #008000; text-decoration-color: #008000\">'Effusion'</span>, <span style=\"color: #008000; text-decoration-color: #008000\">'Infiltration'</span><span style=\"font-weight: bold\">]</span>\n",
       "</pre>\n"
      ],
      "text/plain": [
       "\u001b[1m[\u001b[0m\u001b[32m'Effusion'\u001b[0m, \u001b[32m'Infiltration'\u001b[0m\u001b[1m]\u001b[0m\n"
      ]
     },
     "metadata": {},
     "output_type": "display_data"
    },
    {
     "data": {
      "text/html": [
       "<pre style=\"white-space:pre;overflow-x:auto;line-height:normal;font-family:Menlo,'DejaVu Sans Mono',consolas,'Courier New',monospace\"><span style=\"font-weight: bold\">[</span><span style=\"color: #008000; text-decoration-color: #008000\">'Nodule'</span><span style=\"font-weight: bold\">]</span>\n",
       "</pre>\n"
      ],
      "text/plain": [
       "\u001b[1m[\u001b[0m\u001b[32m'Nodule'\u001b[0m\u001b[1m]\u001b[0m\n"
      ]
     },
     "metadata": {},
     "output_type": "display_data"
    }
   ],
   "source": [
    "temp = list(patient_target_counts.keys())[:10]\n",
    "for key in temp:\n",
    "    classes = key.split(\"|\")\n",
    "    console.print(classes)"
   ]
  },
  {
   "cell_type": "code",
   "execution_count": 61,
   "metadata": {},
   "outputs": [
    {
     "data": {
      "text/html": [
       "<pre style=\"white-space:pre;overflow-x:auto;line-height:normal;font-family:Menlo,'DejaVu Sans Mono',consolas,'Courier New',monospace\">\n",
       "Image Index\n",
       "00000001_000.png               <span style=\"font-weight: bold\">[</span>Cardiomegaly<span style=\"font-weight: bold\">]</span>\n",
       "00000001_001.png    <span style=\"font-weight: bold\">[</span>Cardiomegaly, Emphysema<span style=\"font-weight: bold\">]</span>\n",
       "00000001_002.png     <span style=\"font-weight: bold\">[</span>Cardiomegaly, Effusion<span style=\"font-weight: bold\">]</span>\n",
       "00000002_000.png                 <span style=\"font-weight: bold\">[</span>No Finding<span style=\"font-weight: bold\">]</span>\n",
       "00000003_000.png                     <span style=\"font-weight: bold\">[</span>Hernia<span style=\"font-weight: bold\">]</span>\n",
       "                              <span style=\"color: #808000; text-decoration-color: #808000\">...</span>            \n",
       "00030801_001.png            <span style=\"font-weight: bold\">[</span>Mass, Pneumonia<span style=\"font-weight: bold\">]</span>\n",
       "00030802_000.png                 <span style=\"font-weight: bold\">[</span>No Finding<span style=\"font-weight: bold\">]</span>\n",
       "00030803_000.png                 <span style=\"font-weight: bold\">[</span>No Finding<span style=\"font-weight: bold\">]</span>\n",
       "00030804_000.png                 <span style=\"font-weight: bold\">[</span>No Finding<span style=\"font-weight: bold\">]</span>\n",
       "00030805_000.png                 <span style=\"font-weight: bold\">[</span>No Finding<span style=\"font-weight: bold\">]</span>\n",
       "Name: multi_Finding Labels, Length: <span style=\"color: #008080; text-decoration-color: #008080; font-weight: bold\">112120</span>, dtype: object\n",
       "</pre>\n"
      ],
      "text/plain": [
       "\n",
       "Image Index\n",
       "00000001_000.png               \u001b[1m[\u001b[0mCardiomegaly\u001b[1m]\u001b[0m\n",
       "00000001_001.png    \u001b[1m[\u001b[0mCardiomegaly, Emphysema\u001b[1m]\u001b[0m\n",
       "00000001_002.png     \u001b[1m[\u001b[0mCardiomegaly, Effusion\u001b[1m]\u001b[0m\n",
       "00000002_000.png                 \u001b[1m[\u001b[0mNo Finding\u001b[1m]\u001b[0m\n",
       "00000003_000.png                     \u001b[1m[\u001b[0mHernia\u001b[1m]\u001b[0m\n",
       "                              \u001b[33m...\u001b[0m            \n",
       "00030801_001.png            \u001b[1m[\u001b[0mMass, Pneumonia\u001b[1m]\u001b[0m\n",
       "00030802_000.png                 \u001b[1m[\u001b[0mNo Finding\u001b[1m]\u001b[0m\n",
       "00030803_000.png                 \u001b[1m[\u001b[0mNo Finding\u001b[1m]\u001b[0m\n",
       "00030804_000.png                 \u001b[1m[\u001b[0mNo Finding\u001b[1m]\u001b[0m\n",
       "00030805_000.png                 \u001b[1m[\u001b[0mNo Finding\u001b[1m]\u001b[0m\n",
       "Name: multi_Finding Labels, Length: \u001b[1;36m112120\u001b[0m, dtype: object\n"
      ]
     },
     "metadata": {},
     "output_type": "display_data"
    }
   ],
   "source": [
    "multi_target = f\"multi_{target}\"\n",
    "patient_df[multi_target] = patient_df[target].apply(lambda x: x.split(\"|\"))\n",
    "patient_df[multi_target]"
   ]
  },
  {
   "cell_type": "code",
   "execution_count": 62,
   "metadata": {},
   "outputs": [
    {
     "data": {
      "text/html": [
       "<pre style=\"white-space:pre;overflow-x:auto;line-height:normal;font-family:Menlo,'DejaVu Sans Mono',consolas,'Courier New',monospace\">\n",
       "<span style=\"color: #800080; text-decoration-color: #800080; font-weight: bold\">array</span><span style=\"font-weight: bold\">([</span><span style=\"color: #008000; text-decoration-color: #008000\">'Atelectasis'</span>, <span style=\"color: #008000; text-decoration-color: #008000\">'Cardiomegaly'</span>, <span style=\"color: #008000; text-decoration-color: #008000\">'Consolidation'</span>, <span style=\"color: #008000; text-decoration-color: #008000\">'Edema'</span>,\n",
       "       <span style=\"color: #008000; text-decoration-color: #008000\">'Effusion'</span>, <span style=\"color: #008000; text-decoration-color: #008000\">'Emphysema'</span>, <span style=\"color: #008000; text-decoration-color: #008000\">'Fibrosis'</span>, <span style=\"color: #008000; text-decoration-color: #008000\">'Hernia'</span>, <span style=\"color: #008000; text-decoration-color: #008000\">'Infiltration'</span>,\n",
       "       <span style=\"color: #008000; text-decoration-color: #008000\">'Mass'</span>, <span style=\"color: #008000; text-decoration-color: #008000\">'No Finding'</span>, <span style=\"color: #008000; text-decoration-color: #008000\">'Nodule'</span>, <span style=\"color: #008000; text-decoration-color: #008000\">'Pleural_Thickening'</span>, <span style=\"color: #008000; text-decoration-color: #008000\">'Pneumonia'</span>,\n",
       "       <span style=\"color: #008000; text-decoration-color: #008000\">'Pneumothorax'</span><span style=\"font-weight: bold\">]</span>, <span style=\"color: #808000; text-decoration-color: #808000\">dtype</span>=<span style=\"color: #800080; text-decoration-color: #800080\">object</span><span style=\"font-weight: bold\">)</span>\n",
       "</pre>\n"
      ],
      "text/plain": [
       "\n",
       "\u001b[1;35marray\u001b[0m\u001b[1m(\u001b[0m\u001b[1m[\u001b[0m\u001b[32m'Atelectasis'\u001b[0m, \u001b[32m'Cardiomegaly'\u001b[0m, \u001b[32m'Consolidation'\u001b[0m, \u001b[32m'Edema'\u001b[0m,\n",
       "       \u001b[32m'Effusion'\u001b[0m, \u001b[32m'Emphysema'\u001b[0m, \u001b[32m'Fibrosis'\u001b[0m, \u001b[32m'Hernia'\u001b[0m, \u001b[32m'Infiltration'\u001b[0m,\n",
       "       \u001b[32m'Mass'\u001b[0m, \u001b[32m'No Finding'\u001b[0m, \u001b[32m'Nodule'\u001b[0m, \u001b[32m'Pleural_Thickening'\u001b[0m, \u001b[32m'Pneumonia'\u001b[0m,\n",
       "       \u001b[32m'Pneumothorax'\u001b[0m\u001b[1m]\u001b[0m, \u001b[33mdtype\u001b[0m=\u001b[35mobject\u001b[0m\u001b[1m)\u001b[0m\n"
      ]
     },
     "metadata": {},
     "output_type": "display_data"
    }
   ],
   "source": [
    "mlb.fit(patient_df[multi_target])\n",
    "mlb.classes_"
   ]
  },
  {
   "cell_type": "code",
   "execution_count": 63,
   "metadata": {},
   "outputs": [
    {
     "data": {
      "text/html": [
       "<pre style=\"white-space:pre;overflow-x:auto;line-height:normal;font-family:Menlo,'DejaVu Sans Mono',consolas,'Courier New',monospace\"><span style=\"font-weight: bold\">{</span>\n",
       "    <span style=\"color: #008000; text-decoration-color: #008000\">'Atelectasis'</span>: <span style=\"color: #008080; text-decoration-color: #008080; font-weight: bold\">0</span>,\n",
       "    <span style=\"color: #008000; text-decoration-color: #008000\">'Cardiomegaly'</span>: <span style=\"color: #008080; text-decoration-color: #008080; font-weight: bold\">1</span>,\n",
       "    <span style=\"color: #008000; text-decoration-color: #008000\">'Consolidation'</span>: <span style=\"color: #008080; text-decoration-color: #008080; font-weight: bold\">2</span>,\n",
       "    <span style=\"color: #008000; text-decoration-color: #008000\">'Edema'</span>: <span style=\"color: #008080; text-decoration-color: #008080; font-weight: bold\">3</span>,\n",
       "    <span style=\"color: #008000; text-decoration-color: #008000\">'Effusion'</span>: <span style=\"color: #008080; text-decoration-color: #008080; font-weight: bold\">4</span>,\n",
       "    <span style=\"color: #008000; text-decoration-color: #008000\">'Emphysema'</span>: <span style=\"color: #008080; text-decoration-color: #008080; font-weight: bold\">5</span>,\n",
       "    <span style=\"color: #008000; text-decoration-color: #008000\">'Fibrosis'</span>: <span style=\"color: #008080; text-decoration-color: #008080; font-weight: bold\">6</span>,\n",
       "    <span style=\"color: #008000; text-decoration-color: #008000\">'Hernia'</span>: <span style=\"color: #008080; text-decoration-color: #008080; font-weight: bold\">7</span>,\n",
       "    <span style=\"color: #008000; text-decoration-color: #008000\">'Infiltration'</span>: <span style=\"color: #008080; text-decoration-color: #008080; font-weight: bold\">8</span>,\n",
       "    <span style=\"color: #008000; text-decoration-color: #008000\">'Mass'</span>: <span style=\"color: #008080; text-decoration-color: #008080; font-weight: bold\">9</span>,\n",
       "    <span style=\"color: #008000; text-decoration-color: #008000\">'No Finding'</span>: <span style=\"color: #008080; text-decoration-color: #008080; font-weight: bold\">10</span>,\n",
       "    <span style=\"color: #008000; text-decoration-color: #008000\">'Nodule'</span>: <span style=\"color: #008080; text-decoration-color: #008080; font-weight: bold\">11</span>,\n",
       "    <span style=\"color: #008000; text-decoration-color: #008000\">'Pleural_Thickening'</span>: <span style=\"color: #008080; text-decoration-color: #008080; font-weight: bold\">12</span>,\n",
       "    <span style=\"color: #008000; text-decoration-color: #008000\">'Pneumonia'</span>: <span style=\"color: #008080; text-decoration-color: #008080; font-weight: bold\">13</span>,\n",
       "    <span style=\"color: #008000; text-decoration-color: #008000\">'Pneumothorax'</span>: <span style=\"color: #008080; text-decoration-color: #008080; font-weight: bold\">14</span>\n",
       "<span style=\"font-weight: bold\">}</span>\n",
       "</pre>\n"
      ],
      "text/plain": [
       "\u001b[1m{\u001b[0m\n",
       "    \u001b[32m'Atelectasis'\u001b[0m: \u001b[1;36m0\u001b[0m,\n",
       "    \u001b[32m'Cardiomegaly'\u001b[0m: \u001b[1;36m1\u001b[0m,\n",
       "    \u001b[32m'Consolidation'\u001b[0m: \u001b[1;36m2\u001b[0m,\n",
       "    \u001b[32m'Edema'\u001b[0m: \u001b[1;36m3\u001b[0m,\n",
       "    \u001b[32m'Effusion'\u001b[0m: \u001b[1;36m4\u001b[0m,\n",
       "    \u001b[32m'Emphysema'\u001b[0m: \u001b[1;36m5\u001b[0m,\n",
       "    \u001b[32m'Fibrosis'\u001b[0m: \u001b[1;36m6\u001b[0m,\n",
       "    \u001b[32m'Hernia'\u001b[0m: \u001b[1;36m7\u001b[0m,\n",
       "    \u001b[32m'Infiltration'\u001b[0m: \u001b[1;36m8\u001b[0m,\n",
       "    \u001b[32m'Mass'\u001b[0m: \u001b[1;36m9\u001b[0m,\n",
       "    \u001b[32m'No Finding'\u001b[0m: \u001b[1;36m10\u001b[0m,\n",
       "    \u001b[32m'Nodule'\u001b[0m: \u001b[1;36m11\u001b[0m,\n",
       "    \u001b[32m'Pleural_Thickening'\u001b[0m: \u001b[1;36m12\u001b[0m,\n",
       "    \u001b[32m'Pneumonia'\u001b[0m: \u001b[1;36m13\u001b[0m,\n",
       "    \u001b[32m'Pneumothorax'\u001b[0m: \u001b[1;36m14\u001b[0m\n",
       "\u001b[1m}\u001b[0m\n"
      ]
     },
     "metadata": {},
     "output_type": "display_data"
    }
   ],
   "source": [
    "all_class_encoding = {label: i for i, label in enumerate(mlb.classes_)}\n",
    "console.print(all_class_encoding)"
   ]
  },
  {
   "cell_type": "code",
   "execution_count": 64,
   "metadata": {},
   "outputs": [
    {
     "data": {
      "text/html": [
       "<pre style=\"white-space:pre;overflow-x:auto;line-height:normal;font-family:Menlo,'DejaVu Sans Mono',consolas,'Courier New',monospace\"><span style=\"font-weight: bold\">[</span><span style=\"color: #008080; text-decoration-color: #008080; font-weight: bold\">0</span> <span style=\"color: #008080; text-decoration-color: #008080; font-weight: bold\">1</span> <span style=\"color: #008080; text-decoration-color: #008080; font-weight: bold\">0</span> <span style=\"color: #008080; text-decoration-color: #008080; font-weight: bold\">0</span> <span style=\"color: #008080; text-decoration-color: #008080; font-weight: bold\">0</span> <span style=\"color: #008080; text-decoration-color: #008080; font-weight: bold\">0</span> <span style=\"color: #008080; text-decoration-color: #008080; font-weight: bold\">0</span> <span style=\"color: #008080; text-decoration-color: #008080; font-weight: bold\">0</span> <span style=\"color: #008080; text-decoration-color: #008080; font-weight: bold\">0</span> <span style=\"color: #008080; text-decoration-color: #008080; font-weight: bold\">0</span> <span style=\"color: #008080; text-decoration-color: #008080; font-weight: bold\">0</span> <span style=\"color: #008080; text-decoration-color: #008080; font-weight: bold\">0</span> <span style=\"color: #008080; text-decoration-color: #008080; font-weight: bold\">0</span> <span style=\"color: #008080; text-decoration-color: #008080; font-weight: bold\">0</span> <span style=\"color: #008080; text-decoration-color: #008080; font-weight: bold\">0</span><span style=\"font-weight: bold\">]</span>\n",
       "</pre>\n"
      ],
      "text/plain": [
       "\u001b[1m[\u001b[0m\u001b[1;36m0\u001b[0m \u001b[1;36m1\u001b[0m \u001b[1;36m0\u001b[0m \u001b[1;36m0\u001b[0m \u001b[1;36m0\u001b[0m \u001b[1;36m0\u001b[0m \u001b[1;36m0\u001b[0m \u001b[1;36m0\u001b[0m \u001b[1;36m0\u001b[0m \u001b[1;36m0\u001b[0m \u001b[1;36m0\u001b[0m \u001b[1;36m0\u001b[0m \u001b[1;36m0\u001b[0m \u001b[1;36m0\u001b[0m \u001b[1;36m0\u001b[0m\u001b[1m]\u001b[0m\n"
      ]
     },
     "metadata": {},
     "output_type": "display_data"
    },
    {
     "data": {
      "text/html": [
       "<pre style=\"white-space:pre;overflow-x:auto;line-height:normal;font-family:Menlo,'DejaVu Sans Mono',consolas,'Courier New',monospace\"><span style=\"font-weight: bold\">[</span><span style=\"color: #008080; text-decoration-color: #008080; font-weight: bold\">0</span> <span style=\"color: #008080; text-decoration-color: #008080; font-weight: bold\">1</span> <span style=\"color: #008080; text-decoration-color: #008080; font-weight: bold\">0</span> <span style=\"color: #008080; text-decoration-color: #008080; font-weight: bold\">0</span> <span style=\"color: #008080; text-decoration-color: #008080; font-weight: bold\">0</span> <span style=\"color: #008080; text-decoration-color: #008080; font-weight: bold\">1</span> <span style=\"color: #008080; text-decoration-color: #008080; font-weight: bold\">0</span> <span style=\"color: #008080; text-decoration-color: #008080; font-weight: bold\">0</span> <span style=\"color: #008080; text-decoration-color: #008080; font-weight: bold\">0</span> <span style=\"color: #008080; text-decoration-color: #008080; font-weight: bold\">0</span> <span style=\"color: #008080; text-decoration-color: #008080; font-weight: bold\">0</span> <span style=\"color: #008080; text-decoration-color: #008080; font-weight: bold\">0</span> <span style=\"color: #008080; text-decoration-color: #008080; font-weight: bold\">0</span> <span style=\"color: #008080; text-decoration-color: #008080; font-weight: bold\">0</span> <span style=\"color: #008080; text-decoration-color: #008080; font-weight: bold\">0</span><span style=\"font-weight: bold\">]</span>\n",
       "</pre>\n"
      ],
      "text/plain": [
       "\u001b[1m[\u001b[0m\u001b[1;36m0\u001b[0m \u001b[1;36m1\u001b[0m \u001b[1;36m0\u001b[0m \u001b[1;36m0\u001b[0m \u001b[1;36m0\u001b[0m \u001b[1;36m1\u001b[0m \u001b[1;36m0\u001b[0m \u001b[1;36m0\u001b[0m \u001b[1;36m0\u001b[0m \u001b[1;36m0\u001b[0m \u001b[1;36m0\u001b[0m \u001b[1;36m0\u001b[0m \u001b[1;36m0\u001b[0m \u001b[1;36m0\u001b[0m \u001b[1;36m0\u001b[0m\u001b[1m]\u001b[0m\n"
      ]
     },
     "metadata": {},
     "output_type": "display_data"
    },
    {
     "data": {
      "text/html": [
       "<pre style=\"white-space:pre;overflow-x:auto;line-height:normal;font-family:Menlo,'DejaVu Sans Mono',consolas,'Courier New',monospace\"><span style=\"font-weight: bold\">[</span><span style=\"color: #008080; text-decoration-color: #008080; font-weight: bold\">0</span> <span style=\"color: #008080; text-decoration-color: #008080; font-weight: bold\">1</span> <span style=\"color: #008080; text-decoration-color: #008080; font-weight: bold\">0</span> <span style=\"color: #008080; text-decoration-color: #008080; font-weight: bold\">0</span> <span style=\"color: #008080; text-decoration-color: #008080; font-weight: bold\">1</span> <span style=\"color: #008080; text-decoration-color: #008080; font-weight: bold\">0</span> <span style=\"color: #008080; text-decoration-color: #008080; font-weight: bold\">0</span> <span style=\"color: #008080; text-decoration-color: #008080; font-weight: bold\">0</span> <span style=\"color: #008080; text-decoration-color: #008080; font-weight: bold\">0</span> <span style=\"color: #008080; text-decoration-color: #008080; font-weight: bold\">0</span> <span style=\"color: #008080; text-decoration-color: #008080; font-weight: bold\">0</span> <span style=\"color: #008080; text-decoration-color: #008080; font-weight: bold\">0</span> <span style=\"color: #008080; text-decoration-color: #008080; font-weight: bold\">0</span> <span style=\"color: #008080; text-decoration-color: #008080; font-weight: bold\">0</span> <span style=\"color: #008080; text-decoration-color: #008080; font-weight: bold\">0</span><span style=\"font-weight: bold\">]</span>\n",
       "</pre>\n"
      ],
      "text/plain": [
       "\u001b[1m[\u001b[0m\u001b[1;36m0\u001b[0m \u001b[1;36m1\u001b[0m \u001b[1;36m0\u001b[0m \u001b[1;36m0\u001b[0m \u001b[1;36m1\u001b[0m \u001b[1;36m0\u001b[0m \u001b[1;36m0\u001b[0m \u001b[1;36m0\u001b[0m \u001b[1;36m0\u001b[0m \u001b[1;36m0\u001b[0m \u001b[1;36m0\u001b[0m \u001b[1;36m0\u001b[0m \u001b[1;36m0\u001b[0m \u001b[1;36m0\u001b[0m \u001b[1;36m0\u001b[0m\u001b[1m]\u001b[0m\n"
      ]
     },
     "metadata": {},
     "output_type": "display_data"
    },
    {
     "data": {
      "text/html": [
       "<pre style=\"white-space:pre;overflow-x:auto;line-height:normal;font-family:Menlo,'DejaVu Sans Mono',consolas,'Courier New',monospace\"><span style=\"font-weight: bold\">[</span><span style=\"color: #008080; text-decoration-color: #008080; font-weight: bold\">0</span> <span style=\"color: #008080; text-decoration-color: #008080; font-weight: bold\">0</span> <span style=\"color: #008080; text-decoration-color: #008080; font-weight: bold\">0</span> <span style=\"color: #008080; text-decoration-color: #008080; font-weight: bold\">0</span> <span style=\"color: #008080; text-decoration-color: #008080; font-weight: bold\">0</span> <span style=\"color: #008080; text-decoration-color: #008080; font-weight: bold\">0</span> <span style=\"color: #008080; text-decoration-color: #008080; font-weight: bold\">0</span> <span style=\"color: #008080; text-decoration-color: #008080; font-weight: bold\">0</span> <span style=\"color: #008080; text-decoration-color: #008080; font-weight: bold\">0</span> <span style=\"color: #008080; text-decoration-color: #008080; font-weight: bold\">0</span> <span style=\"color: #008080; text-decoration-color: #008080; font-weight: bold\">1</span> <span style=\"color: #008080; text-decoration-color: #008080; font-weight: bold\">0</span> <span style=\"color: #008080; text-decoration-color: #008080; font-weight: bold\">0</span> <span style=\"color: #008080; text-decoration-color: #008080; font-weight: bold\">0</span> <span style=\"color: #008080; text-decoration-color: #008080; font-weight: bold\">0</span><span style=\"font-weight: bold\">]</span>\n",
       "</pre>\n"
      ],
      "text/plain": [
       "\u001b[1m[\u001b[0m\u001b[1;36m0\u001b[0m \u001b[1;36m0\u001b[0m \u001b[1;36m0\u001b[0m \u001b[1;36m0\u001b[0m \u001b[1;36m0\u001b[0m \u001b[1;36m0\u001b[0m \u001b[1;36m0\u001b[0m \u001b[1;36m0\u001b[0m \u001b[1;36m0\u001b[0m \u001b[1;36m0\u001b[0m \u001b[1;36m1\u001b[0m \u001b[1;36m0\u001b[0m \u001b[1;36m0\u001b[0m \u001b[1;36m0\u001b[0m \u001b[1;36m0\u001b[0m\u001b[1m]\u001b[0m\n"
      ]
     },
     "metadata": {},
     "output_type": "display_data"
    },
    {
     "data": {
      "text/html": [
       "<pre style=\"white-space:pre;overflow-x:auto;line-height:normal;font-family:Menlo,'DejaVu Sans Mono',consolas,'Courier New',monospace\"><span style=\"font-weight: bold\">[</span><span style=\"color: #008080; text-decoration-color: #008080; font-weight: bold\">0</span> <span style=\"color: #008080; text-decoration-color: #008080; font-weight: bold\">0</span> <span style=\"color: #008080; text-decoration-color: #008080; font-weight: bold\">0</span> <span style=\"color: #008080; text-decoration-color: #008080; font-weight: bold\">0</span> <span style=\"color: #008080; text-decoration-color: #008080; font-weight: bold\">0</span> <span style=\"color: #008080; text-decoration-color: #008080; font-weight: bold\">0</span> <span style=\"color: #008080; text-decoration-color: #008080; font-weight: bold\">0</span> <span style=\"color: #008080; text-decoration-color: #008080; font-weight: bold\">1</span> <span style=\"color: #008080; text-decoration-color: #008080; font-weight: bold\">0</span> <span style=\"color: #008080; text-decoration-color: #008080; font-weight: bold\">0</span> <span style=\"color: #008080; text-decoration-color: #008080; font-weight: bold\">0</span> <span style=\"color: #008080; text-decoration-color: #008080; font-weight: bold\">0</span> <span style=\"color: #008080; text-decoration-color: #008080; font-weight: bold\">0</span> <span style=\"color: #008080; text-decoration-color: #008080; font-weight: bold\">0</span> <span style=\"color: #008080; text-decoration-color: #008080; font-weight: bold\">0</span><span style=\"font-weight: bold\">]</span>\n",
       "</pre>\n"
      ],
      "text/plain": [
       "\u001b[1m[\u001b[0m\u001b[1;36m0\u001b[0m \u001b[1;36m0\u001b[0m \u001b[1;36m0\u001b[0m \u001b[1;36m0\u001b[0m \u001b[1;36m0\u001b[0m \u001b[1;36m0\u001b[0m \u001b[1;36m0\u001b[0m \u001b[1;36m1\u001b[0m \u001b[1;36m0\u001b[0m \u001b[1;36m0\u001b[0m \u001b[1;36m0\u001b[0m \u001b[1;36m0\u001b[0m \u001b[1;36m0\u001b[0m \u001b[1;36m0\u001b[0m \u001b[1;36m0\u001b[0m\u001b[1m]\u001b[0m\n"
      ]
     },
     "metadata": {},
     "output_type": "display_data"
    },
    {
     "data": {
      "text/html": [
       "<pre style=\"white-space:pre;overflow-x:auto;line-height:normal;font-family:Menlo,'DejaVu Sans Mono',consolas,'Courier New',monospace\"><span style=\"font-weight: bold\">[</span><span style=\"color: #008080; text-decoration-color: #008080; font-weight: bold\">0</span> <span style=\"color: #008080; text-decoration-color: #008080; font-weight: bold\">0</span> <span style=\"color: #008080; text-decoration-color: #008080; font-weight: bold\">0</span> <span style=\"color: #008080; text-decoration-color: #008080; font-weight: bold\">0</span> <span style=\"color: #008080; text-decoration-color: #008080; font-weight: bold\">0</span> <span style=\"color: #008080; text-decoration-color: #008080; font-weight: bold\">0</span> <span style=\"color: #008080; text-decoration-color: #008080; font-weight: bold\">0</span> <span style=\"color: #008080; text-decoration-color: #008080; font-weight: bold\">1</span> <span style=\"color: #008080; text-decoration-color: #008080; font-weight: bold\">0</span> <span style=\"color: #008080; text-decoration-color: #008080; font-weight: bold\">0</span> <span style=\"color: #008080; text-decoration-color: #008080; font-weight: bold\">0</span> <span style=\"color: #008080; text-decoration-color: #008080; font-weight: bold\">0</span> <span style=\"color: #008080; text-decoration-color: #008080; font-weight: bold\">0</span> <span style=\"color: #008080; text-decoration-color: #008080; font-weight: bold\">0</span> <span style=\"color: #008080; text-decoration-color: #008080; font-weight: bold\">0</span><span style=\"font-weight: bold\">]</span>\n",
       "</pre>\n"
      ],
      "text/plain": [
       "\u001b[1m[\u001b[0m\u001b[1;36m0\u001b[0m \u001b[1;36m0\u001b[0m \u001b[1;36m0\u001b[0m \u001b[1;36m0\u001b[0m \u001b[1;36m0\u001b[0m \u001b[1;36m0\u001b[0m \u001b[1;36m0\u001b[0m \u001b[1;36m1\u001b[0m \u001b[1;36m0\u001b[0m \u001b[1;36m0\u001b[0m \u001b[1;36m0\u001b[0m \u001b[1;36m0\u001b[0m \u001b[1;36m0\u001b[0m \u001b[1;36m0\u001b[0m \u001b[1;36m0\u001b[0m\u001b[1m]\u001b[0m\n"
      ]
     },
     "metadata": {},
     "output_type": "display_data"
    },
    {
     "data": {
      "text/html": [
       "<pre style=\"white-space:pre;overflow-x:auto;line-height:normal;font-family:Menlo,'DejaVu Sans Mono',consolas,'Courier New',monospace\"><span style=\"font-weight: bold\">[</span><span style=\"color: #008080; text-decoration-color: #008080; font-weight: bold\">0</span> <span style=\"color: #008080; text-decoration-color: #008080; font-weight: bold\">0</span> <span style=\"color: #008080; text-decoration-color: #008080; font-weight: bold\">0</span> <span style=\"color: #008080; text-decoration-color: #008080; font-weight: bold\">0</span> <span style=\"color: #008080; text-decoration-color: #008080; font-weight: bold\">0</span> <span style=\"color: #008080; text-decoration-color: #008080; font-weight: bold\">0</span> <span style=\"color: #008080; text-decoration-color: #008080; font-weight: bold\">0</span> <span style=\"color: #008080; text-decoration-color: #008080; font-weight: bold\">1</span> <span style=\"color: #008080; text-decoration-color: #008080; font-weight: bold\">0</span> <span style=\"color: #008080; text-decoration-color: #008080; font-weight: bold\">0</span> <span style=\"color: #008080; text-decoration-color: #008080; font-weight: bold\">0</span> <span style=\"color: #008080; text-decoration-color: #008080; font-weight: bold\">0</span> <span style=\"color: #008080; text-decoration-color: #008080; font-weight: bold\">0</span> <span style=\"color: #008080; text-decoration-color: #008080; font-weight: bold\">0</span> <span style=\"color: #008080; text-decoration-color: #008080; font-weight: bold\">0</span><span style=\"font-weight: bold\">]</span>\n",
       "</pre>\n"
      ],
      "text/plain": [
       "\u001b[1m[\u001b[0m\u001b[1;36m0\u001b[0m \u001b[1;36m0\u001b[0m \u001b[1;36m0\u001b[0m \u001b[1;36m0\u001b[0m \u001b[1;36m0\u001b[0m \u001b[1;36m0\u001b[0m \u001b[1;36m0\u001b[0m \u001b[1;36m1\u001b[0m \u001b[1;36m0\u001b[0m \u001b[1;36m0\u001b[0m \u001b[1;36m0\u001b[0m \u001b[1;36m0\u001b[0m \u001b[1;36m0\u001b[0m \u001b[1;36m0\u001b[0m \u001b[1;36m0\u001b[0m\u001b[1m]\u001b[0m\n"
      ]
     },
     "metadata": {},
     "output_type": "display_data"
    },
    {
     "data": {
      "text/html": [
       "<pre style=\"white-space:pre;overflow-x:auto;line-height:normal;font-family:Menlo,'DejaVu Sans Mono',consolas,'Courier New',monospace\"><span style=\"font-weight: bold\">[</span><span style=\"color: #008080; text-decoration-color: #008080; font-weight: bold\">0</span> <span style=\"color: #008080; text-decoration-color: #008080; font-weight: bold\">0</span> <span style=\"color: #008080; text-decoration-color: #008080; font-weight: bold\">0</span> <span style=\"color: #008080; text-decoration-color: #008080; font-weight: bold\">0</span> <span style=\"color: #008080; text-decoration-color: #008080; font-weight: bold\">0</span> <span style=\"color: #008080; text-decoration-color: #008080; font-weight: bold\">0</span> <span style=\"color: #008080; text-decoration-color: #008080; font-weight: bold\">0</span> <span style=\"color: #008080; text-decoration-color: #008080; font-weight: bold\">1</span> <span style=\"color: #008080; text-decoration-color: #008080; font-weight: bold\">1</span> <span style=\"color: #008080; text-decoration-color: #008080; font-weight: bold\">0</span> <span style=\"color: #008080; text-decoration-color: #008080; font-weight: bold\">0</span> <span style=\"color: #008080; text-decoration-color: #008080; font-weight: bold\">0</span> <span style=\"color: #008080; text-decoration-color: #008080; font-weight: bold\">0</span> <span style=\"color: #008080; text-decoration-color: #008080; font-weight: bold\">0</span> <span style=\"color: #008080; text-decoration-color: #008080; font-weight: bold\">0</span><span style=\"font-weight: bold\">]</span>\n",
       "</pre>\n"
      ],
      "text/plain": [
       "\u001b[1m[\u001b[0m\u001b[1;36m0\u001b[0m \u001b[1;36m0\u001b[0m \u001b[1;36m0\u001b[0m \u001b[1;36m0\u001b[0m \u001b[1;36m0\u001b[0m \u001b[1;36m0\u001b[0m \u001b[1;36m0\u001b[0m \u001b[1;36m1\u001b[0m \u001b[1;36m1\u001b[0m \u001b[1;36m0\u001b[0m \u001b[1;36m0\u001b[0m \u001b[1;36m0\u001b[0m \u001b[1;36m0\u001b[0m \u001b[1;36m0\u001b[0m \u001b[1;36m0\u001b[0m\u001b[1m]\u001b[0m\n"
      ]
     },
     "metadata": {},
     "output_type": "display_data"
    },
    {
     "data": {
      "text/html": [
       "<pre style=\"white-space:pre;overflow-x:auto;line-height:normal;font-family:Menlo,'DejaVu Sans Mono',consolas,'Courier New',monospace\"><span style=\"font-weight: bold\">[</span><span style=\"color: #008080; text-decoration-color: #008080; font-weight: bold\">0</span> <span style=\"color: #008080; text-decoration-color: #008080; font-weight: bold\">0</span> <span style=\"color: #008080; text-decoration-color: #008080; font-weight: bold\">0</span> <span style=\"color: #008080; text-decoration-color: #008080; font-weight: bold\">0</span> <span style=\"color: #008080; text-decoration-color: #008080; font-weight: bold\">0</span> <span style=\"color: #008080; text-decoration-color: #008080; font-weight: bold\">0</span> <span style=\"color: #008080; text-decoration-color: #008080; font-weight: bold\">0</span> <span style=\"color: #008080; text-decoration-color: #008080; font-weight: bold\">1</span> <span style=\"color: #008080; text-decoration-color: #008080; font-weight: bold\">0</span> <span style=\"color: #008080; text-decoration-color: #008080; font-weight: bold\">0</span> <span style=\"color: #008080; text-decoration-color: #008080; font-weight: bold\">0</span> <span style=\"color: #008080; text-decoration-color: #008080; font-weight: bold\">0</span> <span style=\"color: #008080; text-decoration-color: #008080; font-weight: bold\">0</span> <span style=\"color: #008080; text-decoration-color: #008080; font-weight: bold\">0</span> <span style=\"color: #008080; text-decoration-color: #008080; font-weight: bold\">0</span><span style=\"font-weight: bold\">]</span>\n",
       "</pre>\n"
      ],
      "text/plain": [
       "\u001b[1m[\u001b[0m\u001b[1;36m0\u001b[0m \u001b[1;36m0\u001b[0m \u001b[1;36m0\u001b[0m \u001b[1;36m0\u001b[0m \u001b[1;36m0\u001b[0m \u001b[1;36m0\u001b[0m \u001b[1;36m0\u001b[0m \u001b[1;36m1\u001b[0m \u001b[1;36m0\u001b[0m \u001b[1;36m0\u001b[0m \u001b[1;36m0\u001b[0m \u001b[1;36m0\u001b[0m \u001b[1;36m0\u001b[0m \u001b[1;36m0\u001b[0m \u001b[1;36m0\u001b[0m\u001b[1m]\u001b[0m\n"
      ]
     },
     "metadata": {},
     "output_type": "display_data"
    },
    {
     "data": {
      "text/html": [
       "<pre style=\"white-space:pre;overflow-x:auto;line-height:normal;font-family:Menlo,'DejaVu Sans Mono',consolas,'Courier New',monospace\"><span style=\"font-weight: bold\">[</span><span style=\"color: #008080; text-decoration-color: #008080; font-weight: bold\">0</span> <span style=\"color: #008080; text-decoration-color: #008080; font-weight: bold\">0</span> <span style=\"color: #008080; text-decoration-color: #008080; font-weight: bold\">0</span> <span style=\"color: #008080; text-decoration-color: #008080; font-weight: bold\">0</span> <span style=\"color: #008080; text-decoration-color: #008080; font-weight: bold\">0</span> <span style=\"color: #008080; text-decoration-color: #008080; font-weight: bold\">0</span> <span style=\"color: #008080; text-decoration-color: #008080; font-weight: bold\">0</span> <span style=\"color: #008080; text-decoration-color: #008080; font-weight: bold\">1</span> <span style=\"color: #008080; text-decoration-color: #008080; font-weight: bold\">0</span> <span style=\"color: #008080; text-decoration-color: #008080; font-weight: bold\">0</span> <span style=\"color: #008080; text-decoration-color: #008080; font-weight: bold\">0</span> <span style=\"color: #008080; text-decoration-color: #008080; font-weight: bold\">0</span> <span style=\"color: #008080; text-decoration-color: #008080; font-weight: bold\">0</span> <span style=\"color: #008080; text-decoration-color: #008080; font-weight: bold\">0</span> <span style=\"color: #008080; text-decoration-color: #008080; font-weight: bold\">0</span><span style=\"font-weight: bold\">]</span>\n",
       "</pre>\n"
      ],
      "text/plain": [
       "\u001b[1m[\u001b[0m\u001b[1;36m0\u001b[0m \u001b[1;36m0\u001b[0m \u001b[1;36m0\u001b[0m \u001b[1;36m0\u001b[0m \u001b[1;36m0\u001b[0m \u001b[1;36m0\u001b[0m \u001b[1;36m0\u001b[0m \u001b[1;36m1\u001b[0m \u001b[1;36m0\u001b[0m \u001b[1;36m0\u001b[0m \u001b[1;36m0\u001b[0m \u001b[1;36m0\u001b[0m \u001b[1;36m0\u001b[0m \u001b[1;36m0\u001b[0m \u001b[1;36m0\u001b[0m\u001b[1m]\u001b[0m\n"
      ]
     },
     "metadata": {},
     "output_type": "display_data"
    }
   ],
   "source": [
    "for row in patient_df[multi_target][:10]:\n",
    "    row = [row]\n",
    "    console.print(mlb.transform(row)[0])"
   ]
  },
  {
   "cell_type": "code",
   "execution_count": 69,
   "metadata": {},
   "outputs": [],
   "source": [
    "from bitstring import BitArray, Bits"
   ]
  },
  {
   "cell_type": "code",
   "execution_count": 74,
   "metadata": {},
   "outputs": [
    {
     "data": {
      "text/html": [
       "<pre style=\"white-space:pre;overflow-x:auto;line-height:normal;font-family:Menlo,'DejaVu Sans Mono',consolas,'Courier New',monospace\">\n",
       "Image Index\n",
       "00000001_000.png    <span style=\"font-weight: bold\">[</span><span style=\"color: #ff0000; text-decoration-color: #ff0000; font-style: italic\">False</span>, <span style=\"color: #00ff00; text-decoration-color: #00ff00; font-style: italic\">True</span>, <span style=\"color: #ff0000; text-decoration-color: #ff0000; font-style: italic\">False</span>, <span style=\"color: #ff0000; text-decoration-color: #ff0000; font-style: italic\">False</span>, <span style=\"color: #ff0000; text-decoration-color: #ff0000; font-style: italic\">False</span>, <span style=\"color: #ff0000; text-decoration-color: #ff0000; font-style: italic\">False</span>, Fals<span style=\"color: #808000; text-decoration-color: #808000\">...</span>\n",
       "00000001_001.png    <span style=\"font-weight: bold\">[</span><span style=\"color: #ff0000; text-decoration-color: #ff0000; font-style: italic\">False</span>, <span style=\"color: #00ff00; text-decoration-color: #00ff00; font-style: italic\">True</span>, <span style=\"color: #ff0000; text-decoration-color: #ff0000; font-style: italic\">False</span>, <span style=\"color: #ff0000; text-decoration-color: #ff0000; font-style: italic\">False</span>, <span style=\"color: #ff0000; text-decoration-color: #ff0000; font-style: italic\">False</span>, <span style=\"color: #00ff00; text-decoration-color: #00ff00; font-style: italic\">True</span>, <span style=\"color: #ff0000; text-decoration-color: #ff0000; font-style: italic\">False</span><span style=\"color: #808000; text-decoration-color: #808000\">...</span>\n",
       "00000001_002.png    <span style=\"font-weight: bold\">[</span><span style=\"color: #ff0000; text-decoration-color: #ff0000; font-style: italic\">False</span>, <span style=\"color: #00ff00; text-decoration-color: #00ff00; font-style: italic\">True</span>, <span style=\"color: #ff0000; text-decoration-color: #ff0000; font-style: italic\">False</span>, <span style=\"color: #ff0000; text-decoration-color: #ff0000; font-style: italic\">False</span>, <span style=\"color: #00ff00; text-decoration-color: #00ff00; font-style: italic\">True</span>, <span style=\"color: #ff0000; text-decoration-color: #ff0000; font-style: italic\">False</span>, <span style=\"color: #ff0000; text-decoration-color: #ff0000; font-style: italic\">False</span><span style=\"color: #808000; text-decoration-color: #808000\">...</span>\n",
       "00000002_000.png    <span style=\"font-weight: bold\">[</span><span style=\"color: #ff0000; text-decoration-color: #ff0000; font-style: italic\">False</span>, <span style=\"color: #ff0000; text-decoration-color: #ff0000; font-style: italic\">False</span>, <span style=\"color: #ff0000; text-decoration-color: #ff0000; font-style: italic\">False</span>, <span style=\"color: #ff0000; text-decoration-color: #ff0000; font-style: italic\">False</span>, <span style=\"color: #ff0000; text-decoration-color: #ff0000; font-style: italic\">False</span>, <span style=\"color: #ff0000; text-decoration-color: #ff0000; font-style: italic\">False</span>, Fal<span style=\"color: #808000; text-decoration-color: #808000\">...</span>\n",
       "00000003_000.png    <span style=\"font-weight: bold\">[</span><span style=\"color: #ff0000; text-decoration-color: #ff0000; font-style: italic\">False</span>, <span style=\"color: #ff0000; text-decoration-color: #ff0000; font-style: italic\">False</span>, <span style=\"color: #ff0000; text-decoration-color: #ff0000; font-style: italic\">False</span>, <span style=\"color: #ff0000; text-decoration-color: #ff0000; font-style: italic\">False</span>, <span style=\"color: #ff0000; text-decoration-color: #ff0000; font-style: italic\">False</span>, <span style=\"color: #ff0000; text-decoration-color: #ff0000; font-style: italic\">False</span>, Fal<span style=\"color: #808000; text-decoration-color: #808000\">...</span>\n",
       "                                          <span style=\"color: #808000; text-decoration-color: #808000\">...</span>                        \n",
       "00030801_001.png    <span style=\"font-weight: bold\">[</span><span style=\"color: #ff0000; text-decoration-color: #ff0000; font-style: italic\">False</span>, <span style=\"color: #ff0000; text-decoration-color: #ff0000; font-style: italic\">False</span>, <span style=\"color: #ff0000; text-decoration-color: #ff0000; font-style: italic\">False</span>, <span style=\"color: #ff0000; text-decoration-color: #ff0000; font-style: italic\">False</span>, <span style=\"color: #ff0000; text-decoration-color: #ff0000; font-style: italic\">False</span>, <span style=\"color: #ff0000; text-decoration-color: #ff0000; font-style: italic\">False</span>, Fal<span style=\"color: #808000; text-decoration-color: #808000\">...</span>\n",
       "00030802_000.png    <span style=\"font-weight: bold\">[</span><span style=\"color: #ff0000; text-decoration-color: #ff0000; font-style: italic\">False</span>, <span style=\"color: #ff0000; text-decoration-color: #ff0000; font-style: italic\">False</span>, <span style=\"color: #ff0000; text-decoration-color: #ff0000; font-style: italic\">False</span>, <span style=\"color: #ff0000; text-decoration-color: #ff0000; font-style: italic\">False</span>, <span style=\"color: #ff0000; text-decoration-color: #ff0000; font-style: italic\">False</span>, <span style=\"color: #ff0000; text-decoration-color: #ff0000; font-style: italic\">False</span>, Fal<span style=\"color: #808000; text-decoration-color: #808000\">...</span>\n",
       "00030803_000.png    <span style=\"font-weight: bold\">[</span><span style=\"color: #ff0000; text-decoration-color: #ff0000; font-style: italic\">False</span>, <span style=\"color: #ff0000; text-decoration-color: #ff0000; font-style: italic\">False</span>, <span style=\"color: #ff0000; text-decoration-color: #ff0000; font-style: italic\">False</span>, <span style=\"color: #ff0000; text-decoration-color: #ff0000; font-style: italic\">False</span>, <span style=\"color: #ff0000; text-decoration-color: #ff0000; font-style: italic\">False</span>, <span style=\"color: #ff0000; text-decoration-color: #ff0000; font-style: italic\">False</span>, Fal<span style=\"color: #808000; text-decoration-color: #808000\">...</span>\n",
       "00030804_000.png    <span style=\"font-weight: bold\">[</span><span style=\"color: #ff0000; text-decoration-color: #ff0000; font-style: italic\">False</span>, <span style=\"color: #ff0000; text-decoration-color: #ff0000; font-style: italic\">False</span>, <span style=\"color: #ff0000; text-decoration-color: #ff0000; font-style: italic\">False</span>, <span style=\"color: #ff0000; text-decoration-color: #ff0000; font-style: italic\">False</span>, <span style=\"color: #ff0000; text-decoration-color: #ff0000; font-style: italic\">False</span>, <span style=\"color: #ff0000; text-decoration-color: #ff0000; font-style: italic\">False</span>, Fal<span style=\"color: #808000; text-decoration-color: #808000\">...</span>\n",
       "00030805_000.png    <span style=\"font-weight: bold\">[</span><span style=\"color: #ff0000; text-decoration-color: #ff0000; font-style: italic\">False</span>, <span style=\"color: #ff0000; text-decoration-color: #ff0000; font-style: italic\">False</span>, <span style=\"color: #ff0000; text-decoration-color: #ff0000; font-style: italic\">False</span>, <span style=\"color: #ff0000; text-decoration-color: #ff0000; font-style: italic\">False</span>, <span style=\"color: #ff0000; text-decoration-color: #ff0000; font-style: italic\">False</span>, <span style=\"color: #ff0000; text-decoration-color: #ff0000; font-style: italic\">False</span>, Fal<span style=\"color: #808000; text-decoration-color: #808000\">...</span>\n",
       "Name: multi_Finding Labels, Length: <span style=\"color: #008080; text-decoration-color: #008080; font-weight: bold\">112120</span>, dtype: object\n",
       "</pre>\n"
      ],
      "text/plain": [
       "\n",
       "Image Index\n",
       "00000001_000.png    \u001b[1m[\u001b[0m\u001b[3;91mFalse\u001b[0m, \u001b[3;92mTrue\u001b[0m, \u001b[3;91mFalse\u001b[0m, \u001b[3;91mFalse\u001b[0m, \u001b[3;91mFalse\u001b[0m, \u001b[3;91mFalse\u001b[0m, Fals\u001b[33m...\u001b[0m\n",
       "00000001_001.png    \u001b[1m[\u001b[0m\u001b[3;91mFalse\u001b[0m, \u001b[3;92mTrue\u001b[0m, \u001b[3;91mFalse\u001b[0m, \u001b[3;91mFalse\u001b[0m, \u001b[3;91mFalse\u001b[0m, \u001b[3;92mTrue\u001b[0m, \u001b[3;91mFalse\u001b[0m\u001b[33m...\u001b[0m\n",
       "00000001_002.png    \u001b[1m[\u001b[0m\u001b[3;91mFalse\u001b[0m, \u001b[3;92mTrue\u001b[0m, \u001b[3;91mFalse\u001b[0m, \u001b[3;91mFalse\u001b[0m, \u001b[3;92mTrue\u001b[0m, \u001b[3;91mFalse\u001b[0m, \u001b[3;91mFalse\u001b[0m\u001b[33m...\u001b[0m\n",
       "00000002_000.png    \u001b[1m[\u001b[0m\u001b[3;91mFalse\u001b[0m, \u001b[3;91mFalse\u001b[0m, \u001b[3;91mFalse\u001b[0m, \u001b[3;91mFalse\u001b[0m, \u001b[3;91mFalse\u001b[0m, \u001b[3;91mFalse\u001b[0m, Fal\u001b[33m...\u001b[0m\n",
       "00000003_000.png    \u001b[1m[\u001b[0m\u001b[3;91mFalse\u001b[0m, \u001b[3;91mFalse\u001b[0m, \u001b[3;91mFalse\u001b[0m, \u001b[3;91mFalse\u001b[0m, \u001b[3;91mFalse\u001b[0m, \u001b[3;91mFalse\u001b[0m, Fal\u001b[33m...\u001b[0m\n",
       "                                          \u001b[33m...\u001b[0m                        \n",
       "00030801_001.png    \u001b[1m[\u001b[0m\u001b[3;91mFalse\u001b[0m, \u001b[3;91mFalse\u001b[0m, \u001b[3;91mFalse\u001b[0m, \u001b[3;91mFalse\u001b[0m, \u001b[3;91mFalse\u001b[0m, \u001b[3;91mFalse\u001b[0m, Fal\u001b[33m...\u001b[0m\n",
       "00030802_000.png    \u001b[1m[\u001b[0m\u001b[3;91mFalse\u001b[0m, \u001b[3;91mFalse\u001b[0m, \u001b[3;91mFalse\u001b[0m, \u001b[3;91mFalse\u001b[0m, \u001b[3;91mFalse\u001b[0m, \u001b[3;91mFalse\u001b[0m, Fal\u001b[33m...\u001b[0m\n",
       "00030803_000.png    \u001b[1m[\u001b[0m\u001b[3;91mFalse\u001b[0m, \u001b[3;91mFalse\u001b[0m, \u001b[3;91mFalse\u001b[0m, \u001b[3;91mFalse\u001b[0m, \u001b[3;91mFalse\u001b[0m, \u001b[3;91mFalse\u001b[0m, Fal\u001b[33m...\u001b[0m\n",
       "00030804_000.png    \u001b[1m[\u001b[0m\u001b[3;91mFalse\u001b[0m, \u001b[3;91mFalse\u001b[0m, \u001b[3;91mFalse\u001b[0m, \u001b[3;91mFalse\u001b[0m, \u001b[3;91mFalse\u001b[0m, \u001b[3;91mFalse\u001b[0m, Fal\u001b[33m...\u001b[0m\n",
       "00030805_000.png    \u001b[1m[\u001b[0m\u001b[3;91mFalse\u001b[0m, \u001b[3;91mFalse\u001b[0m, \u001b[3;91mFalse\u001b[0m, \u001b[3;91mFalse\u001b[0m, \u001b[3;91mFalse\u001b[0m, \u001b[3;91mFalse\u001b[0m, Fal\u001b[33m...\u001b[0m\n",
       "Name: multi_Finding Labels, Length: \u001b[1;36m112120\u001b[0m, dtype: object\n"
      ]
     },
     "metadata": {},
     "output_type": "display_data"
    }
   ],
   "source": [
    "# patient_df[multi_target] = mlb.transform(patient_df[multi_target])\n",
    "def build_bitstring(\n",
    "    target: str, df: pd.DataFrame, mlb: MultiLabelBinarizer, inplace=True\n",
    "):\n",
    "    logger.info(f\"Building bitstring for {target}\")\n",
    "    def __bool_list_to_bitstring(x):\n",
    "        x = mlb.transform([x])[0]\n",
    "        x = [BitArray(bin=\"1\" if b == 1 else \"0\") for b in x]\n",
    "        x = BitArray().join(x)\n",
    "        return x\n",
    "\n",
    "    transform = df[target].apply(lambda x: __bool_list_to_bitstring(x))\n",
    "    if inplace:\n",
    "        df[target] = transform\n",
    "    else:\n",
    "        return transform\n",
    "\n",
    "\n",
    "build_bitstring(multi_target, patient_df, mlb, inplace=False)"
   ]
  },
  {
   "cell_type": "markdown",
   "metadata": {},
   "source": [
    "### Bitwise operations\n",
    "Since we now have everything setup as a bitstring, we can use bit operations for subsetting the data rather than the previous way I was doing it. Here's an example:"
   ]
  },
  {
   "cell_type": "code",
   "execution_count": 75,
   "metadata": {},
   "outputs": [
    {
     "data": {
      "text/html": [
       "<pre style=\"white-space:pre;overflow-x:auto;line-height:normal;font-family:Menlo,'DejaVu Sans Mono',consolas,'Courier New',monospace\"><span style=\"font-weight: bold\">{</span>\n",
       "    <span style=\"color: #008000; text-decoration-color: #008000\">'Atelectasis'</span>: <span style=\"color: #008080; text-decoration-color: #008080; font-weight: bold\">0</span>,\n",
       "    <span style=\"color: #008000; text-decoration-color: #008000\">'Cardiomegaly'</span>: <span style=\"color: #008080; text-decoration-color: #008080; font-weight: bold\">1</span>,\n",
       "    <span style=\"color: #008000; text-decoration-color: #008000\">'Consolidation'</span>: <span style=\"color: #008080; text-decoration-color: #008080; font-weight: bold\">2</span>,\n",
       "    <span style=\"color: #008000; text-decoration-color: #008000\">'Edema'</span>: <span style=\"color: #008080; text-decoration-color: #008080; font-weight: bold\">3</span>,\n",
       "    <span style=\"color: #008000; text-decoration-color: #008000\">'Effusion'</span>: <span style=\"color: #008080; text-decoration-color: #008080; font-weight: bold\">4</span>,\n",
       "    <span style=\"color: #008000; text-decoration-color: #008000\">'Emphysema'</span>: <span style=\"color: #008080; text-decoration-color: #008080; font-weight: bold\">5</span>,\n",
       "    <span style=\"color: #008000; text-decoration-color: #008000\">'Fibrosis'</span>: <span style=\"color: #008080; text-decoration-color: #008080; font-weight: bold\">6</span>,\n",
       "    <span style=\"color: #008000; text-decoration-color: #008000\">'Hernia'</span>: <span style=\"color: #008080; text-decoration-color: #008080; font-weight: bold\">7</span>,\n",
       "    <span style=\"color: #008000; text-decoration-color: #008000\">'Infiltration'</span>: <span style=\"color: #008080; text-decoration-color: #008080; font-weight: bold\">8</span>,\n",
       "    <span style=\"color: #008000; text-decoration-color: #008000\">'Mass'</span>: <span style=\"color: #008080; text-decoration-color: #008080; font-weight: bold\">9</span>,\n",
       "    <span style=\"color: #008000; text-decoration-color: #008000\">'No Finding'</span>: <span style=\"color: #008080; text-decoration-color: #008080; font-weight: bold\">10</span>,\n",
       "    <span style=\"color: #008000; text-decoration-color: #008000\">'Nodule'</span>: <span style=\"color: #008080; text-decoration-color: #008080; font-weight: bold\">11</span>,\n",
       "    <span style=\"color: #008000; text-decoration-color: #008000\">'Pleural_Thickening'</span>: <span style=\"color: #008080; text-decoration-color: #008080; font-weight: bold\">12</span>,\n",
       "    <span style=\"color: #008000; text-decoration-color: #008000\">'Pneumonia'</span>: <span style=\"color: #008080; text-decoration-color: #008080; font-weight: bold\">13</span>,\n",
       "    <span style=\"color: #008000; text-decoration-color: #008000\">'Pneumothorax'</span>: <span style=\"color: #008080; text-decoration-color: #008080; font-weight: bold\">14</span>\n",
       "<span style=\"font-weight: bold\">}</span>\n",
       "</pre>\n"
      ],
      "text/plain": [
       "\u001b[1m{\u001b[0m\n",
       "    \u001b[32m'Atelectasis'\u001b[0m: \u001b[1;36m0\u001b[0m,\n",
       "    \u001b[32m'Cardiomegaly'\u001b[0m: \u001b[1;36m1\u001b[0m,\n",
       "    \u001b[32m'Consolidation'\u001b[0m: \u001b[1;36m2\u001b[0m,\n",
       "    \u001b[32m'Edema'\u001b[0m: \u001b[1;36m3\u001b[0m,\n",
       "    \u001b[32m'Effusion'\u001b[0m: \u001b[1;36m4\u001b[0m,\n",
       "    \u001b[32m'Emphysema'\u001b[0m: \u001b[1;36m5\u001b[0m,\n",
       "    \u001b[32m'Fibrosis'\u001b[0m: \u001b[1;36m6\u001b[0m,\n",
       "    \u001b[32m'Hernia'\u001b[0m: \u001b[1;36m7\u001b[0m,\n",
       "    \u001b[32m'Infiltration'\u001b[0m: \u001b[1;36m8\u001b[0m,\n",
       "    \u001b[32m'Mass'\u001b[0m: \u001b[1;36m9\u001b[0m,\n",
       "    \u001b[32m'No Finding'\u001b[0m: \u001b[1;36m10\u001b[0m,\n",
       "    \u001b[32m'Nodule'\u001b[0m: \u001b[1;36m11\u001b[0m,\n",
       "    \u001b[32m'Pleural_Thickening'\u001b[0m: \u001b[1;36m12\u001b[0m,\n",
       "    \u001b[32m'Pneumonia'\u001b[0m: \u001b[1;36m13\u001b[0m,\n",
       "    \u001b[32m'Pneumothorax'\u001b[0m: \u001b[1;36m14\u001b[0m\n",
       "\u001b[1m}\u001b[0m\n"
      ]
     },
     "metadata": {},
     "output_type": "display_data"
    }
   ],
   "source": [
    "console.print(all_class_encoding)"
   ]
  },
  {
   "cell_type": "code",
   "execution_count": 76,
   "metadata": {},
   "outputs": [],
   "source": [
    "patient_df[multi_target] = build_bitstring(multi_target, patient_df, mlb, inplace=False)"
   ]
  },
  {
   "cell_type": "code",
   "execution_count": 77,
   "metadata": {},
   "outputs": [
    {
     "data": {
      "text/html": [
       "<pre style=\"white-space:pre;overflow-x:auto;line-height:normal;font-family:Menlo,'DejaVu Sans Mono',consolas,'Courier New',monospace\">\n",
       "Finding Labels                                               Cardiomegaly\n",
       "Patient ID                                                              <span style=\"color: #008080; text-decoration-color: #008080; font-weight: bold\">1</span>\n",
       "Patient Age                                                            <span style=\"color: #008080; text-decoration-color: #008080; font-weight: bold\">58</span>\n",
       "Patient Gender                                                          M\n",
       "image_files             <span style=\"color: #800080; text-decoration-color: #800080\">/home/nicoleg/workspaces/dissertation/.data/</span><span style=\"color: #ff00ff; text-decoration-color: #ff00ff\">Ch...</span>\n",
       "multi_Finding Labels    <span style=\"font-weight: bold\">[</span><span style=\"color: #ff0000; text-decoration-color: #ff0000; font-style: italic\">False</span>, <span style=\"color: #00ff00; text-decoration-color: #00ff00; font-style: italic\">True</span>, <span style=\"color: #ff0000; text-decoration-color: #ff0000; font-style: italic\">False</span>, <span style=\"color: #ff0000; text-decoration-color: #ff0000; font-style: italic\">False</span>, <span style=\"color: #ff0000; text-decoration-color: #ff0000; font-style: italic\">False</span>, <span style=\"color: #ff0000; text-decoration-color: #ff0000; font-style: italic\">False</span>, Fals<span style=\"color: #808000; text-decoration-color: #808000\">...</span>\n",
       "Name: 00000001_000.png, dtype: object\n",
       "</pre>\n"
      ],
      "text/plain": [
       "\n",
       "Finding Labels                                               Cardiomegaly\n",
       "Patient ID                                                              \u001b[1;36m1\u001b[0m\n",
       "Patient Age                                                            \u001b[1;36m58\u001b[0m\n",
       "Patient Gender                                                          M\n",
       "image_files             \u001b[35m/home/nicoleg/workspaces/dissertation/.data/\u001b[0m\u001b[95mCh...\u001b[0m\n",
       "multi_Finding Labels    \u001b[1m[\u001b[0m\u001b[3;91mFalse\u001b[0m, \u001b[3;92mTrue\u001b[0m, \u001b[3;91mFalse\u001b[0m, \u001b[3;91mFalse\u001b[0m, \u001b[3;91mFalse\u001b[0m, \u001b[3;91mFalse\u001b[0m, Fals\u001b[33m...\u001b[0m\n",
       "Name: 00000001_000.png, dtype: object\n"
      ]
     },
     "metadata": {},
     "output_type": "display_data"
    }
   ],
   "source": [
    "# grab first three rows\n",
    "a = patient_df.iloc[0]\n",
    "a"
   ]
  },
  {
   "cell_type": "code",
   "execution_count": 92,
   "metadata": {},
   "outputs": [],
   "source": [
    "def intlist_to_bitstring(x):\n",
    "    return BitArray().join([BitArray(bin=\"1\" if b == 1 else \"0\") for b in x])"
   ]
  },
  {
   "cell_type": "code",
   "execution_count": 93,
   "metadata": {},
   "outputs": [
    {
     "data": {
      "text/html": [
       "<pre style=\"white-space:pre;overflow-x:auto;line-height:normal;font-family:Menlo,'DejaVu Sans Mono',consolas,'Courier New',monospace\"><span style=\"font-weight: bold\">(</span><span style=\"color: #800080; text-decoration-color: #800080; font-weight: bold\">BitArray</span><span style=\"font-weight: bold\">(</span><span style=\"color: #008000; text-decoration-color: #008000\">'0b000000000000010'</span><span style=\"font-weight: bold\">)</span>, <span style=\"font-weight: bold\">[(</span><span style=\"color: #008000; text-decoration-color: #008000\">'Pneumonia'</span>,<span style=\"font-weight: bold\">)])</span>\n",
       "</pre>\n"
      ],
      "text/plain": [
       "\u001b[1m(\u001b[0m\u001b[1;35mBitArray\u001b[0m\u001b[1m(\u001b[0m\u001b[32m'0b000000000000010'\u001b[0m\u001b[1m)\u001b[0m, \u001b[1m[\u001b[0m\u001b[1m(\u001b[0m\u001b[32m'Pneumonia'\u001b[0m,\u001b[1m)\u001b[0m\u001b[1m]\u001b[0m\u001b[1m)\u001b[0m\n"
      ]
     },
     "metadata": {},
     "output_type": "display_data"
    }
   ],
   "source": [
    "# positive-class only bitstring formation\n",
    "\n",
    "positive_class_encoding = all_class_encoding[positive_class]\n",
    "_BITSTRING_POSITIVE_CLASS = np.zeros(len(all_class_encoding), dtype=int)\n",
    "_BITSTRING_POSITIVE_CLASS[positive_class_encoding] = 1\n",
    "BITSTRING_POSITIVE_CLASS = intlist_to_bitstring(_BITSTRING_POSITIVE_CLASS)\n",
    "# BITSTRING_INVERSE_POSITIVE_CLASS = np.array([0 if i else 1 for i in BITSTRING_POSITIVE_CLASS])\n",
    "\n",
    "BITSTRING_POSITIVE_CLASS, mlb.inverse_transform(_BITSTRING_POSITIVE_CLASS.reshape(1, -1))\n",
    "# BITSTRING_INVERSE_POSITIVE_CLASS"
   ]
  },
  {
   "cell_type": "code",
   "execution_count": 94,
   "metadata": {},
   "outputs": [
    {
     "data": {
      "text/html": [
       "<pre style=\"white-space:pre;overflow-x:auto;line-height:normal;font-family:Menlo,'DejaVu Sans Mono',consolas,'Courier New',monospace\"><span style=\"color: #800080; text-decoration-color: #800080; font-weight: bold\">BitArray</span><span style=\"font-weight: bold\">(</span><span style=\"color: #008000; text-decoration-color: #008000\">'0b000000000000010'</span><span style=\"font-weight: bold\">)</span>\n",
       "</pre>\n"
      ],
      "text/plain": [
       "\u001b[1;35mBitArray\u001b[0m\u001b[1m(\u001b[0m\u001b[32m'0b000000000000010'\u001b[0m\u001b[1m)\u001b[0m\n"
      ]
     },
     "metadata": {},
     "output_type": "display_data"
    }
   ],
   "source": [
    "def class_to_bitarray(label: str, label_encoding: dict):\n",
    "    encoding = label_encoding[label]\n",
    "    _BITSTRING_CLASS = np.zeros(len(all_class_encoding), dtype=int)\n",
    "    _BITSTRING_CLASS[encoding] = 1\n",
    "    BITSTRING_CLASS = intlist_to_bitstring(_BITSTRING_CLASS)\n",
    "\n",
    "    return BITSTRING_CLASS\n",
    "\n",
    "\n",
    "pneumonia_bitstring = class_to_bitarray(\"Pneumonia\", all_class_encoding)\n",
    "pneumonia_bitstring"
   ]
  },
  {
   "cell_type": "code",
   "execution_count": 95,
   "metadata": {},
   "outputs": [
    {
     "data": {
      "text/html": [
       "<pre style=\"white-space:pre;overflow-x:auto;line-height:normal;font-family:Menlo,'DejaVu Sans Mono',consolas,'Courier New',monospace\"><span style=\"color: #800080; text-decoration-color: #800080; font-weight: bold\">BitArray</span><span style=\"font-weight: bold\">(</span><span style=\"color: #008000; text-decoration-color: #008000\">'0b000000000000000'</span><span style=\"font-weight: bold\">)</span>\n",
       "</pre>\n"
      ],
      "text/plain": [
       "\u001b[1;35mBitArray\u001b[0m\u001b[1m(\u001b[0m\u001b[32m'0b000000000000000'\u001b[0m\u001b[1m)\u001b[0m\n"
      ]
     },
     "metadata": {},
     "output_type": "display_data"
    }
   ],
   "source": [
    "_NULL = np.zeros(len(all_class_encoding), dtype=int)\n",
    "NULL = intlist_to_bitstring(_NULL)\n",
    "NULL"
   ]
  },
  {
   "cell_type": "code",
   "execution_count": 99,
   "metadata": {},
   "outputs": [
    {
     "data": {
      "text/html": [
       "<pre style=\"white-space:pre;overflow-x:auto;line-height:normal;font-family:Menlo,'DejaVu Sans Mono',consolas,'Courier New',monospace\"><span style=\"color: #00ff00; text-decoration-color: #00ff00; font-style: italic\">True</span>\n",
       "</pre>\n"
      ],
      "text/plain": [
       "\u001b[3;92mTrue\u001b[0m\n"
      ]
     },
     "metadata": {},
     "output_type": "display_data"
    }
   ],
   "source": [
    "# checks if an instance contains only the positive class\n",
    "a = intlist_to_bitstring(a[multi_target])\n",
    "a & BITSTRING_POSITIVE_CLASS == NULL"
   ]
  },
  {
   "cell_type": "code",
   "execution_count": 101,
   "metadata": {},
   "outputs": [
    {
     "data": {
      "text/html": [
       "<pre style=\"white-space:pre;overflow-x:auto;line-height:normal;font-family:Menlo,'DejaVu Sans Mono',consolas,'Courier New',monospace\"><span style=\"color: #ff0000; text-decoration-color: #ff0000; font-style: italic\">False</span>\n",
       "</pre>\n"
      ],
      "text/plain": [
       "\u001b[3;91mFalse\u001b[0m\n"
      ]
     },
     "metadata": {},
     "output_type": "display_data"
    }
   ],
   "source": [
    "pneumonia_bitstring & BITSTRING_POSITIVE_CLASS == NULL"
   ]
  },
  {
   "cell_type": "code",
   "execution_count": null,
   "metadata": {},
   "outputs": [],
   "source": [
    "def subset_to_positive_class(\n",
    "    df: pd.DataFrame, target: str, inplace=True, version: float = 1.0\n",
    "):\n",
    "    positive_class_encoding = all_class_encoding[positive_class]\n",
    "    bitstring_positive_class = class_to_bitarray(positive_class, all_class_encoding)\n",
    "\n",
    "\n",
    "pneumonia_df = subset_to_positive_class(patient_df, multi_target, inplace=False)\n",
    "pneumonia_df[[target, multi_target]]"
   ]
  },
  {
   "cell_type": "code",
   "execution_count": null,
   "metadata": {},
   "outputs": [],
   "source": [
    "pneumonia_df[multi_target]"
   ]
  },
  {
   "cell_type": "markdown",
   "metadata": {},
   "source": [
    "### Make into dataset"
   ]
  },
  {
   "cell_type": "code",
   "execution_count": null,
   "metadata": {},
   "outputs": [],
   "source": [
    "# visualize\n",
    "train_dataset = ImageDataset(\n",
    "    image_files=train_df[\"image_files\"].tolist(), labels=train_df[target].tolist()\n",
    ")\n",
    "train_loader = ThreadDataLoader(dataset=train_dataset, batch_size=1, num_workers=4)\n",
    "iterator = iter(train_loader)"
   ]
  },
  {
   "cell_type": "code",
   "execution_count": null,
   "metadata": {},
   "outputs": [],
   "source": [
    "from monai.utils import first\n",
    "\n",
    "scan, label = next(iterator)\n",
    "scan.shape, label\n"
   ]
  },
  {
   "cell_type": "code",
   "execution_count": null,
   "metadata": {},
   "outputs": [],
   "source": [
    "scan.squeeze().shape"
   ]
  },
  {
   "cell_type": "code",
   "execution_count": null,
   "metadata": {},
   "outputs": [],
   "source": [
    "# patient_id = scan._meta[\"filename_or_obj\"].split(\"/\")[-1].split(\".\")[0]\n",
    "plt.title(f\"Label: {label[0]}\")\n",
    "display_scan = scan.squeeze().numpy()\n",
    "# display_scan = np.transpose(display_scan, (1, 2, 0))\n",
    "plt.imshow(display_scan, cmap=\"bone\");"
   ]
  },
  {
   "cell_type": "markdown",
   "metadata": {},
   "source": [
    "# Using `RTK`"
   ]
  },
  {
   "cell_type": "code",
   "execution_count": null,
   "metadata": {},
   "outputs": [],
   "source": [
    "from omegaconf import DictConfig\n",
    "import logging\n",
    "\n",
    "# rtk\n",
    "from rtk import datasets\n",
    "from rtk.utils import hydra_instantiate\n",
    "\n",
    "logging.getLogger(\"rtk.datasets\").setLevel(logging.DEBUG)\n",
    "\n",
    "dataset = datasets.instantiate_image_dataset(\n",
    "    cfg=cfg, save_metadata=True\n",
    ")\n",
    "train_dataset, test_dataset = dataset[0], dataset[1]"
   ]
  },
  {
   "cell_type": "code",
   "execution_count": null,
   "metadata": {},
   "outputs": [],
   "source": [
    "train_dataset[0][0].shape"
   ]
  },
  {
   "cell_type": "code",
   "execution_count": null,
   "metadata": {},
   "outputs": [],
   "source": [
    "train_loader = hydra_instantiate(\n",
    "    cfg=dataset_cfg.dataloader,\n",
    "    dataset=train_dataset,\n",
    "    pin_memory=torch.cuda.is_available(),\n",
    "    shuffle=True,\n",
    ")\n",
    "test_loader = hydra_instantiate(\n",
    "    cfg=dataset_cfg.dataloader,\n",
    "    dataset=test_dataset,\n",
    "    pin_memory=torch.cuda.is_available(),\n",
    ")\n",
    "iterator = iter(train_loader)\n"
   ]
  },
  {
   "cell_type": "markdown",
   "metadata": {},
   "source": [
    "## Get some samples"
   ]
  },
  {
   "cell_type": "code",
   "execution_count": null,
   "metadata": {},
   "outputs": [],
   "source": [
    "scan, label = next(iterator)\n",
    "scan.shape, label"
   ]
  },
  {
   "cell_type": "code",
   "execution_count": null,
   "metadata": {},
   "outputs": [],
   "source": [
    "_filename = scan[10]._meta['filename_or_obj'].split('/')[-1]\n",
    "patient_id = _filename.split('.')[0]\n",
    "patient_id"
   ]
  },
  {
   "cell_type": "code",
   "execution_count": null,
   "metadata": {},
   "outputs": [],
   "source": [
    "plt.title(f\"Patient ID: {patient_id}\")\n",
    "display_scan = scan[0].numpy()\n",
    "display_scan = np.transpose(display_scan, (1, 2, 0))\n",
    "plt.imshow(display_scan, cmap=\"bone\");"
   ]
  },
  {
   "cell_type": "code",
   "execution_count": null,
   "metadata": {},
   "outputs": [],
   "source": [
    "scan, label = datasets.visualize_scan(iterator=iterator)"
   ]
  },
  {
   "cell_type": "markdown",
   "metadata": {},
   "source": [
    "# Pediatrics age overlap"
   ]
  },
  {
   "cell_type": "code",
   "execution_count": null,
   "metadata": {},
   "outputs": [],
   "source": [
    "pneumonia = \"Pneumonia\"\n",
    "ped = patient_df[patient_df[target].str.contains(pneumonia)]\n",
    "\n",
    "\n",
    "ped[ped[\"Patient Age\"] < 18]"
   ]
  },
  {
   "cell_type": "code",
   "execution_count": null,
   "metadata": {},
   "outputs": [],
   "source": [
    "print(f\"Number of patients with {pneumonia}:\", len(ped))\n",
    "print(f\"Number of patients with {pneumonia} and age < 18:\", len(ped[ped[\"Patient Age\"] < 18]))\n",
    "print(f\"Number of patients with {pneumonia} and age < 21:\", len(ped[ped[\"Patient Age\"] < 21]))"
   ]
  },
  {
   "cell_type": "markdown",
   "metadata": {},
   "source": [
    "## Combine Chest XRay and Pediatrics data"
   ]
  },
  {
   "cell_type": "code",
   "execution_count": null,
   "metadata": {},
   "outputs": [],
   "source": [
    "dataset_cfg.additional_datasets"
   ]
  },
  {
   "cell_type": "code",
   "execution_count": null,
   "metadata": {},
   "outputs": [],
   "source": [
    "from rtk.utils import yaml_to_configuration\n",
    "\n",
    "pediatrics_file_path = dataset_cfg.additional_datasets[\"dataset_configs\"][0][\"filepath\"]\n",
    "\n",
    "pediatrics: DatasetConfiguration = yaml_to_configuration(pediatrics_file_path)\n",
    "pediatrics\n"
   ]
  },
  {
   "cell_type": "code",
   "execution_count": null,
   "metadata": {},
   "outputs": [],
   "source": [
    "from rtk.datasets import load_chest_xray_dataset\n",
    "\n",
    "ped_train_dataset, ped_test_dataset, ped_train_metadata, ped_test_metadata = load_chest_xray_dataset(\n",
    "    cfg=cfg,\n",
    "    dataset_cfg=pediatrics,\n",
    "    return_metadata=True,\n",
    ")\n",
    "ped_train_metadata_subset = ped_train_metadata[ped_train_metadata[\"labels\"] == 1]\n",
    "ped_test_metadata_subset = ped_test_metadata[ped_test_metadata[\"labels\"] == 1]\n",
    "ped_train_metadata_subset"
   ]
  },
  {
   "cell_type": "code",
   "execution_count": null,
   "metadata": {},
   "outputs": [],
   "source": [
    "vars(cfg)"
   ]
  },
  {
   "cell_type": "code",
   "execution_count": null,
   "metadata": {},
   "outputs": [],
   "source": [
    "combined_train_dataset = deepcopy(train_dataset)\n",
    "combined_test_dataset = deepcopy(test_dataset)\n",
    "combined_train_dataset.image_files"
   ]
  },
  {
   "cell_type": "code",
   "execution_count": null,
   "metadata": {},
   "outputs": [],
   "source": [
    "combined_train_image_files = np.hstack((ped_train_metadata_subset.image_files.values, train_dataset.image_files))\n",
    "combined_test_image_files = np.hstack((ped_test_metadata_subset.image_files.values, test_dataset.image_files))\n",
    "combined_train_labels = np.hstack((ped_train_metadata_subset.labels.values, train_dataset.labels))\n",
    "combined_test_labels = np.hstack((ped_test_metadata_subset.labels.values, test_dataset.labels))\n"
   ]
  },
  {
   "cell_type": "code",
   "execution_count": null,
   "metadata": {},
   "outputs": [],
   "source": [
    "from rtk.utils import hydra_instantiate\n",
    "\n",
    "combined_train_dataset = hydra_instantiate(\n",
    "    cfg=dataset_cfg.instantiate,\n",
    "    image_files=combined_train_image_files,\n",
    "    labels=combined_train_labels,\n",
    "    transform=train_dataset.transform,\n",
    ")\n",
    "combined_test_dataset = hydra_instantiate(\n",
    "    cfg=dataset_cfg.instantiate,\n",
    "    image_files=combined_test_image_files,\n",
    "    labels=combined_test_labels,\n",
    "    transform=test_dataset.transform,\n",
    ")\n",
    "combined_train_dataset"
   ]
  },
  {
   "cell_type": "code",
   "execution_count": null,
   "metadata": {},
   "outputs": [],
   "source": [
    "from collections import Counter\n",
    "\n",
    "Counter(train_dataset.labels), Counter(combined_train_dataset.labels)"
   ]
  },
  {
   "cell_type": "code",
   "execution_count": null,
   "metadata": {},
   "outputs": [],
   "source": [
    "Counter(test_dataset.labels), Counter(combined_test_dataset.labels)"
   ]
  },
  {
   "cell_type": "code",
   "execution_count": null,
   "metadata": {},
   "outputs": [],
   "source": [
    "from rtk.datasets import combine_datasets\n",
    "\n",
    "combined_train_dataset, combined_test_dataset = combine_datasets(train_dataset, test_dataset, dataset_cfg=dataset_cfg)\n",
    "# combined_test_dataset = combine_datasets(test_dataset, ped_test_dataset, dataset_cfg=dataset_cfg, transform=test_dataset.transform)\n",
    "combined_train_dataset.image_files"
   ]
  },
  {
   "cell_type": "code",
   "execution_count": null,
   "metadata": {},
   "outputs": [],
   "source": [
    "len(combined_train_dataset.image_files)"
   ]
  },
  {
   "cell_type": "code",
   "execution_count": null,
   "metadata": {},
   "outputs": [],
   "source": [
    "combined_train_dataloader = hydra_instantiate(\n",
    "    cfg=dataset_cfg.dataloader,\n",
    "    dataset=combined_train_dataset,\n",
    "    pin_memory=torch.cuda.is_available(),\n",
    "    shuffle=True,\n",
    ")\n",
    "combined_test_dataloader = hydra_instantiate(\n",
    "    cfg=dataset_cfg.dataloader,\n",
    "    dataset=combined_test_dataset,\n",
    "    pin_memory=torch.cuda.is_available(),\n",
    "    shuffle=True,\n",
    ")\n",
    "combined_train_iterator = iter(combined_train_dataloader)\n",
    "combined_test_iterator = iter(combined_test_dataloader)\n"
   ]
  },
  {
   "cell_type": "code",
   "execution_count": null,
   "metadata": {},
   "outputs": [],
   "source": [
    "scan, label = datasets.visualize_scan(iterator=combined_train_iterator)"
   ]
  },
  {
   "cell_type": "code",
   "execution_count": null,
   "metadata": {},
   "outputs": [],
   "source": [
    "combined_train_dataset.image_files"
   ]
  },
  {
   "cell_type": "markdown",
   "metadata": {},
   "source": [
    "## with RTK"
   ]
  },
  {
   "cell_type": "code",
   "execution_count": null,
   "metadata": {},
   "outputs": [],
   "source": [
    "Counter(train_dataset.labels), Counter(test_dataset.labels)\n"
   ]
  },
  {
   "cell_type": "code",
   "execution_count": null,
   "metadata": {},
   "outputs": [],
   "source": [
    "train_dataset, test_dataset = datasets.combine_datasets(train_dataset, test_dataset, dataset_cfg=dataset_cfg)\n",
    "\n",
    "Counter(train_dataset.labels), Counter(test_dataset.labels)\n"
   ]
  },
  {
   "cell_type": "code",
   "execution_count": null,
   "metadata": {},
   "outputs": [],
   "source": []
  }
 ],
 "metadata": {
  "kernelspec": {
   "display_name": "dissertation-dev",
   "language": "python",
   "name": "python3"
  },
  "language_info": {
   "codemirror_mode": {
    "name": "ipython",
    "version": 3
   },
   "file_extension": ".py",
   "mimetype": "text/x-python",
   "name": "python",
   "nbconvert_exporter": "python",
   "pygments_lexer": "ipython3",
   "version": "3.11.5"
  },
  "orig_nbformat": 4
 },
 "nbformat": 4,
 "nbformat_minor": 2
}
