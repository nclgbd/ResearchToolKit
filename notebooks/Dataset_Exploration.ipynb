{
 "cells": [
  {
   "cell_type": "markdown",
   "metadata": {},
   "source": [
    "# Dataset Exploration"
   ]
  },
  {
   "cell_type": "code",
   "execution_count": 91,
   "metadata": {},
   "outputs": [],
   "source": [
    "import os\n",
    "import sys\n",
    "import numpy as np\n",
    "import pandas as pd\n",
    "import matplotlib.pyplot as plt\n",
    "from PIL import Image\n",
    "from copy import deepcopy\n",
    "from rich import inspect\n",
    "from tqdm import tqdm\n",
    "\n",
    "# torch\n",
    "import torch\n",
    "\n",
    "# monai\n",
    "import monai\n",
    "from monai.data import ImageDataset, ThreadDataLoader\n",
    "\n",
    "# sys path append\n",
    "sys.path.append(os.path.abspath(os.path.join(os.getcwd(), \"..\")))\n"
   ]
  },
  {
   "cell_type": "code",
   "execution_count": 92,
   "metadata": {},
   "outputs": [],
   "source": [
    "# rtk\n",
    "from rtk import repl\n",
    "from rtk.config import (\n",
    "    set_hydra_configuration,\n",
    "    Configuration,\n",
    "    DatasetConfiguration,\n",
    "    JobConfiguration,\n",
    ")\n",
    "from rtk.utils import login, hydra_instantiate"
   ]
  },
  {
   "cell_type": "code",
   "execution_count": 93,
   "metadata": {},
   "outputs": [
    {
     "name": "stdout",
     "output_type": "stream",
     "text": [
      "MONAI version: 1.2.0\n",
      "Numpy version: 1.23.5\n",
      "Pytorch version: 2.0.1+cu117\n",
      "MONAI flags: HAS_EXT = False, USE_COMPILED = False, USE_META_DICT = False\n",
      "MONAI rev id: c33f1ba588ee00229a309000e888f9817b4f1934\n",
      "MONAI __file__: /home/nicoleg/anaconda3/envs/ttk-env/lib/python3.11/site-packages/monai/__init__.py\n",
      "\n",
      "Optional dependencies:\n",
      "Pytorch Ignite version: 0.4.12\n",
      "ITK version: 5.3.0\n",
      "Nibabel version: NOT INSTALLED or UNKNOWN VERSION.\n",
      "scikit-image version: NOT INSTALLED or UNKNOWN VERSION.\n",
      "Pillow version: 10.0.0\n",
      "Tensorboard version: NOT INSTALLED or UNKNOWN VERSION.\n",
      "gdown version: NOT INSTALLED or UNKNOWN VERSION.\n",
      "TorchVision version: 0.15.2+cu117\n",
      "tqdm version: 4.65.1\n",
      "lmdb version: NOT INSTALLED or UNKNOWN VERSION.\n",
      "psutil version: 5.9.0\n",
      "pandas version: 2.0.3\n",
      "einops version: 0.6.1\n",
      "transformers version: 4.33.3\n",
      "mlflow version: 2.6.0\n",
      "pynrrd version: NOT INSTALLED or UNKNOWN VERSION.\n",
      "\n",
      "For details about installing the optional dependencies, please visit:\n",
      "    https://docs.monai.io/en/latest/installation.html#installing-the-recommended-dependencies\n",
      "\n"
     ]
    }
   ],
   "source": [
    "repl.install(show_locals=False)\n",
    "monai.config.print_config()"
   ]
  },
  {
   "cell_type": "markdown",
   "metadata": {},
   "source": [
    "### Constant setup"
   ]
  },
  {
   "cell_type": "code",
   "execution_count": 94,
   "metadata": {},
   "outputs": [],
   "source": [
    "# configs\n",
    "config_name = \"tests\"\n",
    "config_path = \"../configs/\"\n",
    "config_dir = os.path.abspath(config_path)\n"
   ]
  },
  {
   "cell_type": "code",
   "execution_count": 95,
   "metadata": {},
   "outputs": [
    {
     "data": {
      "text/html": [
       "<pre style=\"white-space:pre;overflow-x:auto;line-height:normal;font-family:Menlo,'DejaVu Sans Mono',consolas,'Courier New',monospace\"><span style=\"color: #7fbfbf; text-decoration-color: #7fbfbf\">[00:09:46] </span><span style=\"color: #000080; text-decoration-color: #000080\">INFO    </span> rtk.config: Creating configuration: <span style=\"color: #008000; text-decoration-color: #008000\">'tests'</span>                                       <a href=\"file:///home/nicoleg/workspaces/teddytoolkit/rtk/config.py\" target=\"_blank\"><span style=\"color: #7f7f7f; text-decoration-color: #7f7f7f\">config.py</span></a><span style=\"color: #7f7f7f; text-decoration-color: #7f7f7f\">:</span><a href=\"file:///home/nicoleg/workspaces/teddytoolkit/rtk/config.py#289\" target=\"_blank\"><span style=\"color: #7f7f7f; text-decoration-color: #7f7f7f\">289</span></a>\n",
       "<span style=\"color: #7fbfbf; text-decoration-color: #7fbfbf\">           </span>         \u001b<span style=\"font-weight: bold\">[</span>0m                                                                               <span style=\"color: #7f7f7f; text-decoration-color: #7f7f7f\">             </span>\n",
       "</pre>\n"
      ],
      "text/plain": [
       "\u001b[2;36m[00:09:46]\u001b[0m\u001b[2;36m \u001b[0m\u001b[34mINFO    \u001b[0m rtk.config: Creating configuration: \u001b[32m'tests'\u001b[0m                                       \u001b]8;id=288389;file:///home/nicoleg/workspaces/teddytoolkit/rtk/config.py\u001b\\\u001b[2mconfig.py\u001b[0m\u001b]8;;\u001b\\\u001b[2m:\u001b[0m\u001b]8;id=256787;file:///home/nicoleg/workspaces/teddytoolkit/rtk/config.py#289\u001b\\\u001b[2m289\u001b[0m\u001b]8;;\u001b\\\n",
       "\u001b[2;36m           \u001b[0m         \u001b\u001b[1m[\u001b[0m0m                                                                               \u001b[2m             \u001b[0m\n"
      ]
     },
     "metadata": {},
     "output_type": "display_data"
    },
    {
     "data": {
      "text/html": [
       "<pre style=\"white-space:pre;overflow-x:auto;line-height:normal;font-family:Menlo,'DejaVu Sans Mono',consolas,'Courier New',monospace\"></pre>\n"
      ],
      "text/plain": []
     },
     "metadata": {},
     "output_type": "display_data"
    },
    {
     "data": {
      "text/plain": [
       "\n",
       "\u001b[1;35mConfiguration\u001b[0m\u001b[1m(\u001b[0m\n",
       "    \u001b[33mdate\u001b[0m=\u001b[32m'2023-10-11'\u001b[0m,\n",
       "    \u001b[33mpostfix\u001b[0m=\u001b[32m''\u001b[0m,\n",
       "    \u001b[33mtimestamp\u001b[0m=\u001b[32m'00-09-46'\u001b[0m,\n",
       "    \u001b[33mdatasets\u001b[0m=\u001b[1m{\u001b[0m\u001b[32m'dim'\u001b[0m: \u001b[1;36m229\u001b[0m, \u001b[32m'extension'\u001b[0m: \u001b[32m'.png'\u001b[0m, \u001b[32m'index'\u001b[0m: \u001b[32m'Image Index'\u001b[0m, \u001b[32m'labels'\u001b[0m: \u001b[1m[\u001b[0m\u001b[32m'No Finding'\u001b[0m, \u001b[32m'Pneumonia'\u001b[0m\u001b[1m]\u001b[0m, \u001b[32m'target'\u001b[0m: \u001b[32m'Finding Labels'\u001b[0m, \u001b[32m'patient_data'\u001b[0m: \u001b[32m'/home/nicoleg/workspaces/teddytoolkit/.data/Chest_XRay_14_Kaggle_RGB/Data_Entry_2017.csv'\u001b[0m, \u001b[32m'scan_data'\u001b[0m: \u001b[32m'/home/nicoleg/workspaces/teddytoolkit/.data/Chest_XRay_14_Kaggle_RGB/'\u001b[0m, \u001b[32m'encoding'\u001b[0m: \u001b[1m{\u001b[0m\u001b[32m'No Finding'\u001b[0m: \u001b[1;36m0\u001b[0m, \u001b[32m'Pneumonia'\u001b[0m: \u001b[1;36m1\u001b[0m\u001b[1m}\u001b[0m, \u001b[32m'instantiate'\u001b[0m: \u001b[1m{\u001b[0m\u001b[32m'_target_'\u001b[0m: \u001b[32m'monai.data.ImageDataset'\u001b[0m\u001b[1m}\u001b[0m, \u001b[32m'dataloader'\u001b[0m: \u001b[1m{\u001b[0m\u001b[32m'_target_'\u001b[0m: \u001b[32m'monai.data.ThreadDataLoader'\u001b[0m, \u001b[32m'batch_size'\u001b[0m: \u001b[1;36m16\u001b[0m, \u001b[32m'num_workers'\u001b[0m: \u001b[1;36m24\u001b[0m\u001b[1m}\u001b[0m, \u001b[32m'preprocessing'\u001b[0m: \u001b[1m{\u001b[0m\u001b[32m'resample_value'\u001b[0m: \u001b[1;36m1\u001b[0m, \u001b[32m'sample_to_value'\u001b[0m: \u001b[1;36m-1\u001b[0m, \u001b[32m'use_sampling'\u001b[0m: \u001b[3;91mFalse\u001b[0m\u001b[1m}\u001b[0m, \u001b[32m'transforms'\u001b[0m: \u001b[1m{\u001b[0m\u001b[32m'load'\u001b[0m: \u001b[1m[\u001b[0m\u001b[1m{\u001b[0m\u001b[32m'_target_'\u001b[0m: \u001b[32m'monai.transforms.ScaleIntensity'\u001b[0m\u001b[1m}\u001b[0m, \u001b[1m{\u001b[0m\u001b[32m'_target_'\u001b[0m: \u001b[32m'monai.transforms.EnsureChannelFirst'\u001b[0m\u001b[1m}\u001b[0m, \u001b[1m{\u001b[0m\u001b[32m'_target_'\u001b[0m: \u001b[32m'monai.transforms.EnsureType'\u001b[0m, \u001b[32m'track_meta'\u001b[0m: \u001b[3;92mTrue\u001b[0m\u001b[1m}\u001b[0m, \u001b[1m{\u001b[0m\u001b[32m'_target_'\u001b[0m: \u001b[32m'monai.transforms.Resize'\u001b[0m, \u001b[32m'spatial_size'\u001b[0m: \u001b[1m[\u001b[0m\u001b[32m'$\u001b[0m\u001b[32m{\u001b[0m\u001b[32mdatasets.dim\u001b[0m\u001b[32m}\u001b[0m\u001b[32m'\u001b[0m, \u001b[32m'$\u001b[0m\u001b[32m{\u001b[0m\u001b[32mdatasets.dim\u001b[0m\u001b[32m}\u001b[0m\u001b[32m'\u001b[0m\u001b[1m]\u001b[0m\u001b[1m}\u001b[0m\u001b[1m]\u001b[0m, \u001b[32m'train'\u001b[0m: \u001b[1m[\u001b[0m\u001b[1m{\u001b[0m\u001b[32m'_target_'\u001b[0m: \u001b[32m'torchvision.transforms.RandomResizedCrop'\u001b[0m, \u001b[32m'scale'\u001b[0m: \u001b[1m[\u001b[0m\u001b[1;36m0.75\u001b[0m, \u001b[1;36m1.25\u001b[0m\u001b[1m]\u001b[0m, \u001b[32m'size'\u001b[0m: \u001b[1m[\u001b[0m\u001b[32m'$\u001b[0m\u001b[32m{\u001b[0m\u001b[32mdatasets.dim\u001b[0m\u001b[32m}\u001b[0m\u001b[32m'\u001b[0m, \u001b[32m'$\u001b[0m\u001b[32m{\u001b[0m\u001b[32mdatasets.dim\u001b[0m\u001b[32m}\u001b[0m\u001b[32m'\u001b[0m\u001b[1m]\u001b[0m, \u001b[32m'antialias'\u001b[0m: \u001b[3;92mTrue\u001b[0m\u001b[1m}\u001b[0m, \u001b[1m{\u001b[0m\u001b[32m'_target_'\u001b[0m: \u001b[32m'torchvision.transforms.RandomAffine'\u001b[0m, \u001b[32m'degrees'\u001b[0m: \u001b[1;36m45\u001b[0m, \u001b[32m'shear'\u001b[0m: \u001b[1;36m16\u001b[0m, \u001b[32m'translate'\u001b[0m: \u001b[1m[\u001b[0m\u001b[1;36m0.15\u001b[0m, \u001b[1;36m0.2\u001b[0m\u001b[1m]\u001b[0m\u001b[1m}\u001b[0m\u001b[1m]\u001b[0m\u001b[1m}\u001b[0m\u001b[1m}\u001b[0m,\n",
       "    \u001b[33mjob\u001b[0m=\u001b[1m{\u001b[0m\u001b[32m'device'\u001b[0m: \u001b[1;36m1\u001b[0m, \u001b[32m'dry_run'\u001b[0m: \u001b[3;92mTrue\u001b[0m, \u001b[32m'epoch_length'\u001b[0m: \u001b[1;36m8\u001b[0m, \u001b[32m'max_epochs'\u001b[0m: \u001b[1;36m2\u001b[0m, \u001b[32m'perform_validation'\u001b[0m: \u001b[3;92mTrue\u001b[0m, \u001b[32m'random_state'\u001b[0m: \u001b[1;36m42\u001b[0m, \u001b[32m'set_track_meta'\u001b[0m: \u001b[3;91mFalse\u001b[0m, \u001b[32m'use_autocast'\u001b[0m: \u001b[3;92mTrue\u001b[0m, \u001b[32m'use_azureml'\u001b[0m: \u001b[3;92mTrue\u001b[0m, \u001b[32m'use_mlflow'\u001b[0m: \u001b[3;92mTrue\u001b[0m, \u001b[32m'use_pretrained'\u001b[0m: \u001b[3;92mTrue\u001b[0m, \u001b[32m'use_transforms'\u001b[0m: \u001b[3;92mTrue\u001b[0m, \u001b[32m'train_test_split'\u001b[0m: \u001b[1m{\u001b[0m\u001b[32m'shuffle'\u001b[0m: \u001b[3;92mTrue\u001b[0m, \u001b[32m'test_size'\u001b[0m: \u001b[1;36m0.1\u001b[0m\u001b[1m}\u001b[0m, \u001b[32m'prepare_function'\u001b[0m: \u001b[1m{\u001b[0m\u001b[32m'_target_'\u001b[0m: \u001b[32m'rtk.ignite.prepare_run'\u001b[0m\u001b[1m}\u001b[0m\u001b[1m}\u001b[0m,\n",
       "    \u001b[33mmodels\u001b[0m=\u001b[1m{\u001b[0m\u001b[32m'model'\u001b[0m: \u001b[1m{\u001b[0m\u001b[32m'_target_'\u001b[0m: \u001b[32m'timm.create_model'\u001b[0m, \u001b[32m'model_name'\u001b[0m: \u001b[32m'resnet50'\u001b[0m, \u001b[32m'num_classes'\u001b[0m: \u001b[1;36m2\u001b[0m, \u001b[32m'pretrained'\u001b[0m: \u001b[32m'$\u001b[0m\u001b[32m{\u001b[0m\u001b[32mjob.use_pretrained\u001b[0m\u001b[32m}\u001b[0m\u001b[32m'\u001b[0m\u001b[1m}\u001b[0m, \u001b[32m'criterion'\u001b[0m: \u001b[1m{\u001b[0m\u001b[32m'_target_'\u001b[0m: \u001b[32m'torch.nn.CrossEntropyLoss'\u001b[0m\u001b[1m}\u001b[0m, \u001b[32m'optimizer'\u001b[0m: \u001b[1m{\u001b[0m\u001b[32m'_target_'\u001b[0m: \u001b[32m'torch.optim.SGD'\u001b[0m, \u001b[32m'lr'\u001b[0m: \u001b[1;36m0.001\u001b[0m, \u001b[32m'momentum'\u001b[0m: \u001b[1;36m0.9\u001b[0m, \u001b[32m'weight_decay'\u001b[0m: \u001b[1;36m0.0001\u001b[0m\u001b[1m}\u001b[0m\u001b[1m}\u001b[0m,\n",
       "    \u001b[33mignite\u001b[0m=\u001b[1m{\u001b[0m\u001b[32m'log_interval'\u001b[0m: \u001b[1;36m5\u001b[0m, \u001b[32m'score_name'\u001b[0m: \u001b[32m'loss'\u001b[0m, \u001b[32m'use_checkpoint'\u001b[0m: \u001b[3;92mTrue\u001b[0m, \u001b[32m'use_early_stopping'\u001b[0m: \u001b[3;92mTrue\u001b[0m, \u001b[32m'use_lr_scheduler'\u001b[0m: \u001b[3;91mFalse\u001b[0m, \u001b[32m'use_multi_gpu'\u001b[0m: \u001b[3;91mFalse\u001b[0m, \u001b[32m'metrics'\u001b[0m: \u001b[1m{\u001b[0m\u001b[32m'Accuracy'\u001b[0m: \u001b[3;35mNone\u001b[0m, \u001b[32m'Loss'\u001b[0m: \u001b[3;35mNone\u001b[0m, \u001b[32m'Predictions'\u001b[0m: \u001b[3;35mNone\u001b[0m\u001b[1m}\u001b[0m, \u001b[32m'checkpoint'\u001b[0m: \u001b[1m{\u001b[0m\u001b[32m'_target_'\u001b[0m: \u001b[32m'ignite.handlers.checkpoint.Checkpoint'\u001b[0m, \u001b[32m'save_handler'\u001b[0m: \u001b[32m'artifacts/checkpoints/'\u001b[0m, \u001b[32m'filename_prefix'\u001b[0m: \u001b[32m'best'\u001b[0m, \u001b[32m'n_saved'\u001b[0m: \u001b[1;36m10\u001b[0m\u001b[1m}\u001b[0m, \u001b[32m'early_stopping'\u001b[0m: \u001b[1m{\u001b[0m\u001b[32m'_target_'\u001b[0m: \u001b[32m'ignite.handlers.early_stopping.EarlyStopping'\u001b[0m, \u001b[32m'patience'\u001b[0m: \u001b[1;36m5\u001b[0m\u001b[1m}\u001b[0m, \u001b[32m'lr_scheduler'\u001b[0m: \u001b[3;35mNone\u001b[0m\u001b[1m}\u001b[0m,\n",
       "    \u001b[33mmlflow\u001b[0m=\u001b[1m{\u001b[0m\u001b[32m'tracking_uri'\u001b[0m: \u001b[32m'file:///home/nicoleg/workspaces/teddytoolkit/mlruns/'\u001b[0m\u001b[1m}\u001b[0m,\n",
       "    \u001b[33msklearn\u001b[0m=\u001b[1m{\u001b[0m\u001b[32m'model_selection'\u001b[0m: \u001b[1m{\u001b[0m\u001b[32m'train_test_split'\u001b[0m: \u001b[1m{\u001b[0m\u001b[32m'shuffle'\u001b[0m: \u001b[3;92mTrue\u001b[0m, \u001b[32m'test_size'\u001b[0m: \u001b[1;36m0.1\u001b[0m\u001b[1m}\u001b[0m\u001b[1m}\u001b[0m\u001b[1m}\u001b[0m\n",
       "\u001b[1m)\u001b[0m"
      ]
     },
     "execution_count": 95,
     "metadata": {},
     "output_type": "execute_result"
    }
   ],
   "source": [
    "cfg: Configuration = set_hydra_configuration(\n",
    "        config_name=config_name,\n",
    "        init_method_kwargs={\"config_dir\": config_dir},\n",
    "        ConfigurationInstance=Configuration,\n",
    "    )\n",
    "dataset_cfg: DatasetConfiguration = cfg.datasets\n",
    "job_cfg: JobConfiguration = cfg.job\n",
    "monai.utils.set_determinism(seed=job_cfg.random_state)\n",
    "cfg"
   ]
  },
  {
   "cell_type": "code",
   "execution_count": 96,
   "metadata": {},
   "outputs": [
    {
     "data": {
      "text/html": [
       "<pre style=\"white-space:pre;overflow-x:auto;line-height:normal;font-family:Menlo,'DejaVu Sans Mono',consolas,'Courier New',monospace\"></pre>\n"
      ],
      "text/plain": []
     },
     "metadata": {},
     "output_type": "display_data"
    },
    {
     "data": {
      "text/plain": [
       "\u001b[32m'/home/nicoleg/workspaces/teddytoolkit/.data/Chest_XRay_14_Kaggle_RGB/Data_Entry_2017.csv'\u001b[0m"
      ]
     },
     "execution_count": 96,
     "metadata": {},
     "output_type": "execute_result"
    }
   ],
   "source": [
    "patient_path = dataset_cfg.patient_data\n",
    "patient_path"
   ]
  },
  {
   "cell_type": "code",
   "execution_count": 97,
   "metadata": {},
   "outputs": [
    {
     "data": {
      "text/html": [
       "<pre style=\"white-space:pre;overflow-x:auto;line-height:normal;font-family:Menlo,'DejaVu Sans Mono',consolas,'Courier New',monospace\"></pre>\n"
      ],
      "text/plain": []
     },
     "metadata": {},
     "output_type": "display_data"
    },
    {
     "data": {
      "text/plain": [
       "\u001b[32m'/home/nicoleg/workspaces/teddytoolkit/.data/Chest_XRay_14_Kaggle/'\u001b[0m"
      ]
     },
     "execution_count": 97,
     "metadata": {},
     "output_type": "execute_result"
    }
   ],
   "source": [
    "scan_path = \"/home/nicoleg/workspaces/teddytoolkit/.data/Chest_XRay_14_Kaggle/\"\n",
    "scan_path"
   ]
  },
  {
   "cell_type": "code",
   "execution_count": 98,
   "metadata": {},
   "outputs": [],
   "source": [
    "# display single image\n",
    "# depth_slice = scan.shape[2] // 2\n",
    "# display_scan_slice = scan[:, :, depth_slice].numpy()\n",
    "# plt.imshow(display_scan_slice, cmap=\"bone\");"
   ]
  },
  {
   "cell_type": "markdown",
   "metadata": {},
   "source": [
    "# Exploration"
   ]
  },
  {
   "cell_type": "code",
   "execution_count": 99,
   "metadata": {},
   "outputs": [
    {
     "data": {
      "text/html": [
       "<pre style=\"white-space:pre;overflow-x:auto;line-height:normal;font-family:Menlo,'DejaVu Sans Mono',consolas,'Courier New',monospace\"></pre>\n"
      ],
      "text/plain": []
     },
     "metadata": {},
     "output_type": "display_data"
    },
    {
     "data": {
      "text/plain": [
       "\n",
       "\u001b[1m[\u001b[0m\n",
       "    \u001b[32m'00000096_001.png'\u001b[0m,\n",
       "    \u001b[32m'00001250_005.png'\u001b[0m,\n",
       "    \u001b[32m'00001220_000.png'\u001b[0m,\n",
       "    \u001b[32m'00000419_000.png'\u001b[0m,\n",
       "    \u001b[32m'00000654_001.png'\u001b[0m,\n",
       "    \u001b[32m'00000827_016.png'\u001b[0m,\n",
       "    \u001b[32m'00000468_025.png'\u001b[0m,\n",
       "    \u001b[33m...\u001b[0m +\u001b[1;36m4992\u001b[0m\n",
       "\u001b[1m]\u001b[0m"
      ]
     },
     "execution_count": 99,
     "metadata": {},
     "output_type": "execute_result"
    }
   ],
   "source": [
    "# https://stackoverflow.com/questions/339007/how-do-i-pad-a-string-with-zeroes\n",
    "index = dataset_cfg.index\n",
    "target = dataset_cfg.target\n",
    "label_encoding = 1\n",
    "patient_df = pd.read_csv(patient_path).set_index(index)\n",
    "label_path = os.path.join(scan_path, f\"images_{label_encoding:03}\", \"images\")\n",
    "os.listdir(label_path)\n"
   ]
  },
  {
   "cell_type": "code",
   "execution_count": 100,
   "metadata": {},
   "outputs": [
    {
     "data": {
      "text/html": [
       "<pre style=\"white-space:pre;overflow-x:auto;line-height:normal;font-family:Menlo,'DejaVu Sans Mono',consolas,'Courier New',monospace\"></pre>\n"
      ],
      "text/plain": []
     },
     "metadata": {},
     "output_type": "display_data"
    },
    {
     "data": {
      "text/plain": [
       "\n",
       "\u001b[1m{\u001b[0m\n",
       "    \u001b[32m'image_files'\u001b[0m: \u001b[1m[\u001b[0m\n",
       "        \u001b[32m'/home/nicoleg/workspaces/teddytoolkit/.data/Chest_XRay_14_Kaggle/images_001/images/00000096_001.png'\u001b[0m,\n",
       "        \u001b[32m'/home/nicoleg/workspaces/teddytoolkit/.data/Chest_XRay_14_Kaggle/images_001/images/00001250_005.png'\u001b[0m,\n",
       "        \u001b[32m'/home/nicoleg/workspaces/teddytoolkit/.data/Chest_XRay_14_Kaggle/images_001/images/00001220_000.png'\u001b[0m,\n",
       "        \u001b[32m'/home/nicoleg/workspaces/teddytoolkit/.data/Chest_XRay_14_Kaggle/images_001/images/00000419_000.png'\u001b[0m,\n",
       "        \u001b[32m'/home/nicoleg/workspaces/teddytoolkit/.data/Chest_XRay_14_Kaggle/images_001/images/00000654_001.png'\u001b[0m,\n",
       "        \u001b[32m'/home/nicoleg/workspaces/teddytoolkit/.data/Chest_XRay_14_Kaggle/images_001/images/00000827_016.png'\u001b[0m,\n",
       "        \u001b[32m'/home/nicoleg/workspaces/teddytoolkit/.data/Chest_XRay_14_Kaggle/images_001/images/00000468_025.png'\u001b[0m,\n",
       "        \u001b[33m...\u001b[0m +\u001b[1;36m4992\u001b[0m\n",
       "    \u001b[1m]\u001b[0m,\n",
       "    \u001b[32m'Image Index'\u001b[0m: \u001b[1m[\u001b[0m\n",
       "        \u001b[32m'00000096_001.png'\u001b[0m,\n",
       "        \u001b[32m'00001250_005.png'\u001b[0m,\n",
       "        \u001b[32m'00001220_000.png'\u001b[0m,\n",
       "        \u001b[32m'00000419_000.png'\u001b[0m,\n",
       "        \u001b[32m'00000654_001.png'\u001b[0m,\n",
       "        \u001b[32m'00000827_016.png'\u001b[0m,\n",
       "        \u001b[32m'00000468_025.png'\u001b[0m,\n",
       "        \u001b[33m...\u001b[0m +\u001b[1;36m4992\u001b[0m\n",
       "    \u001b[1m]\u001b[0m\n",
       "\u001b[1m}\u001b[0m"
      ]
     },
     "execution_count": 100,
     "metadata": {},
     "output_type": "execute_result"
    }
   ],
   "source": [
    "# subset to the indicated indices in the label encoding\n",
    "filename_matches = {\"image_files\": [], index: []}\n",
    "\n",
    "for filename in os.listdir(label_path):\n",
    "    filename_matches[index].append(filename)\n",
    "    filename_matches[\"image_files\"].append(os.path.join(label_path, filename))\n",
    "\n",
    "filename_matches\n"
   ]
  },
  {
   "cell_type": "markdown",
   "metadata": {},
   "source": [
    "## Wrangling data"
   ]
  },
  {
   "cell_type": "code",
   "execution_count": 101,
   "metadata": {},
   "outputs": [
    {
     "data": {
      "text/html": [
       "<pre style=\"white-space:pre;overflow-x:auto;line-height:normal;font-family:Menlo,'DejaVu Sans Mono',consolas,'Courier New',monospace\"></pre>\n"
      ],
      "text/plain": []
     },
     "metadata": {},
     "output_type": "display_data"
    },
    {
     "data": {
      "text/html": [
       "<div>\n",
       "<style scoped>\n",
       "    .dataframe tbody tr th:only-of-type {\n",
       "        vertical-align: middle;\n",
       "    }\n",
       "\n",
       "    .dataframe tbody tr th {\n",
       "        vertical-align: top;\n",
       "    }\n",
       "\n",
       "    .dataframe thead th {\n",
       "        text-align: right;\n",
       "    }\n",
       "</style>\n",
       "<table border=\"1\" class=\"dataframe\">\n",
       "  <thead>\n",
       "    <tr style=\"text-align: right;\">\n",
       "      <th></th>\n",
       "      <th>Finding Labels</th>\n",
       "      <th>Follow-up #</th>\n",
       "      <th>Patient ID</th>\n",
       "      <th>Patient Age</th>\n",
       "      <th>Patient Gender</th>\n",
       "      <th>View Position</th>\n",
       "      <th>OriginalImage[Width</th>\n",
       "      <th>Height]</th>\n",
       "      <th>OriginalImagePixelSpacing[x</th>\n",
       "      <th>y]</th>\n",
       "      <th>Unnamed: 11</th>\n",
       "    </tr>\n",
       "    <tr>\n",
       "      <th>Image Index</th>\n",
       "      <th></th>\n",
       "      <th></th>\n",
       "      <th></th>\n",
       "      <th></th>\n",
       "      <th></th>\n",
       "      <th></th>\n",
       "      <th></th>\n",
       "      <th></th>\n",
       "      <th></th>\n",
       "      <th></th>\n",
       "      <th></th>\n",
       "    </tr>\n",
       "  </thead>\n",
       "  <tbody>\n",
       "    <tr>\n",
       "      <th>00000001_000.png</th>\n",
       "      <td>Cardiomegaly</td>\n",
       "      <td>0</td>\n",
       "      <td>1</td>\n",
       "      <td>58</td>\n",
       "      <td>M</td>\n",
       "      <td>PA</td>\n",
       "      <td>2682</td>\n",
       "      <td>2749</td>\n",
       "      <td>0.143</td>\n",
       "      <td>0.143</td>\n",
       "      <td>NaN</td>\n",
       "    </tr>\n",
       "    <tr>\n",
       "      <th>00000001_001.png</th>\n",
       "      <td>Cardiomegaly|Emphysema</td>\n",
       "      <td>1</td>\n",
       "      <td>1</td>\n",
       "      <td>58</td>\n",
       "      <td>M</td>\n",
       "      <td>PA</td>\n",
       "      <td>2894</td>\n",
       "      <td>2729</td>\n",
       "      <td>0.143</td>\n",
       "      <td>0.143</td>\n",
       "      <td>NaN</td>\n",
       "    </tr>\n",
       "    <tr>\n",
       "      <th>00000001_002.png</th>\n",
       "      <td>Cardiomegaly|Effusion</td>\n",
       "      <td>2</td>\n",
       "      <td>1</td>\n",
       "      <td>58</td>\n",
       "      <td>M</td>\n",
       "      <td>PA</td>\n",
       "      <td>2500</td>\n",
       "      <td>2048</td>\n",
       "      <td>0.168</td>\n",
       "      <td>0.168</td>\n",
       "      <td>NaN</td>\n",
       "    </tr>\n",
       "    <tr>\n",
       "      <th>00000002_000.png</th>\n",
       "      <td>No Finding</td>\n",
       "      <td>0</td>\n",
       "      <td>2</td>\n",
       "      <td>81</td>\n",
       "      <td>M</td>\n",
       "      <td>PA</td>\n",
       "      <td>2500</td>\n",
       "      <td>2048</td>\n",
       "      <td>0.171</td>\n",
       "      <td>0.171</td>\n",
       "      <td>NaN</td>\n",
       "    </tr>\n",
       "    <tr>\n",
       "      <th>00000003_000.png</th>\n",
       "      <td>Hernia</td>\n",
       "      <td>0</td>\n",
       "      <td>3</td>\n",
       "      <td>81</td>\n",
       "      <td>F</td>\n",
       "      <td>PA</td>\n",
       "      <td>2582</td>\n",
       "      <td>2991</td>\n",
       "      <td>0.143</td>\n",
       "      <td>0.143</td>\n",
       "      <td>NaN</td>\n",
       "    </tr>\n",
       "  </tbody>\n",
       "</table>\n",
       "</div>"
      ],
      "text/plain": [
       "\n",
       "                          Finding Labels  Follow-up #  Patient ID  \\\n",
       "Image Index                                                         \n",
       "00000001_000.png            Cardiomegaly            \u001b[1;36m0\u001b[0m           \u001b[1;36m1\u001b[0m   \n",
       "00000001_001.png  Cardiomegaly|Emphysema            \u001b[1;36m1\u001b[0m           \u001b[1;36m1\u001b[0m   \n",
       "00000001_002.png   Cardiomegaly|Effusion            \u001b[1;36m2\u001b[0m           \u001b[1;36m1\u001b[0m   \n",
       "00000002_000.png              No Finding            \u001b[1;36m0\u001b[0m           \u001b[1;36m2\u001b[0m   \n",
       "00000003_000.png                  Hernia            \u001b[1;36m0\u001b[0m           \u001b[1;36m3\u001b[0m   \n",
       "\n",
       "                  Patient Age Patient Gender View Position  \\\n",
       "Image Index                                                  \n",
       "00000001_000.png           \u001b[1;36m58\u001b[0m              M            PA   \n",
       "00000001_001.png           \u001b[1;36m58\u001b[0m              M            PA   \n",
       "00000001_002.png           \u001b[1;36m58\u001b[0m              M            PA   \n",
       "00000002_000.png           \u001b[1;36m81\u001b[0m              M            PA   \n",
       "00000003_000.png           \u001b[1;36m81\u001b[0m              F            PA   \n",
       "\n",
       "                  OriginalImage\u001b[1m[\u001b[0mWidth  Height\u001b[1m]\u001b[0m  OriginalImagePixelSpacing\u001b[1m[\u001b[0mx  \\\n",
       "Image Index                                                                   \n",
       "00000001_000.png                 \u001b[1;36m2682\u001b[0m     \u001b[1;36m2749\u001b[0m                        \u001b[1;36m0.143\u001b[0m   \n",
       "00000001_001.png                 \u001b[1;36m2894\u001b[0m     \u001b[1;36m2729\u001b[0m                        \u001b[1;36m0.143\u001b[0m   \n",
       "00000001_002.png                 \u001b[1;36m2500\u001b[0m     \u001b[1;36m2048\u001b[0m                        \u001b[1;36m0.168\u001b[0m   \n",
       "00000002_000.png                 \u001b[1;36m2500\u001b[0m     \u001b[1;36m2048\u001b[0m                        \u001b[1;36m0.171\u001b[0m   \n",
       "00000003_000.png                 \u001b[1;36m2582\u001b[0m     \u001b[1;36m2991\u001b[0m                        \u001b[1;36m0.143\u001b[0m   \n",
       "\n",
       "                     y\u001b[1m]\u001b[0m  Unnamed: \u001b[1;36m11\u001b[0m  \n",
       "Image Index                           \n",
       "00000001_000.png  \u001b[1;36m0.143\u001b[0m          NaN  \n",
       "00000001_001.png  \u001b[1;36m0.143\u001b[0m          NaN  \n",
       "00000001_002.png  \u001b[1;36m0.168\u001b[0m          NaN  \n",
       "00000002_000.png  \u001b[1;36m0.171\u001b[0m          NaN  \n",
       "00000003_000.png  \u001b[1;36m0.143\u001b[0m          NaN  "
      ]
     },
     "execution_count": 101,
     "metadata": {},
     "output_type": "execute_result"
    }
   ],
   "source": [
    "patient_df.head()"
   ]
  },
  {
   "cell_type": "code",
   "execution_count": 102,
   "metadata": {},
   "outputs": [
    {
     "data": {
      "text/html": [
       "<pre style=\"white-space:pre;overflow-x:auto;line-height:normal;font-family:Menlo,'DejaVu Sans Mono',consolas,'Courier New',monospace\"></pre>\n"
      ],
      "text/plain": []
     },
     "metadata": {},
     "output_type": "display_data"
    },
    {
     "data": {
      "text/plain": [
       "\n",
       "\u001b[1m(\u001b[0m\n",
       "    \u001b[1;36m112120\u001b[0m,\n",
       "                                                            image_files\n",
       "Image Index                                                        \n",
       "00000096_001.png  \u001b[35m/home/nicoleg/workspaces/teddytoolkit/.data/\u001b[0m\u001b[95mCh...\u001b[0m\n",
       "00001250_005.png  \u001b[35m/home/nicoleg/workspaces/teddytoolkit/.data/\u001b[0m\u001b[95mCh...\u001b[0m\n",
       "00001220_000.png  \u001b[35m/home/nicoleg/workspaces/teddytoolkit/.data/\u001b[0m\u001b[95mCh...\u001b[0m\n",
       "00000419_000.png  \u001b[35m/home/nicoleg/workspaces/teddytoolkit/.data/\u001b[0m\u001b[95mCh...\u001b[0m\n",
       "00000654_001.png  \u001b[35m/home/nicoleg/workspaces/teddytoolkit/.data/\u001b[0m\u001b[95mCh...\u001b[0m\n",
       "\u001b[1m)\u001b[0m"
      ]
     },
     "execution_count": 102,
     "metadata": {},
     "output_type": "execute_result"
    }
   ],
   "source": [
    "def unpack_images():\n",
    "    \"\"\"\"\"\"\n",
    "\n",
    "    filename_matches = {\"image_files\": [], index: []}\n",
    "\n",
    "    for encoding in range(1, 13):\n",
    "        label_path = os.path.join(scan_path, f\"images_{encoding:03}\", \"images\")\n",
    "\n",
    "        for filename in os.listdir(label_path):\n",
    "            filename_matches[index].append(filename)\n",
    "            filename_matches[\"image_files\"].append(os.path.join(label_path, filename))\n",
    "\n",
    "    return pd.DataFrame.from_dict(filename_matches, orient=\"columns\").set_index(index)\n",
    "\n",
    "matches = unpack_images()\n",
    "len(matches), matches.head()"
   ]
  },
  {
   "cell_type": "code",
   "execution_count": 103,
   "metadata": {},
   "outputs": [
    {
     "data": {
      "text/html": [
       "<pre style=\"white-space:pre;overflow-x:auto;line-height:normal;font-family:Menlo,'DejaVu Sans Mono',consolas,'Courier New',monospace\"></pre>\n"
      ],
      "text/plain": []
     },
     "metadata": {},
     "output_type": "display_data"
    },
    {
     "data": {
      "text/html": [
       "<div>\n",
       "<style scoped>\n",
       "    .dataframe tbody tr th:only-of-type {\n",
       "        vertical-align: middle;\n",
       "    }\n",
       "\n",
       "    .dataframe tbody tr th {\n",
       "        vertical-align: top;\n",
       "    }\n",
       "\n",
       "    .dataframe thead th {\n",
       "        text-align: right;\n",
       "    }\n",
       "</style>\n",
       "<table border=\"1\" class=\"dataframe\">\n",
       "  <thead>\n",
       "    <tr style=\"text-align: right;\">\n",
       "      <th></th>\n",
       "      <th>Finding Labels</th>\n",
       "      <th>Follow-up #</th>\n",
       "      <th>Patient ID</th>\n",
       "      <th>Patient Age</th>\n",
       "      <th>Patient Gender</th>\n",
       "      <th>View Position</th>\n",
       "      <th>OriginalImage[Width</th>\n",
       "      <th>Height]</th>\n",
       "      <th>OriginalImagePixelSpacing[x</th>\n",
       "      <th>y]</th>\n",
       "      <th>Unnamed: 11</th>\n",
       "      <th>image_files</th>\n",
       "    </tr>\n",
       "    <tr>\n",
       "      <th>Image Index</th>\n",
       "      <th></th>\n",
       "      <th></th>\n",
       "      <th></th>\n",
       "      <th></th>\n",
       "      <th></th>\n",
       "      <th></th>\n",
       "      <th></th>\n",
       "      <th></th>\n",
       "      <th></th>\n",
       "      <th></th>\n",
       "      <th></th>\n",
       "      <th></th>\n",
       "    </tr>\n",
       "  </thead>\n",
       "  <tbody>\n",
       "    <tr>\n",
       "      <th>00000001_000.png</th>\n",
       "      <td>Cardiomegaly</td>\n",
       "      <td>0</td>\n",
       "      <td>1</td>\n",
       "      <td>58</td>\n",
       "      <td>M</td>\n",
       "      <td>PA</td>\n",
       "      <td>2682</td>\n",
       "      <td>2749</td>\n",
       "      <td>0.143</td>\n",
       "      <td>0.143</td>\n",
       "      <td>NaN</td>\n",
       "      <td>/home/nicoleg/workspaces/teddytoolkit/.data/Ch...</td>\n",
       "    </tr>\n",
       "    <tr>\n",
       "      <th>00000001_001.png</th>\n",
       "      <td>Cardiomegaly|Emphysema</td>\n",
       "      <td>1</td>\n",
       "      <td>1</td>\n",
       "      <td>58</td>\n",
       "      <td>M</td>\n",
       "      <td>PA</td>\n",
       "      <td>2894</td>\n",
       "      <td>2729</td>\n",
       "      <td>0.143</td>\n",
       "      <td>0.143</td>\n",
       "      <td>NaN</td>\n",
       "      <td>/home/nicoleg/workspaces/teddytoolkit/.data/Ch...</td>\n",
       "    </tr>\n",
       "    <tr>\n",
       "      <th>00000001_002.png</th>\n",
       "      <td>Cardiomegaly|Effusion</td>\n",
       "      <td>2</td>\n",
       "      <td>1</td>\n",
       "      <td>58</td>\n",
       "      <td>M</td>\n",
       "      <td>PA</td>\n",
       "      <td>2500</td>\n",
       "      <td>2048</td>\n",
       "      <td>0.168</td>\n",
       "      <td>0.168</td>\n",
       "      <td>NaN</td>\n",
       "      <td>/home/nicoleg/workspaces/teddytoolkit/.data/Ch...</td>\n",
       "    </tr>\n",
       "    <tr>\n",
       "      <th>00000002_000.png</th>\n",
       "      <td>No Finding</td>\n",
       "      <td>0</td>\n",
       "      <td>2</td>\n",
       "      <td>81</td>\n",
       "      <td>M</td>\n",
       "      <td>PA</td>\n",
       "      <td>2500</td>\n",
       "      <td>2048</td>\n",
       "      <td>0.171</td>\n",
       "      <td>0.171</td>\n",
       "      <td>NaN</td>\n",
       "      <td>/home/nicoleg/workspaces/teddytoolkit/.data/Ch...</td>\n",
       "    </tr>\n",
       "    <tr>\n",
       "      <th>00000003_000.png</th>\n",
       "      <td>Hernia</td>\n",
       "      <td>0</td>\n",
       "      <td>3</td>\n",
       "      <td>81</td>\n",
       "      <td>F</td>\n",
       "      <td>PA</td>\n",
       "      <td>2582</td>\n",
       "      <td>2991</td>\n",
       "      <td>0.143</td>\n",
       "      <td>0.143</td>\n",
       "      <td>NaN</td>\n",
       "      <td>/home/nicoleg/workspaces/teddytoolkit/.data/Ch...</td>\n",
       "    </tr>\n",
       "  </tbody>\n",
       "</table>\n",
       "</div>"
      ],
      "text/plain": [
       "\n",
       "                          Finding Labels  Follow-up #  Patient ID  \\\n",
       "Image Index                                                         \n",
       "00000001_000.png            Cardiomegaly            \u001b[1;36m0\u001b[0m           \u001b[1;36m1\u001b[0m   \n",
       "00000001_001.png  Cardiomegaly|Emphysema            \u001b[1;36m1\u001b[0m           \u001b[1;36m1\u001b[0m   \n",
       "00000001_002.png   Cardiomegaly|Effusion            \u001b[1;36m2\u001b[0m           \u001b[1;36m1\u001b[0m   \n",
       "00000002_000.png              No Finding            \u001b[1;36m0\u001b[0m           \u001b[1;36m2\u001b[0m   \n",
       "00000003_000.png                  Hernia            \u001b[1;36m0\u001b[0m           \u001b[1;36m3\u001b[0m   \n",
       "\n",
       "                  Patient Age Patient Gender View Position  \\\n",
       "Image Index                                                  \n",
       "00000001_000.png           \u001b[1;36m58\u001b[0m              M            PA   \n",
       "00000001_001.png           \u001b[1;36m58\u001b[0m              M            PA   \n",
       "00000001_002.png           \u001b[1;36m58\u001b[0m              M            PA   \n",
       "00000002_000.png           \u001b[1;36m81\u001b[0m              M            PA   \n",
       "00000003_000.png           \u001b[1;36m81\u001b[0m              F            PA   \n",
       "\n",
       "                  OriginalImage\u001b[1m[\u001b[0mWidth  Height\u001b[1m]\u001b[0m  OriginalImagePixelSpacing\u001b[1m[\u001b[0mx  \\\n",
       "Image Index                                                                   \n",
       "00000001_000.png                 \u001b[1;36m2682\u001b[0m     \u001b[1;36m2749\u001b[0m                        \u001b[1;36m0.143\u001b[0m   \n",
       "00000001_001.png                 \u001b[1;36m2894\u001b[0m     \u001b[1;36m2729\u001b[0m                        \u001b[1;36m0.143\u001b[0m   \n",
       "00000001_002.png                 \u001b[1;36m2500\u001b[0m     \u001b[1;36m2048\u001b[0m                        \u001b[1;36m0.168\u001b[0m   \n",
       "00000002_000.png                 \u001b[1;36m2500\u001b[0m     \u001b[1;36m2048\u001b[0m                        \u001b[1;36m0.171\u001b[0m   \n",
       "00000003_000.png                 \u001b[1;36m2582\u001b[0m     \u001b[1;36m2991\u001b[0m                        \u001b[1;36m0.143\u001b[0m   \n",
       "\n",
       "                     y\u001b[1m]\u001b[0m  Unnamed: \u001b[1;36m11\u001b[0m  \\\n",
       "Image Index                            \n",
       "00000001_000.png  \u001b[1;36m0.143\u001b[0m          NaN   \n",
       "00000001_001.png  \u001b[1;36m0.143\u001b[0m          NaN   \n",
       "00000001_002.png  \u001b[1;36m0.168\u001b[0m          NaN   \n",
       "00000002_000.png  \u001b[1;36m0.171\u001b[0m          NaN   \n",
       "00000003_000.png  \u001b[1;36m0.143\u001b[0m          NaN   \n",
       "\n",
       "                                                        image_files  \n",
       "Image Index                                                          \n",
       "00000001_000.png  \u001b[35m/home/nicoleg/workspaces/teddytoolkit/.data/\u001b[0m\u001b[95mCh...\u001b[0m  \n",
       "00000001_001.png  \u001b[35m/home/nicoleg/workspaces/teddytoolkit/.data/\u001b[0m\u001b[95mCh...\u001b[0m  \n",
       "00000001_002.png  \u001b[35m/home/nicoleg/workspaces/teddytoolkit/.data/\u001b[0m\u001b[95mCh...\u001b[0m  \n",
       "00000002_000.png  \u001b[35m/home/nicoleg/workspaces/teddytoolkit/.data/\u001b[0m\u001b[95mCh...\u001b[0m  \n",
       "00000003_000.png  \u001b[35m/home/nicoleg/workspaces/teddytoolkit/.data/\u001b[0m\u001b[95mCh...\u001b[0m  "
      ]
     },
     "execution_count": 103,
     "metadata": {},
     "output_type": "execute_result"
    }
   ],
   "source": [
    "patient_df = patient_df.merge(matches, on=index, how=\"inner\")\n",
    "patient_df.head()"
   ]
  },
  {
   "cell_type": "code",
   "execution_count": 104,
   "metadata": {},
   "outputs": [
    {
     "data": {
      "text/html": [
       "<pre style=\"white-space:pre;overflow-x:auto;line-height:normal;font-family:Menlo,'DejaVu Sans Mono',consolas,'Courier New',monospace\"></pre>\n"
      ],
      "text/plain": []
     },
     "metadata": {},
     "output_type": "display_data"
    },
    {
     "data": {
      "text/plain": [
       "\n",
       "\u001b[1m[\u001b[0m\n",
       "    \u001b[32m'00000001_000.png\\n'\u001b[0m,\n",
       "    \u001b[32m'00000001_001.png\\n'\u001b[0m,\n",
       "    \u001b[32m'00000001_002.png\\n'\u001b[0m,\n",
       "    \u001b[32m'00000002_000.png\\n'\u001b[0m,\n",
       "    \u001b[32m'00000004_000.png\\n'\u001b[0m,\n",
       "    \u001b[32m'00000005_000.png\\n'\u001b[0m,\n",
       "    \u001b[32m'00000005_001.png\\n'\u001b[0m,\n",
       "    \u001b[33m...\u001b[0m +\u001b[1;36m86517\u001b[0m\n",
       "\u001b[1m]\u001b[0m"
      ]
     },
     "execution_count": 104,
     "metadata": {},
     "output_type": "execute_result"
    }
   ],
   "source": [
    "with open(os.path.join(scan_path, \"train_val_list.txt\"), \"r\") as f:\n",
    "    train_val_list = f.readlines()\n",
    "\n",
    "train_val_list"
   ]
  },
  {
   "cell_type": "code",
   "execution_count": 105,
   "metadata": {},
   "outputs": [
    {
     "data": {
      "text/html": [
       "<pre style=\"white-space:pre;overflow-x:auto;line-height:normal;font-family:Menlo,'DejaVu Sans Mono',consolas,'Courier New',monospace\"></pre>\n"
      ],
      "text/plain": []
     },
     "metadata": {},
     "output_type": "display_data"
    },
    {
     "data": {
      "text/plain": [
       "\n",
       "\u001b[1m[\u001b[0m\n",
       "    \u001b[32m'00000001_000.png'\u001b[0m,\n",
       "    \u001b[32m'00000001_001.png'\u001b[0m,\n",
       "    \u001b[32m'00000001_002.png'\u001b[0m,\n",
       "    \u001b[32m'00000002_000.png'\u001b[0m,\n",
       "    \u001b[32m'00000004_000.png'\u001b[0m,\n",
       "    \u001b[32m'00000005_000.png'\u001b[0m,\n",
       "    \u001b[32m'00000005_001.png'\u001b[0m,\n",
       "    \u001b[33m...\u001b[0m +\u001b[1;36m86517\u001b[0m\n",
       "\u001b[1m]\u001b[0m"
      ]
     },
     "execution_count": 105,
     "metadata": {},
     "output_type": "execute_result"
    }
   ],
   "source": [
    "train_val_list = [idx.strip() for idx in train_val_list]\n",
    "train_val_list"
   ]
  },
  {
   "cell_type": "code",
   "execution_count": 106,
   "metadata": {},
   "outputs": [
    {
     "data": {
      "text/html": [
       "<pre style=\"white-space:pre;overflow-x:auto;line-height:normal;font-family:Menlo,'DejaVu Sans Mono',consolas,'Courier New',monospace\"></pre>\n"
      ],
      "text/plain": []
     },
     "metadata": {},
     "output_type": "display_data"
    },
    {
     "data": {
      "text/plain": [
       "\n",
       "\u001b[1m[\u001b[0m\n",
       "    \u001b[32m'00000003_000.png'\u001b[0m,\n",
       "    \u001b[32m'00000003_001.png'\u001b[0m,\n",
       "    \u001b[32m'00000003_002.png'\u001b[0m,\n",
       "    \u001b[32m'00000003_003.png'\u001b[0m,\n",
       "    \u001b[32m'00000003_004.png'\u001b[0m,\n",
       "    \u001b[32m'00000003_005.png'\u001b[0m,\n",
       "    \u001b[32m'00000003_006.png'\u001b[0m,\n",
       "    \u001b[33m...\u001b[0m +\u001b[1;36m25589\u001b[0m\n",
       "\u001b[1m]\u001b[0m"
      ]
     },
     "execution_count": 106,
     "metadata": {},
     "output_type": "execute_result"
    }
   ],
   "source": [
    "# do the same for the test list\n",
    "with open(os.path.join(scan_path, \"test_list.txt\"), \"r\") as f:\n",
    "    test_list = f.readlines()\n",
    "    test_list = [idx.strip() for idx in test_list]\n",
    "\n",
    "test_list"
   ]
  },
  {
   "cell_type": "code",
   "execution_count": 107,
   "metadata": {},
   "outputs": [
    {
     "data": {
      "text/html": [
       "<pre style=\"white-space:pre;overflow-x:auto;line-height:normal;font-family:Menlo,'DejaVu Sans Mono',consolas,'Courier New',monospace\"></pre>\n"
      ],
      "text/plain": []
     },
     "metadata": {},
     "output_type": "display_data"
    },
    {
     "data": {
      "text/html": [
       "<div>\n",
       "<style scoped>\n",
       "    .dataframe tbody tr th:only-of-type {\n",
       "        vertical-align: middle;\n",
       "    }\n",
       "\n",
       "    .dataframe tbody tr th {\n",
       "        vertical-align: top;\n",
       "    }\n",
       "\n",
       "    .dataframe thead th {\n",
       "        text-align: right;\n",
       "    }\n",
       "</style>\n",
       "<table border=\"1\" class=\"dataframe\">\n",
       "  <thead>\n",
       "    <tr style=\"text-align: right;\">\n",
       "      <th></th>\n",
       "      <th>Finding Labels</th>\n",
       "      <th>Follow-up #</th>\n",
       "      <th>Patient ID</th>\n",
       "      <th>Patient Age</th>\n",
       "      <th>Patient Gender</th>\n",
       "      <th>View Position</th>\n",
       "      <th>OriginalImage[Width</th>\n",
       "      <th>Height]</th>\n",
       "      <th>OriginalImagePixelSpacing[x</th>\n",
       "      <th>y]</th>\n",
       "      <th>Unnamed: 11</th>\n",
       "      <th>image_files</th>\n",
       "    </tr>\n",
       "    <tr>\n",
       "      <th>Image Index</th>\n",
       "      <th></th>\n",
       "      <th></th>\n",
       "      <th></th>\n",
       "      <th></th>\n",
       "      <th></th>\n",
       "      <th></th>\n",
       "      <th></th>\n",
       "      <th></th>\n",
       "      <th></th>\n",
       "      <th></th>\n",
       "      <th></th>\n",
       "      <th></th>\n",
       "    </tr>\n",
       "  </thead>\n",
       "  <tbody>\n",
       "    <tr>\n",
       "      <th>00000001_000.png</th>\n",
       "      <td>Cardiomegaly</td>\n",
       "      <td>0</td>\n",
       "      <td>1</td>\n",
       "      <td>58</td>\n",
       "      <td>M</td>\n",
       "      <td>PA</td>\n",
       "      <td>2682</td>\n",
       "      <td>2749</td>\n",
       "      <td>0.143</td>\n",
       "      <td>0.143</td>\n",
       "      <td>NaN</td>\n",
       "      <td>/home/nicoleg/workspaces/teddytoolkit/.data/Ch...</td>\n",
       "    </tr>\n",
       "    <tr>\n",
       "      <th>00000001_001.png</th>\n",
       "      <td>Cardiomegaly|Emphysema</td>\n",
       "      <td>1</td>\n",
       "      <td>1</td>\n",
       "      <td>58</td>\n",
       "      <td>M</td>\n",
       "      <td>PA</td>\n",
       "      <td>2894</td>\n",
       "      <td>2729</td>\n",
       "      <td>0.143</td>\n",
       "      <td>0.143</td>\n",
       "      <td>NaN</td>\n",
       "      <td>/home/nicoleg/workspaces/teddytoolkit/.data/Ch...</td>\n",
       "    </tr>\n",
       "    <tr>\n",
       "      <th>00000001_002.png</th>\n",
       "      <td>Cardiomegaly|Effusion</td>\n",
       "      <td>2</td>\n",
       "      <td>1</td>\n",
       "      <td>58</td>\n",
       "      <td>M</td>\n",
       "      <td>PA</td>\n",
       "      <td>2500</td>\n",
       "      <td>2048</td>\n",
       "      <td>0.168</td>\n",
       "      <td>0.168</td>\n",
       "      <td>NaN</td>\n",
       "      <td>/home/nicoleg/workspaces/teddytoolkit/.data/Ch...</td>\n",
       "    </tr>\n",
       "    <tr>\n",
       "      <th>00000002_000.png</th>\n",
       "      <td>No Finding</td>\n",
       "      <td>0</td>\n",
       "      <td>2</td>\n",
       "      <td>81</td>\n",
       "      <td>M</td>\n",
       "      <td>PA</td>\n",
       "      <td>2500</td>\n",
       "      <td>2048</td>\n",
       "      <td>0.171</td>\n",
       "      <td>0.171</td>\n",
       "      <td>NaN</td>\n",
       "      <td>/home/nicoleg/workspaces/teddytoolkit/.data/Ch...</td>\n",
       "    </tr>\n",
       "    <tr>\n",
       "      <th>00000004_000.png</th>\n",
       "      <td>Mass|Nodule</td>\n",
       "      <td>0</td>\n",
       "      <td>4</td>\n",
       "      <td>82</td>\n",
       "      <td>M</td>\n",
       "      <td>AP</td>\n",
       "      <td>2500</td>\n",
       "      <td>2048</td>\n",
       "      <td>0.168</td>\n",
       "      <td>0.168</td>\n",
       "      <td>NaN</td>\n",
       "      <td>/home/nicoleg/workspaces/teddytoolkit/.data/Ch...</td>\n",
       "    </tr>\n",
       "  </tbody>\n",
       "</table>\n",
       "</div>"
      ],
      "text/plain": [
       "\n",
       "                          Finding Labels  Follow-up #  Patient ID  \\\n",
       "Image Index                                                         \n",
       "00000001_000.png            Cardiomegaly            \u001b[1;36m0\u001b[0m           \u001b[1;36m1\u001b[0m   \n",
       "00000001_001.png  Cardiomegaly|Emphysema            \u001b[1;36m1\u001b[0m           \u001b[1;36m1\u001b[0m   \n",
       "00000001_002.png   Cardiomegaly|Effusion            \u001b[1;36m2\u001b[0m           \u001b[1;36m1\u001b[0m   \n",
       "00000002_000.png              No Finding            \u001b[1;36m0\u001b[0m           \u001b[1;36m2\u001b[0m   \n",
       "00000004_000.png             Mass|Nodule            \u001b[1;36m0\u001b[0m           \u001b[1;36m4\u001b[0m   \n",
       "\n",
       "                  Patient Age Patient Gender View Position  \\\n",
       "Image Index                                                  \n",
       "00000001_000.png           \u001b[1;36m58\u001b[0m              M            PA   \n",
       "00000001_001.png           \u001b[1;36m58\u001b[0m              M            PA   \n",
       "00000001_002.png           \u001b[1;36m58\u001b[0m              M            PA   \n",
       "00000002_000.png           \u001b[1;36m81\u001b[0m              M            PA   \n",
       "00000004_000.png           \u001b[1;36m82\u001b[0m              M            AP   \n",
       "\n",
       "                  OriginalImage\u001b[1m[\u001b[0mWidth  Height\u001b[1m]\u001b[0m  OriginalImagePixelSpacing\u001b[1m[\u001b[0mx  \\\n",
       "Image Index                                                                   \n",
       "00000001_000.png                 \u001b[1;36m2682\u001b[0m     \u001b[1;36m2749\u001b[0m                        \u001b[1;36m0.143\u001b[0m   \n",
       "00000001_001.png                 \u001b[1;36m2894\u001b[0m     \u001b[1;36m2729\u001b[0m                        \u001b[1;36m0.143\u001b[0m   \n",
       "00000001_002.png                 \u001b[1;36m2500\u001b[0m     \u001b[1;36m2048\u001b[0m                        \u001b[1;36m0.168\u001b[0m   \n",
       "00000002_000.png                 \u001b[1;36m2500\u001b[0m     \u001b[1;36m2048\u001b[0m                        \u001b[1;36m0.171\u001b[0m   \n",
       "00000004_000.png                 \u001b[1;36m2500\u001b[0m     \u001b[1;36m2048\u001b[0m                        \u001b[1;36m0.168\u001b[0m   \n",
       "\n",
       "                     y\u001b[1m]\u001b[0m  Unnamed: \u001b[1;36m11\u001b[0m  \\\n",
       "Image Index                            \n",
       "00000001_000.png  \u001b[1;36m0.143\u001b[0m          NaN   \n",
       "00000001_001.png  \u001b[1;36m0.143\u001b[0m          NaN   \n",
       "00000001_002.png  \u001b[1;36m0.168\u001b[0m          NaN   \n",
       "00000002_000.png  \u001b[1;36m0.171\u001b[0m          NaN   \n",
       "00000004_000.png  \u001b[1;36m0.168\u001b[0m          NaN   \n",
       "\n",
       "                                                        image_files  \n",
       "Image Index                                                          \n",
       "00000001_000.png  \u001b[35m/home/nicoleg/workspaces/teddytoolkit/.data/\u001b[0m\u001b[95mCh...\u001b[0m  \n",
       "00000001_001.png  \u001b[35m/home/nicoleg/workspaces/teddytoolkit/.data/\u001b[0m\u001b[95mCh...\u001b[0m  \n",
       "00000001_002.png  \u001b[35m/home/nicoleg/workspaces/teddytoolkit/.data/\u001b[0m\u001b[95mCh...\u001b[0m  \n",
       "00000002_000.png  \u001b[35m/home/nicoleg/workspaces/teddytoolkit/.data/\u001b[0m\u001b[95mCh...\u001b[0m  \n",
       "00000004_000.png  \u001b[35m/home/nicoleg/workspaces/teddytoolkit/.data/\u001b[0m\u001b[95mCh...\u001b[0m  "
      ]
     },
     "execution_count": 107,
     "metadata": {},
     "output_type": "execute_result"
    }
   ],
   "source": [
    "train_df = patient_df[patient_df.index.isin(train_val_list)]\n",
    "test_df = patient_df[patient_df.index.isin(test_list)]\n",
    "train_df.head()"
   ]
  },
  {
   "cell_type": "markdown",
   "metadata": {},
   "source": [
    "### Subsetting"
   ]
  },
  {
   "cell_type": "code",
   "execution_count": 108,
   "metadata": {},
   "outputs": [
    {
     "data": {
      "text/html": [
       "<pre style=\"white-space:pre;overflow-x:auto;line-height:normal;font-family:Menlo,'DejaVu Sans Mono',consolas,'Courier New',monospace\"></pre>\n"
      ],
      "text/plain": []
     },
     "metadata": {},
     "output_type": "display_data"
    },
    {
     "data": {
      "text/plain": [
       "\u001b[1m[\u001b[0m\u001b[32m'No Finding'\u001b[0m, \u001b[32m'Pneumonia'\u001b[0m\u001b[1m]\u001b[0m"
      ]
     },
     "execution_count": 108,
     "metadata": {},
     "output_type": "execute_result"
    }
   ],
   "source": [
    "# subsetting\n",
    "labels = dataset_cfg.labels\n",
    "labels"
   ]
  },
  {
   "cell_type": "code",
   "execution_count": 109,
   "metadata": {},
   "outputs": [
    {
     "data": {
      "text/html": [
       "<pre style=\"white-space:pre;overflow-x:auto;line-height:normal;font-family:Menlo,'DejaVu Sans Mono',consolas,'Courier New',monospace\"></pre>\n"
      ],
      "text/plain": []
     },
     "metadata": {},
     "output_type": "display_data"
    },
    {
     "data": {
      "text/html": [
       "<div>\n",
       "<style scoped>\n",
       "    .dataframe tbody tr th:only-of-type {\n",
       "        vertical-align: middle;\n",
       "    }\n",
       "\n",
       "    .dataframe tbody tr th {\n",
       "        vertical-align: top;\n",
       "    }\n",
       "\n",
       "    .dataframe thead th {\n",
       "        text-align: right;\n",
       "    }\n",
       "</style>\n",
       "<table border=\"1\" class=\"dataframe\">\n",
       "  <thead>\n",
       "    <tr style=\"text-align: right;\">\n",
       "      <th></th>\n",
       "      <th>Finding Labels</th>\n",
       "      <th>Follow-up #</th>\n",
       "      <th>Patient ID</th>\n",
       "      <th>Patient Age</th>\n",
       "      <th>Patient Gender</th>\n",
       "      <th>View Position</th>\n",
       "      <th>OriginalImage[Width</th>\n",
       "      <th>Height]</th>\n",
       "      <th>OriginalImagePixelSpacing[x</th>\n",
       "      <th>y]</th>\n",
       "      <th>Unnamed: 11</th>\n",
       "      <th>image_files</th>\n",
       "    </tr>\n",
       "    <tr>\n",
       "      <th>Image Index</th>\n",
       "      <th></th>\n",
       "      <th></th>\n",
       "      <th></th>\n",
       "      <th></th>\n",
       "      <th></th>\n",
       "      <th></th>\n",
       "      <th></th>\n",
       "      <th></th>\n",
       "      <th></th>\n",
       "      <th></th>\n",
       "      <th></th>\n",
       "      <th></th>\n",
       "    </tr>\n",
       "  </thead>\n",
       "  <tbody>\n",
       "    <tr>\n",
       "      <th>00000002_000.png</th>\n",
       "      <td>No Finding</td>\n",
       "      <td>0</td>\n",
       "      <td>2</td>\n",
       "      <td>81</td>\n",
       "      <td>M</td>\n",
       "      <td>PA</td>\n",
       "      <td>2500</td>\n",
       "      <td>2048</td>\n",
       "      <td>0.171</td>\n",
       "      <td>0.171</td>\n",
       "      <td>NaN</td>\n",
       "      <td>/home/nicoleg/workspaces/teddytoolkit/.data/Ch...</td>\n",
       "    </tr>\n",
       "    <tr>\n",
       "      <th>00000005_000.png</th>\n",
       "      <td>No Finding</td>\n",
       "      <td>0</td>\n",
       "      <td>5</td>\n",
       "      <td>69</td>\n",
       "      <td>F</td>\n",
       "      <td>PA</td>\n",
       "      <td>2048</td>\n",
       "      <td>2500</td>\n",
       "      <td>0.168</td>\n",
       "      <td>0.168</td>\n",
       "      <td>NaN</td>\n",
       "      <td>/home/nicoleg/workspaces/teddytoolkit/.data/Ch...</td>\n",
       "    </tr>\n",
       "    <tr>\n",
       "      <th>00000005_001.png</th>\n",
       "      <td>No Finding</td>\n",
       "      <td>1</td>\n",
       "      <td>5</td>\n",
       "      <td>69</td>\n",
       "      <td>F</td>\n",
       "      <td>AP</td>\n",
       "      <td>2500</td>\n",
       "      <td>2048</td>\n",
       "      <td>0.168</td>\n",
       "      <td>0.168</td>\n",
       "      <td>NaN</td>\n",
       "      <td>/home/nicoleg/workspaces/teddytoolkit/.data/Ch...</td>\n",
       "    </tr>\n",
       "    <tr>\n",
       "      <th>00000005_002.png</th>\n",
       "      <td>No Finding</td>\n",
       "      <td>2</td>\n",
       "      <td>5</td>\n",
       "      <td>69</td>\n",
       "      <td>F</td>\n",
       "      <td>AP</td>\n",
       "      <td>2500</td>\n",
       "      <td>2048</td>\n",
       "      <td>0.168</td>\n",
       "      <td>0.168</td>\n",
       "      <td>NaN</td>\n",
       "      <td>/home/nicoleg/workspaces/teddytoolkit/.data/Ch...</td>\n",
       "    </tr>\n",
       "    <tr>\n",
       "      <th>00000005_003.png</th>\n",
       "      <td>No Finding</td>\n",
       "      <td>3</td>\n",
       "      <td>5</td>\n",
       "      <td>69</td>\n",
       "      <td>F</td>\n",
       "      <td>PA</td>\n",
       "      <td>2992</td>\n",
       "      <td>2991</td>\n",
       "      <td>0.143</td>\n",
       "      <td>0.143</td>\n",
       "      <td>NaN</td>\n",
       "      <td>/home/nicoleg/workspaces/teddytoolkit/.data/Ch...</td>\n",
       "    </tr>\n",
       "    <tr>\n",
       "      <th>00000005_004.png</th>\n",
       "      <td>No Finding</td>\n",
       "      <td>4</td>\n",
       "      <td>5</td>\n",
       "      <td>70</td>\n",
       "      <td>F</td>\n",
       "      <td>PA</td>\n",
       "      <td>2986</td>\n",
       "      <td>2991</td>\n",
       "      <td>0.143</td>\n",
       "      <td>0.143</td>\n",
       "      <td>NaN</td>\n",
       "      <td>/home/nicoleg/workspaces/teddytoolkit/.data/Ch...</td>\n",
       "    </tr>\n",
       "    <tr>\n",
       "      <th>00000005_005.png</th>\n",
       "      <td>No Finding</td>\n",
       "      <td>5</td>\n",
       "      <td>5</td>\n",
       "      <td>70</td>\n",
       "      <td>F</td>\n",
       "      <td>PA</td>\n",
       "      <td>2514</td>\n",
       "      <td>2991</td>\n",
       "      <td>0.143</td>\n",
       "      <td>0.143</td>\n",
       "      <td>NaN</td>\n",
       "      <td>/home/nicoleg/workspaces/teddytoolkit/.data/Ch...</td>\n",
       "    </tr>\n",
       "    <tr>\n",
       "      <th>00000006_000.png</th>\n",
       "      <td>No Finding</td>\n",
       "      <td>0</td>\n",
       "      <td>6</td>\n",
       "      <td>81</td>\n",
       "      <td>M</td>\n",
       "      <td>PA</td>\n",
       "      <td>2500</td>\n",
       "      <td>2048</td>\n",
       "      <td>0.168</td>\n",
       "      <td>0.168</td>\n",
       "      <td>NaN</td>\n",
       "      <td>/home/nicoleg/workspaces/teddytoolkit/.data/Ch...</td>\n",
       "    </tr>\n",
       "    <tr>\n",
       "      <th>00000007_000.png</th>\n",
       "      <td>No Finding</td>\n",
       "      <td>0</td>\n",
       "      <td>7</td>\n",
       "      <td>82</td>\n",
       "      <td>M</td>\n",
       "      <td>PA</td>\n",
       "      <td>2500</td>\n",
       "      <td>2048</td>\n",
       "      <td>0.168</td>\n",
       "      <td>0.168</td>\n",
       "      <td>NaN</td>\n",
       "      <td>/home/nicoleg/workspaces/teddytoolkit/.data/Ch...</td>\n",
       "    </tr>\n",
       "    <tr>\n",
       "      <th>00000008_001.png</th>\n",
       "      <td>No Finding</td>\n",
       "      <td>1</td>\n",
       "      <td>8</td>\n",
       "      <td>70</td>\n",
       "      <td>F</td>\n",
       "      <td>PA</td>\n",
       "      <td>2048</td>\n",
       "      <td>2500</td>\n",
       "      <td>0.171</td>\n",
       "      <td>0.171</td>\n",
       "      <td>NaN</td>\n",
       "      <td>/home/nicoleg/workspaces/teddytoolkit/.data/Ch...</td>\n",
       "    </tr>\n",
       "  </tbody>\n",
       "</table>\n",
       "</div>"
      ],
      "text/plain": [
       "\n",
       "                 Finding Labels  Follow-up #  Patient ID  Patient Age  \\\n",
       "Image Index                                                             \n",
       "00000002_000.png     No Finding            \u001b[1;36m0\u001b[0m           \u001b[1;36m2\u001b[0m           \u001b[1;36m81\u001b[0m   \n",
       "00000005_000.png     No Finding            \u001b[1;36m0\u001b[0m           \u001b[1;36m5\u001b[0m           \u001b[1;36m69\u001b[0m   \n",
       "00000005_001.png     No Finding            \u001b[1;36m1\u001b[0m           \u001b[1;36m5\u001b[0m           \u001b[1;36m69\u001b[0m   \n",
       "00000005_002.png     No Finding            \u001b[1;36m2\u001b[0m           \u001b[1;36m5\u001b[0m           \u001b[1;36m69\u001b[0m   \n",
       "00000005_003.png     No Finding            \u001b[1;36m3\u001b[0m           \u001b[1;36m5\u001b[0m           \u001b[1;36m69\u001b[0m   \n",
       "00000005_004.png     No Finding            \u001b[1;36m4\u001b[0m           \u001b[1;36m5\u001b[0m           \u001b[1;36m70\u001b[0m   \n",
       "00000005_005.png     No Finding            \u001b[1;36m5\u001b[0m           \u001b[1;36m5\u001b[0m           \u001b[1;36m70\u001b[0m   \n",
       "00000006_000.png     No Finding            \u001b[1;36m0\u001b[0m           \u001b[1;36m6\u001b[0m           \u001b[1;36m81\u001b[0m   \n",
       "00000007_000.png     No Finding            \u001b[1;36m0\u001b[0m           \u001b[1;36m7\u001b[0m           \u001b[1;36m82\u001b[0m   \n",
       "00000008_001.png     No Finding            \u001b[1;36m1\u001b[0m           \u001b[1;36m8\u001b[0m           \u001b[1;36m70\u001b[0m   \n",
       "\n",
       "                 Patient Gender View Position  OriginalImage\u001b[1m[\u001b[0mWidth  Height\u001b[1m]\u001b[0m  \\\n",
       "Image Index                                                                   \n",
       "00000002_000.png              M            PA                 \u001b[1;36m2500\u001b[0m     \u001b[1;36m2048\u001b[0m   \n",
       "00000005_000.png              F            PA                 \u001b[1;36m2048\u001b[0m     \u001b[1;36m2500\u001b[0m   \n",
       "00000005_001.png              F            AP                 \u001b[1;36m2500\u001b[0m     \u001b[1;36m2048\u001b[0m   \n",
       "00000005_002.png              F            AP                 \u001b[1;36m2500\u001b[0m     \u001b[1;36m2048\u001b[0m   \n",
       "00000005_003.png              F            PA                 \u001b[1;36m2992\u001b[0m     \u001b[1;36m2991\u001b[0m   \n",
       "00000005_004.png              F            PA                 \u001b[1;36m2986\u001b[0m     \u001b[1;36m2991\u001b[0m   \n",
       "00000005_005.png              F            PA                 \u001b[1;36m2514\u001b[0m     \u001b[1;36m2991\u001b[0m   \n",
       "00000006_000.png              M            PA                 \u001b[1;36m2500\u001b[0m     \u001b[1;36m2048\u001b[0m   \n",
       "00000007_000.png              M            PA                 \u001b[1;36m2500\u001b[0m     \u001b[1;36m2048\u001b[0m   \n",
       "00000008_001.png              F            PA                 \u001b[1;36m2048\u001b[0m     \u001b[1;36m2500\u001b[0m   \n",
       "\n",
       "                  OriginalImagePixelSpacing\u001b[1m[\u001b[0mx     y\u001b[1m]\u001b[0m  Unnamed: \u001b[1;36m11\u001b[0m  \\\n",
       "Image Index                                                         \n",
       "00000002_000.png                        \u001b[1;36m0.171\u001b[0m  \u001b[1;36m0.171\u001b[0m          NaN   \n",
       "00000005_000.png                        \u001b[1;36m0.168\u001b[0m  \u001b[1;36m0.168\u001b[0m          NaN   \n",
       "00000005_001.png                        \u001b[1;36m0.168\u001b[0m  \u001b[1;36m0.168\u001b[0m          NaN   \n",
       "00000005_002.png                        \u001b[1;36m0.168\u001b[0m  \u001b[1;36m0.168\u001b[0m          NaN   \n",
       "00000005_003.png                        \u001b[1;36m0.143\u001b[0m  \u001b[1;36m0.143\u001b[0m          NaN   \n",
       "00000005_004.png                        \u001b[1;36m0.143\u001b[0m  \u001b[1;36m0.143\u001b[0m          NaN   \n",
       "00000005_005.png                        \u001b[1;36m0.143\u001b[0m  \u001b[1;36m0.143\u001b[0m          NaN   \n",
       "00000006_000.png                        \u001b[1;36m0.168\u001b[0m  \u001b[1;36m0.168\u001b[0m          NaN   \n",
       "00000007_000.png                        \u001b[1;36m0.168\u001b[0m  \u001b[1;36m0.168\u001b[0m          NaN   \n",
       "00000008_001.png                        \u001b[1;36m0.171\u001b[0m  \u001b[1;36m0.171\u001b[0m          NaN   \n",
       "\n",
       "                                                        image_files  \n",
       "Image Index                                                          \n",
       "00000002_000.png  \u001b[35m/home/nicoleg/workspaces/teddytoolkit/.data/\u001b[0m\u001b[95mCh...\u001b[0m  \n",
       "00000005_000.png  \u001b[35m/home/nicoleg/workspaces/teddytoolkit/.data/\u001b[0m\u001b[95mCh...\u001b[0m  \n",
       "00000005_001.png  \u001b[35m/home/nicoleg/workspaces/teddytoolkit/.data/\u001b[0m\u001b[95mCh...\u001b[0m  \n",
       "00000005_002.png  \u001b[35m/home/nicoleg/workspaces/teddytoolkit/.data/\u001b[0m\u001b[95mCh...\u001b[0m  \n",
       "00000005_003.png  \u001b[35m/home/nicoleg/workspaces/teddytoolkit/.data/\u001b[0m\u001b[95mCh...\u001b[0m  \n",
       "00000005_004.png  \u001b[35m/home/nicoleg/workspaces/teddytoolkit/.data/\u001b[0m\u001b[95mCh...\u001b[0m  \n",
       "00000005_005.png  \u001b[35m/home/nicoleg/workspaces/teddytoolkit/.data/\u001b[0m\u001b[95mCh...\u001b[0m  \n",
       "00000006_000.png  \u001b[35m/home/nicoleg/workspaces/teddytoolkit/.data/\u001b[0m\u001b[95mCh...\u001b[0m  \n",
       "00000007_000.png  \u001b[35m/home/nicoleg/workspaces/teddytoolkit/.data/\u001b[0m\u001b[95mCh...\u001b[0m  \n",
       "00000008_001.png  \u001b[35m/home/nicoleg/workspaces/teddytoolkit/.data/\u001b[0m\u001b[95mCh...\u001b[0m  "
      ]
     },
     "execution_count": 109,
     "metadata": {},
     "output_type": "execute_result"
    }
   ],
   "source": [
    "from pandas import DataFrame, Series\n",
    "\n",
    "train_subset_condition = train_df[target].str.contains(labels[0]) | train_df[target].str.contains(labels[1])\n",
    "test_subset_condition = test_df[target].str.contains(labels[0]) | test_df[target].str.contains(labels[1])\n",
    "train_df = train_df[train_subset_condition]\n",
    "test_df = test_df[test_subset_condition]\n",
    "train_df.head(10)\n"
   ]
  },
  {
   "cell_type": "code",
   "execution_count": 110,
   "metadata": {},
   "outputs": [
    {
     "data": {
      "text/html": [
       "<pre style=\"white-space:pre;overflow-x:auto;line-height:normal;font-family:Menlo,'DejaVu Sans Mono',consolas,'Courier New',monospace\">Train dataset description:\n",
       "</pre>\n"
      ],
      "text/plain": [
       "Train dataset description:\n"
      ]
     },
     "metadata": {},
     "output_type": "display_data"
    },
    {
     "data": {
      "text/html": [
       "<pre style=\"white-space:pre;overflow-x:auto;line-height:normal;font-family:Menlo,'DejaVu Sans Mono',consolas,'Courier New',monospace\"><span style=\"font-weight: bold\">[</span><span style=\"color: #008000; text-decoration-color: #008000\">'No Finding'</span> <span style=\"color: #008000; text-decoration-color: #008000\">'Nodule|Pneumonia'</span>\n",
       " <span style=\"color: #008000; text-decoration-color: #008000\">'Edema|Effusion|Infiltration|Pleural_Thickening|Pneumonia'</span> <span style=\"color: #008000; text-decoration-color: #008000\">'Pneumonia'</span>\n",
       " <span style=\"color: #008000; text-decoration-color: #008000\">'Infiltration|Pneumonia'</span> <span style=\"color: #008000; text-decoration-color: #008000\">'Fibrosis|Infiltration|Nodule|Pneumonia'</span>\n",
       " <span style=\"color: #008000; text-decoration-color: #008000\">'Edema|Infiltration|Pneumonia'</span> <span style=\"color: #008000; text-decoration-color: #008000\">'Fibrosis|Infiltration|Pneumonia'</span>\n",
       " <span style=\"color: #008000; text-decoration-color: #008000\">'Effusion|Infiltration|Pleural_Thickening|Pneumonia'</span>\n",
       " <span style=\"color: #008000; text-decoration-color: #008000\">'Atelectasis|Pneumonia'</span> <span style=\"color: #008000; text-decoration-color: #008000\">'Fibrosis|Pneumonia'</span>\n",
       " <span style=\"color: #008000; text-decoration-color: #008000\">'Pleural_Thickening|Pneumonia'</span> <span style=\"color: #008000; text-decoration-color: #008000\">'Edema|Effusion|Nodule|Pneumonia'</span>\n",
       " <span style=\"color: #008000; text-decoration-color: #008000\">'Effusion|Pneumonia'</span> <span style=\"color: #008000; text-decoration-color: #008000\">'Edema|Effusion|Pneumonia'</span>\n",
       " <span style=\"color: #008000; text-decoration-color: #008000\">'Effusion|Infiltration|Pneumonia'</span>\n",
       " <span style=\"color: #008000; text-decoration-color: #008000\">'Atelectasis|Emphysema|Infiltration|Pneumonia'</span>\n",
       " <span style=\"color: #008000; text-decoration-color: #008000\">'Edema|Effusion|Infiltration|Pneumonia'</span> <span style=\"color: #008000; text-decoration-color: #008000\">'Effusion|Fibrosis|Pneumonia'</span>\n",
       " <span style=\"color: #008000; text-decoration-color: #008000\">'Emphysema|Pneumonia'</span> <span style=\"color: #008000; text-decoration-color: #008000\">'Edema|Pleural_Thickening|Pneumonia'</span>\n",
       " <span style=\"color: #008000; text-decoration-color: #008000\">'Consolidation|Infiltration|Pneumonia'</span>\n",
       " <span style=\"color: #008000; text-decoration-color: #008000\">'Atelectasis|Infiltration|Pneumonia'</span> <span style=\"color: #008000; text-decoration-color: #008000\">'Edema|Pneumonia'</span>\n",
       " <span style=\"color: #008000; text-decoration-color: #008000\">'Infiltration|Nodule|Pneumonia'</span> <span style=\"color: #008000; text-decoration-color: #008000\">'Emphysema|Infiltration|Pneumonia'</span>\n",
       " <span style=\"color: #008000; text-decoration-color: #008000\">'Emphysema|Infiltration|Pleural_Thickening|Pneumonia'</span>\n",
       " <span style=\"color: #008000; text-decoration-color: #008000\">'Cardiomegaly|Pneumonia'</span> <span style=\"color: #008000; text-decoration-color: #008000\">'Atelectasis|Nodule|Pneumonia'</span>\n",
       " <span style=\"color: #008000; text-decoration-color: #008000\">'Atelectasis|Effusion|Pneumonia'</span>\n",
       " <span style=\"color: #008000; text-decoration-color: #008000\">'Consolidation|Effusion|Infiltration|Pneumonia'</span>\n",
       " <span style=\"color: #008000; text-decoration-color: #008000\">'Atelectasis|Edema|Effusion|Pneumonia|Pneumothorax'</span>\n",
       " <span style=\"color: #008000; text-decoration-color: #008000\">'Atelectasis|Effusion|Infiltration|Pneumonia'</span> <span style=\"color: #008000; text-decoration-color: #008000\">'Mass|Nodule|Pneumonia'</span>\n",
       " <span style=\"color: #008000; text-decoration-color: #008000\">'Atelectasis|Consolidation|Edema|Infiltration|Pneumonia'</span>\n",
       " <span style=\"color: #008000; text-decoration-color: #008000\">'Atelectasis|Consolidation|Infiltration|Pneumonia'</span> <span style=\"color: #008000; text-decoration-color: #008000\">'Mass|Pneumonia'</span>\n",
       " <span style=\"color: #008000; text-decoration-color: #008000\">'Effusion|Pleural_Thickening|Pneumonia'</span>\n",
       " <span style=\"color: #008000; text-decoration-color: #008000\">'Atelectasis|Cardiomegaly|Pneumonia'</span> <span style=\"color: #008000; text-decoration-color: #008000\">'Edema|Mass|Pneumonia'</span>\n",
       " <span style=\"color: #008000; text-decoration-color: #008000\">'Infiltration|Mass|Pneumonia'</span> <span style=\"color: #008000; text-decoration-color: #008000\">'Infiltration|Pneumonia|Pneumothorax'</span>\n",
       " <span style=\"color: #008000; text-decoration-color: #008000\">'Consolidation|Pneumonia'</span> <span style=\"color: #008000; text-decoration-color: #008000\">'Atelectasis|Consolidation|Pneumonia'</span>\n",
       " <span style=\"color: #008000; text-decoration-color: #008000\">'Edema|Infiltration|Pleural_Thickening|Pneumonia'</span>\n",
       " <span style=\"color: #008000; text-decoration-color: #008000\">'Edema|Infiltration|Mass|Pneumonia'</span>\n",
       " <span style=\"color: #008000; text-decoration-color: #008000\">'Effusion|Fibrosis|Infiltration|Pleural_Thickening|Pneumonia'</span>\n",
       " <span style=\"color: #008000; text-decoration-color: #008000\">'Atelectasis|Consolidation|Mass|Pneumonia'</span> <span style=\"color: #008000; text-decoration-color: #008000\">'Atelectasis|Mass|Pneumonia'</span>\n",
       " <span style=\"color: #008000; text-decoration-color: #008000\">'Atelectasis|Infiltration|Pleural_Thickening|Pneumonia'</span>\n",
       " <span style=\"color: #008000; text-decoration-color: #008000\">'Atelectasis|Edema|Effusion|Infiltration|Pneumonia'</span>\n",
       " <span style=\"color: #008000; text-decoration-color: #008000\">'Consolidation|Effusion|Infiltration|Mass|Nodule|Pleural_Thickening|Pneumonia'</span>\n",
       " <span style=\"color: #008000; text-decoration-color: #008000\">'Cardiomegaly|Consolidation|Pneumonia'</span> <span style=\"color: #008000; text-decoration-color: #008000\">'Cardiomegaly|Effusion|Pneumonia'</span>\n",
       " <span style=\"color: #008000; text-decoration-color: #008000\">'Atelectasis|Infiltration|Mass|Pneumonia'</span>\n",
       " <span style=\"color: #008000; text-decoration-color: #008000\">'Atelectasis|Emphysema|Pneumonia'</span>\n",
       " <span style=\"color: #008000; text-decoration-color: #008000\">'Effusion|Infiltration|Mass|Nodule|Pneumonia'</span>\n",
       " <span style=\"color: #008000; text-decoration-color: #008000\">'Atelectasis|Edema|Infiltration|Pneumonia'</span> <span style=\"color: #008000; text-decoration-color: #008000\">'Pneumonia|Pneumothorax'</span>\n",
       " <span style=\"color: #008000; text-decoration-color: #008000\">'Atelectasis|Effusion|Pneumonia|Pneumothorax'</span>\n",
       " <span style=\"color: #008000; text-decoration-color: #008000\">'Consolidation|Effusion|Mass|Pneumonia'</span> <span style=\"color: #008000; text-decoration-color: #008000\">'Edema|Nodule|Pneumonia'</span>\n",
       " <span style=\"color: #008000; text-decoration-color: #008000\">'Effusion|Mass|Pneumonia|Pneumothorax'</span> <span style=\"color: #008000; text-decoration-color: #008000\">'Consolidation|Effusion|Pneumonia'</span>\n",
       " <span style=\"color: #008000; text-decoration-color: #008000\">'Atelectasis|Consolidation|Infiltration|Mass|Pneumonia'</span>\n",
       " <span style=\"color: #008000; text-decoration-color: #008000\">'Consolidation|Edema|Infiltration|Pneumonia'</span>\n",
       " <span style=\"color: #008000; text-decoration-color: #008000\">'Cardiomegaly|Effusion|Infiltration|Mass|Pneumonia'</span>\n",
       " <span style=\"color: #008000; text-decoration-color: #008000\">'Edema|Infiltration|Nodule|Pneumonia'</span>\n",
       " <span style=\"color: #008000; text-decoration-color: #008000\">'Effusion|Infiltration|Mass|Pneumonia'</span>\n",
       " <span style=\"color: #008000; text-decoration-color: #008000\">'Cardiomegaly|Edema|Effusion|Infiltration|Mass|Pleural_Thickening|Pneumonia'</span>\n",
       " <span style=\"color: #008000; text-decoration-color: #008000\">'Atelectasis|Consolidation|Edema|Pneumonia'</span>\n",
       " <span style=\"color: #008000; text-decoration-color: #008000\">'Edema|Infiltration|Pneumonia|Pneumothorax'</span>\n",
       " <span style=\"color: #008000; text-decoration-color: #008000\">'Consolidation|Mass|Nodule|Pneumonia'</span>\n",
       " <span style=\"color: #008000; text-decoration-color: #008000\">'Consolidation|Infiltration|Nodule|Pneumonia'</span>\n",
       " <span style=\"color: #008000; text-decoration-color: #008000\">'Atelectasis|Cardiomegaly|Edema|Effusion|Infiltration|Nodule|Pneumonia'</span>\n",
       " <span style=\"color: #008000; text-decoration-color: #008000\">'Atelectasis|Consolidation|Edema|Effusion|Infiltration|Mass|Nodule|Pleural_Thickening|Pneumonia'</span>\n",
       " <span style=\"color: #008000; text-decoration-color: #008000\">'Effusion|Mass|Pneumonia'</span> <span style=\"color: #008000; text-decoration-color: #008000\">'Effusion|Emphysema|Infiltration|Pneumonia'</span>\n",
       " <span style=\"color: #008000; text-decoration-color: #008000\">'Edema|Emphysema|Infiltration|Pneumonia'</span>\n",
       " <span style=\"color: #008000; text-decoration-color: #008000\">'Cardiomegaly|Infiltration|Pneumonia'</span>\n",
       " <span style=\"color: #008000; text-decoration-color: #008000\">'Effusion|Infiltration|Nodule|Pneumonia'</span> <span style=\"color: #008000; text-decoration-color: #008000\">'Atelectasis|Edema|Pneumonia'</span>\n",
       " <span style=\"color: #008000; text-decoration-color: #008000\">'Emphysema|Pneumonia|Pneumothorax'</span>\n",
       " <span style=\"color: #008000; text-decoration-color: #008000\">'Atelectasis|Effusion|Infiltration|Pneumonia|Pneumothorax'</span>\n",
       " <span style=\"color: #008000; text-decoration-color: #008000\">'Effusion|Infiltration|Mass|Pleural_Thickening|Pneumonia'</span>\n",
       " <span style=\"color: #008000; text-decoration-color: #008000\">'Consolidation|Nodule|Pneumonia'</span>\n",
       " <span style=\"color: #008000; text-decoration-color: #008000\">'Atelectasis|Consolidation|Effusion|Pneumonia'</span><span style=\"font-weight: bold\">]</span>\n",
       "</pre>\n"
      ],
      "text/plain": [
       "\u001b[1m[\u001b[0m\u001b[32m'No Finding'\u001b[0m \u001b[32m'Nodule|Pneumonia'\u001b[0m\n",
       " \u001b[32m'Edema|Effusion|Infiltration|Pleural_Thickening|Pneumonia'\u001b[0m \u001b[32m'Pneumonia'\u001b[0m\n",
       " \u001b[32m'Infiltration|Pneumonia'\u001b[0m \u001b[32m'Fibrosis|Infiltration|Nodule|Pneumonia'\u001b[0m\n",
       " \u001b[32m'Edema|Infiltration|Pneumonia'\u001b[0m \u001b[32m'Fibrosis|Infiltration|Pneumonia'\u001b[0m\n",
       " \u001b[32m'Effusion|Infiltration|Pleural_Thickening|Pneumonia'\u001b[0m\n",
       " \u001b[32m'Atelectasis|Pneumonia'\u001b[0m \u001b[32m'Fibrosis|Pneumonia'\u001b[0m\n",
       " \u001b[32m'Pleural_Thickening|Pneumonia'\u001b[0m \u001b[32m'Edema|Effusion|Nodule|Pneumonia'\u001b[0m\n",
       " \u001b[32m'Effusion|Pneumonia'\u001b[0m \u001b[32m'Edema|Effusion|Pneumonia'\u001b[0m\n",
       " \u001b[32m'Effusion|Infiltration|Pneumonia'\u001b[0m\n",
       " \u001b[32m'Atelectasis|Emphysema|Infiltration|Pneumonia'\u001b[0m\n",
       " \u001b[32m'Edema|Effusion|Infiltration|Pneumonia'\u001b[0m \u001b[32m'Effusion|Fibrosis|Pneumonia'\u001b[0m\n",
       " \u001b[32m'Emphysema|Pneumonia'\u001b[0m \u001b[32m'Edema|Pleural_Thickening|Pneumonia'\u001b[0m\n",
       " \u001b[32m'Consolidation|Infiltration|Pneumonia'\u001b[0m\n",
       " \u001b[32m'Atelectasis|Infiltration|Pneumonia'\u001b[0m \u001b[32m'Edema|Pneumonia'\u001b[0m\n",
       " \u001b[32m'Infiltration|Nodule|Pneumonia'\u001b[0m \u001b[32m'Emphysema|Infiltration|Pneumonia'\u001b[0m\n",
       " \u001b[32m'Emphysema|Infiltration|Pleural_Thickening|Pneumonia'\u001b[0m\n",
       " \u001b[32m'Cardiomegaly|Pneumonia'\u001b[0m \u001b[32m'Atelectasis|Nodule|Pneumonia'\u001b[0m\n",
       " \u001b[32m'Atelectasis|Effusion|Pneumonia'\u001b[0m\n",
       " \u001b[32m'Consolidation|Effusion|Infiltration|Pneumonia'\u001b[0m\n",
       " \u001b[32m'Atelectasis|Edema|Effusion|Pneumonia|Pneumothorax'\u001b[0m\n",
       " \u001b[32m'Atelectasis|Effusion|Infiltration|Pneumonia'\u001b[0m \u001b[32m'Mass|Nodule|Pneumonia'\u001b[0m\n",
       " \u001b[32m'Atelectasis|Consolidation|Edema|Infiltration|Pneumonia'\u001b[0m\n",
       " \u001b[32m'Atelectasis|Consolidation|Infiltration|Pneumonia'\u001b[0m \u001b[32m'Mass|Pneumonia'\u001b[0m\n",
       " \u001b[32m'Effusion|Pleural_Thickening|Pneumonia'\u001b[0m\n",
       " \u001b[32m'Atelectasis|Cardiomegaly|Pneumonia'\u001b[0m \u001b[32m'Edema|Mass|Pneumonia'\u001b[0m\n",
       " \u001b[32m'Infiltration|Mass|Pneumonia'\u001b[0m \u001b[32m'Infiltration|Pneumonia|Pneumothorax'\u001b[0m\n",
       " \u001b[32m'Consolidation|Pneumonia'\u001b[0m \u001b[32m'Atelectasis|Consolidation|Pneumonia'\u001b[0m\n",
       " \u001b[32m'Edema|Infiltration|Pleural_Thickening|Pneumonia'\u001b[0m\n",
       " \u001b[32m'Edema|Infiltration|Mass|Pneumonia'\u001b[0m\n",
       " \u001b[32m'Effusion|Fibrosis|Infiltration|Pleural_Thickening|Pneumonia'\u001b[0m\n",
       " \u001b[32m'Atelectasis|Consolidation|Mass|Pneumonia'\u001b[0m \u001b[32m'Atelectasis|Mass|Pneumonia'\u001b[0m\n",
       " \u001b[32m'Atelectasis|Infiltration|Pleural_Thickening|Pneumonia'\u001b[0m\n",
       " \u001b[32m'Atelectasis|Edema|Effusion|Infiltration|Pneumonia'\u001b[0m\n",
       " \u001b[32m'Consolidation|Effusion|Infiltration|Mass|Nodule|Pleural_Thickening|Pneumonia'\u001b[0m\n",
       " \u001b[32m'Cardiomegaly|Consolidation|Pneumonia'\u001b[0m \u001b[32m'Cardiomegaly|Effusion|Pneumonia'\u001b[0m\n",
       " \u001b[32m'Atelectasis|Infiltration|Mass|Pneumonia'\u001b[0m\n",
       " \u001b[32m'Atelectasis|Emphysema|Pneumonia'\u001b[0m\n",
       " \u001b[32m'Effusion|Infiltration|Mass|Nodule|Pneumonia'\u001b[0m\n",
       " \u001b[32m'Atelectasis|Edema|Infiltration|Pneumonia'\u001b[0m \u001b[32m'Pneumonia|Pneumothorax'\u001b[0m\n",
       " \u001b[32m'Atelectasis|Effusion|Pneumonia|Pneumothorax'\u001b[0m\n",
       " \u001b[32m'Consolidation|Effusion|Mass|Pneumonia'\u001b[0m \u001b[32m'Edema|Nodule|Pneumonia'\u001b[0m\n",
       " \u001b[32m'Effusion|Mass|Pneumonia|Pneumothorax'\u001b[0m \u001b[32m'Consolidation|Effusion|Pneumonia'\u001b[0m\n",
       " \u001b[32m'Atelectasis|Consolidation|Infiltration|Mass|Pneumonia'\u001b[0m\n",
       " \u001b[32m'Consolidation|Edema|Infiltration|Pneumonia'\u001b[0m\n",
       " \u001b[32m'Cardiomegaly|Effusion|Infiltration|Mass|Pneumonia'\u001b[0m\n",
       " \u001b[32m'Edema|Infiltration|Nodule|Pneumonia'\u001b[0m\n",
       " \u001b[32m'Effusion|Infiltration|Mass|Pneumonia'\u001b[0m\n",
       " \u001b[32m'Cardiomegaly|Edema|Effusion|Infiltration|Mass|Pleural_Thickening|Pneumonia'\u001b[0m\n",
       " \u001b[32m'Atelectasis|Consolidation|Edema|Pneumonia'\u001b[0m\n",
       " \u001b[32m'Edema|Infiltration|Pneumonia|Pneumothorax'\u001b[0m\n",
       " \u001b[32m'Consolidation|Mass|Nodule|Pneumonia'\u001b[0m\n",
       " \u001b[32m'Consolidation|Infiltration|Nodule|Pneumonia'\u001b[0m\n",
       " \u001b[32m'Atelectasis|Cardiomegaly|Edema|Effusion|Infiltration|Nodule|Pneumonia'\u001b[0m\n",
       " \u001b[32m'Atelectasis|Consolidation|Edema|Effusion|Infiltration|Mass|Nodule|Pleural_Thickening|Pneumonia'\u001b[0m\n",
       " \u001b[32m'Effusion|Mass|Pneumonia'\u001b[0m \u001b[32m'Effusion|Emphysema|Infiltration|Pneumonia'\u001b[0m\n",
       " \u001b[32m'Edema|Emphysema|Infiltration|Pneumonia'\u001b[0m\n",
       " \u001b[32m'Cardiomegaly|Infiltration|Pneumonia'\u001b[0m\n",
       " \u001b[32m'Effusion|Infiltration|Nodule|Pneumonia'\u001b[0m \u001b[32m'Atelectasis|Edema|Pneumonia'\u001b[0m\n",
       " \u001b[32m'Emphysema|Pneumonia|Pneumothorax'\u001b[0m\n",
       " \u001b[32m'Atelectasis|Effusion|Infiltration|Pneumonia|Pneumothorax'\u001b[0m\n",
       " \u001b[32m'Effusion|Infiltration|Mass|Pleural_Thickening|Pneumonia'\u001b[0m\n",
       " \u001b[32m'Consolidation|Nodule|Pneumonia'\u001b[0m\n",
       " \u001b[32m'Atelectasis|Consolidation|Effusion|Pneumonia'\u001b[0m\u001b[1m]\u001b[0m\n"
      ]
     },
     "metadata": {},
     "output_type": "display_data"
    },
    {
     "data": {
      "text/html": [
       "<pre style=\"white-space:pre;overflow-x:auto;line-height:normal;font-family:Menlo,'DejaVu Sans Mono',consolas,'Courier New',monospace\"><span style=\"color: #008080; text-decoration-color: #008080; font-weight: bold\">87</span>\n",
       "</pre>\n"
      ],
      "text/plain": [
       "\u001b[1;36m87\u001b[0m\n"
      ]
     },
     "metadata": {},
     "output_type": "display_data"
    },
    {
     "data": {
      "text/html": [
       "<pre style=\"white-space:pre;overflow-x:auto;line-height:normal;font-family:Menlo,'DejaVu Sans Mono',consolas,'Courier New',monospace\">Finding Labels\n",
       "No Finding                                           <span style=\"color: #008080; text-decoration-color: #008080; font-weight: bold\">50500</span>\n",
       "Pneumonia                                              <span style=\"color: #008080; text-decoration-color: #008080; font-weight: bold\">234</span>\n",
       "Infiltration|Pneumonia                                 <span style=\"color: #008080; text-decoration-color: #008080; font-weight: bold\">127</span>\n",
       "Atelectasis|Pneumonia                                   <span style=\"color: #008080; text-decoration-color: #008080; font-weight: bold\">82</span>\n",
       "Edema|Infiltration|Pneumonia                            <span style=\"color: #008080; text-decoration-color: #008080; font-weight: bold\">68</span>\n",
       "                                                     <span style=\"color: #808000; text-decoration-color: #808000\">...</span>  \n",
       "Effusion|Infiltration|Mass|Nodule|Pneumonia              <span style=\"color: #008080; text-decoration-color: #008080; font-weight: bold\">1</span>\n",
       "Pneumonia|Pneumothorax                                   <span style=\"color: #008080; text-decoration-color: #008080; font-weight: bold\">1</span>\n",
       "Effusion|Mass|Pneumonia|Pneumothorax                     <span style=\"color: #008080; text-decoration-color: #008080; font-weight: bold\">1</span>\n",
       "Cardiomegaly|Effusion|Infiltration|Mass|Pneumonia        <span style=\"color: #008080; text-decoration-color: #008080; font-weight: bold\">1</span>\n",
       "Atelectasis|Consolidation|Effusion|Pneumonia             <span style=\"color: #008080; text-decoration-color: #008080; font-weight: bold\">1</span>\n",
       "Name: count, Length: <span style=\"color: #008080; text-decoration-color: #008080; font-weight: bold\">87</span>, dtype: int64\n",
       "</pre>\n"
      ],
      "text/plain": [
       "Finding Labels\n",
       "No Finding                                           \u001b[1;36m50500\u001b[0m\n",
       "Pneumonia                                              \u001b[1;36m234\u001b[0m\n",
       "Infiltration|Pneumonia                                 \u001b[1;36m127\u001b[0m\n",
       "Atelectasis|Pneumonia                                   \u001b[1;36m82\u001b[0m\n",
       "Edema|Infiltration|Pneumonia                            \u001b[1;36m68\u001b[0m\n",
       "                                                     \u001b[33m...\u001b[0m  \n",
       "Effusion|Infiltration|Mass|Nodule|Pneumonia              \u001b[1;36m1\u001b[0m\n",
       "Pneumonia|Pneumothorax                                   \u001b[1;36m1\u001b[0m\n",
       "Effusion|Mass|Pneumonia|Pneumothorax                     \u001b[1;36m1\u001b[0m\n",
       "Cardiomegaly|Effusion|Infiltration|Mass|Pneumonia        \u001b[1;36m1\u001b[0m\n",
       "Atelectasis|Consolidation|Effusion|Pneumonia             \u001b[1;36m1\u001b[0m\n",
       "Name: count, Length: \u001b[1;36m87\u001b[0m, dtype: int64\n"
      ]
     },
     "metadata": {},
     "output_type": "display_data"
    }
   ],
   "source": [
    "# unique\n",
    "from rtk.utils import get_console\n",
    "\n",
    "console = get_console()\n",
    "\n",
    "console.print(\"Train dataset description:\")\n",
    "console.print(train_df[target].unique())\n",
    "console.print(train_df[target].nunique())\n",
    "console.print(train_df[target].value_counts())"
   ]
  },
  {
   "cell_type": "markdown",
   "metadata": {},
   "source": [
    "## Pneumonia to metaclass"
   ]
  },
  {
   "cell_type": "code",
   "execution_count": 112,
   "metadata": {},
   "outputs": [
    {
     "data": {
      "text/html": [
       "<pre style=\"white-space:pre;overflow-x:auto;line-height:normal;font-family:Menlo,'DejaVu Sans Mono',consolas,'Courier New',monospace\">Transforming labels to metaclass<span style=\"color: #808000; text-decoration-color: #808000\">...</span>\n",
       "</pre>\n"
      ],
      "text/plain": [
       "Transforming labels to metaclass\u001b[33m...\u001b[0m\n"
      ]
     },
     "metadata": {},
     "output_type": "display_data"
    },
    {
     "data": {
      "text/html": [
       "<pre style=\"white-space:pre;overflow-x:auto;line-height:normal;font-family:Menlo,'DejaVu Sans Mono',consolas,'Courier New',monospace\">Labels transformed.\n",
       "\n",
       "</pre>\n"
      ],
      "text/plain": [
       "Labels transformed.\n",
       "\n"
      ]
     },
     "metadata": {},
     "output_type": "display_data"
    },
    {
     "data": {
      "text/html": [
       "<pre style=\"white-space:pre;overflow-x:auto;line-height:normal;font-family:Menlo,'DejaVu Sans Mono',consolas,'Courier New',monospace\">Dataframe:\n",
       "\n",
       "                 Finding Labels  Follow-up #  Patient ID  Patient Age  \\\n",
       "Image Index                                                             \n",
       "00000002_000.png     No Finding            <span style=\"color: #008080; text-decoration-color: #008080; font-weight: bold\">0</span>           <span style=\"color: #008080; text-decoration-color: #008080; font-weight: bold\">2</span>           <span style=\"color: #008080; text-decoration-color: #008080; font-weight: bold\">81</span>   \n",
       "00000005_000.png     No Finding            <span style=\"color: #008080; text-decoration-color: #008080; font-weight: bold\">0</span>           <span style=\"color: #008080; text-decoration-color: #008080; font-weight: bold\">5</span>           <span style=\"color: #008080; text-decoration-color: #008080; font-weight: bold\">69</span>   \n",
       "00000005_001.png     No Finding            <span style=\"color: #008080; text-decoration-color: #008080; font-weight: bold\">1</span>           <span style=\"color: #008080; text-decoration-color: #008080; font-weight: bold\">5</span>           <span style=\"color: #008080; text-decoration-color: #008080; font-weight: bold\">69</span>   \n",
       "00000005_002.png     No Finding            <span style=\"color: #008080; text-decoration-color: #008080; font-weight: bold\">2</span>           <span style=\"color: #008080; text-decoration-color: #008080; font-weight: bold\">5</span>           <span style=\"color: #008080; text-decoration-color: #008080; font-weight: bold\">69</span>   \n",
       "00000005_003.png     No Finding            <span style=\"color: #008080; text-decoration-color: #008080; font-weight: bold\">3</span>           <span style=\"color: #008080; text-decoration-color: #008080; font-weight: bold\">5</span>           <span style=\"color: #008080; text-decoration-color: #008080; font-weight: bold\">69</span>   \n",
       "\n",
       "                 Patient Gender View Position  OriginalImage<span style=\"font-weight: bold\">[</span>Width  Height<span style=\"font-weight: bold\">]</span>  \\\n",
       "Image Index                                                                   \n",
       "00000002_000.png              M            PA                 <span style=\"color: #008080; text-decoration-color: #008080; font-weight: bold\">2500</span>     <span style=\"color: #008080; text-decoration-color: #008080; font-weight: bold\">2048</span>   \n",
       "00000005_000.png              F            PA                 <span style=\"color: #008080; text-decoration-color: #008080; font-weight: bold\">2048</span>     <span style=\"color: #008080; text-decoration-color: #008080; font-weight: bold\">2500</span>   \n",
       "00000005_001.png              F            AP                 <span style=\"color: #008080; text-decoration-color: #008080; font-weight: bold\">2500</span>     <span style=\"color: #008080; text-decoration-color: #008080; font-weight: bold\">2048</span>   \n",
       "00000005_002.png              F            AP                 <span style=\"color: #008080; text-decoration-color: #008080; font-weight: bold\">2500</span>     <span style=\"color: #008080; text-decoration-color: #008080; font-weight: bold\">2048</span>   \n",
       "00000005_003.png              F            PA                 <span style=\"color: #008080; text-decoration-color: #008080; font-weight: bold\">2992</span>     <span style=\"color: #008080; text-decoration-color: #008080; font-weight: bold\">2991</span>   \n",
       "\n",
       "                  OriginalImagePixelSpacing  Unnamed: <span style=\"color: #008080; text-decoration-color: #008080; font-weight: bold\">11</span>  \\\n",
       "Image Index                                                         \n",
       "00000002_000.png                        <span style=\"color: #008080; text-decoration-color: #008080; font-weight: bold\">0.171</span>  <span style=\"color: #008080; text-decoration-color: #008080; font-weight: bold\">0.171</span>          NaN   \n",
       "00000005_000.png                        <span style=\"color: #008080; text-decoration-color: #008080; font-weight: bold\">0.168</span>  <span style=\"color: #008080; text-decoration-color: #008080; font-weight: bold\">0.168</span>          NaN   \n",
       "00000005_001.png                        <span style=\"color: #008080; text-decoration-color: #008080; font-weight: bold\">0.168</span>  <span style=\"color: #008080; text-decoration-color: #008080; font-weight: bold\">0.168</span>          NaN   \n",
       "00000005_002.png                        <span style=\"color: #008080; text-decoration-color: #008080; font-weight: bold\">0.168</span>  <span style=\"color: #008080; text-decoration-color: #008080; font-weight: bold\">0.168</span>          NaN   \n",
       "00000005_003.png                        <span style=\"color: #008080; text-decoration-color: #008080; font-weight: bold\">0.143</span>  <span style=\"color: #008080; text-decoration-color: #008080; font-weight: bold\">0.143</span>          NaN   \n",
       "\n",
       "                                                        image_files  \n",
       "Image Index                                                          \n",
       "00000002_000.png  <span style=\"color: #800080; text-decoration-color: #800080\">/home/nicoleg/workspaces/teddytoolkit/.data/</span><span style=\"color: #ff00ff; text-decoration-color: #ff00ff\">Ch...</span>  \n",
       "00000005_000.png  <span style=\"color: #800080; text-decoration-color: #800080\">/home/nicoleg/workspaces/teddytoolkit/.data/</span><span style=\"color: #ff00ff; text-decoration-color: #ff00ff\">Ch...</span>  \n",
       "00000005_001.png  <span style=\"color: #800080; text-decoration-color: #800080\">/home/nicoleg/workspaces/teddytoolkit/.data/</span><span style=\"color: #ff00ff; text-decoration-color: #ff00ff\">Ch...</span>  \n",
       "00000005_002.png  <span style=\"color: #800080; text-decoration-color: #800080\">/home/nicoleg/workspaces/teddytoolkit/.data/</span><span style=\"color: #ff00ff; text-decoration-color: #ff00ff\">Ch...</span>  \n",
       "00000005_003.png  <span style=\"color: #800080; text-decoration-color: #800080\">/home/nicoleg/workspaces/teddytoolkit/.data/</span><span style=\"color: #ff00ff; text-decoration-color: #ff00ff\">Ch...</span>  \n",
       "\n",
       "</pre>\n"
      ],
      "text/plain": [
       "Dataframe:\n",
       "\n",
       "                 Finding Labels  Follow-up #  Patient ID  Patient Age  \\\n",
       "Image Index                                                             \n",
       "00000002_000.png     No Finding            \u001b[1;36m0\u001b[0m           \u001b[1;36m2\u001b[0m           \u001b[1;36m81\u001b[0m   \n",
       "00000005_000.png     No Finding            \u001b[1;36m0\u001b[0m           \u001b[1;36m5\u001b[0m           \u001b[1;36m69\u001b[0m   \n",
       "00000005_001.png     No Finding            \u001b[1;36m1\u001b[0m           \u001b[1;36m5\u001b[0m           \u001b[1;36m69\u001b[0m   \n",
       "00000005_002.png     No Finding            \u001b[1;36m2\u001b[0m           \u001b[1;36m5\u001b[0m           \u001b[1;36m69\u001b[0m   \n",
       "00000005_003.png     No Finding            \u001b[1;36m3\u001b[0m           \u001b[1;36m5\u001b[0m           \u001b[1;36m69\u001b[0m   \n",
       "\n",
       "                 Patient Gender View Position  OriginalImage\u001b[1m[\u001b[0mWidth  Height\u001b[1m]\u001b[0m  \\\n",
       "Image Index                                                                   \n",
       "00000002_000.png              M            PA                 \u001b[1;36m2500\u001b[0m     \u001b[1;36m2048\u001b[0m   \n",
       "00000005_000.png              F            PA                 \u001b[1;36m2048\u001b[0m     \u001b[1;36m2500\u001b[0m   \n",
       "00000005_001.png              F            AP                 \u001b[1;36m2500\u001b[0m     \u001b[1;36m2048\u001b[0m   \n",
       "00000005_002.png              F            AP                 \u001b[1;36m2500\u001b[0m     \u001b[1;36m2048\u001b[0m   \n",
       "00000005_003.png              F            PA                 \u001b[1;36m2992\u001b[0m     \u001b[1;36m2991\u001b[0m   \n",
       "\n",
       "                  OriginalImagePixelSpacing  Unnamed: \u001b[1;36m11\u001b[0m  \\\n",
       "Image Index                                                         \n",
       "00000002_000.png                        \u001b[1;36m0.171\u001b[0m  \u001b[1;36m0.171\u001b[0m          NaN   \n",
       "00000005_000.png                        \u001b[1;36m0.168\u001b[0m  \u001b[1;36m0.168\u001b[0m          NaN   \n",
       "00000005_001.png                        \u001b[1;36m0.168\u001b[0m  \u001b[1;36m0.168\u001b[0m          NaN   \n",
       "00000005_002.png                        \u001b[1;36m0.168\u001b[0m  \u001b[1;36m0.168\u001b[0m          NaN   \n",
       "00000005_003.png                        \u001b[1;36m0.143\u001b[0m  \u001b[1;36m0.143\u001b[0m          NaN   \n",
       "\n",
       "                                                        image_files  \n",
       "Image Index                                                          \n",
       "00000002_000.png  \u001b[35m/home/nicoleg/workspaces/teddytoolkit/.data/\u001b[0m\u001b[95mCh...\u001b[0m  \n",
       "00000005_000.png  \u001b[35m/home/nicoleg/workspaces/teddytoolkit/.data/\u001b[0m\u001b[95mCh...\u001b[0m  \n",
       "00000005_001.png  \u001b[35m/home/nicoleg/workspaces/teddytoolkit/.data/\u001b[0m\u001b[95mCh...\u001b[0m  \n",
       "00000005_002.png  \u001b[35m/home/nicoleg/workspaces/teddytoolkit/.data/\u001b[0m\u001b[95mCh...\u001b[0m  \n",
       "00000005_003.png  \u001b[35m/home/nicoleg/workspaces/teddytoolkit/.data/\u001b[0m\u001b[95mCh...\u001b[0m  \n",
       "\n"
      ]
     },
     "metadata": {},
     "output_type": "display_data"
    },
    {
     "data": {
      "text/html": [
       "<pre style=\"white-space:pre;overflow-x:auto;line-height:normal;font-family:Menlo,'DejaVu Sans Mono',consolas,'Courier New',monospace\">Labels transformed. New class counts:\n",
       "<span style=\"font-weight: bold\">{</span><span style=\"color: #008000; text-decoration-color: #008000\">'No Finding'</span>: <span style=\"color: #008080; text-decoration-color: #008080; font-weight: bold\">50500</span>, <span style=\"color: #008000; text-decoration-color: #008000\">'Pneumonia'</span>: <span style=\"color: #008080; text-decoration-color: #008080; font-weight: bold\">876</span><span style=\"font-weight: bold\">}</span>.\n",
       "\n",
       "</pre>\n"
      ],
      "text/plain": [
       "Labels transformed. New class counts:\n",
       "\u001b[1m{\u001b[0m\u001b[32m'No Finding'\u001b[0m: \u001b[1;36m50500\u001b[0m, \u001b[32m'Pneumonia'\u001b[0m: \u001b[1;36m876\u001b[0m\u001b[1m}\u001b[0m.\n",
       "\n"
      ]
     },
     "metadata": {},
     "output_type": "display_data"
    },
    {
     "data": {
      "text/html": [
       "<pre style=\"white-space:pre;overflow-x:auto;line-height:normal;font-family:Menlo,'DejaVu Sans Mono',consolas,'Courier New',monospace\"></pre>\n"
      ],
      "text/plain": []
     },
     "metadata": {},
     "output_type": "display_data"
    },
    {
     "data": {
      "text/html": [
       "<div>\n",
       "<style scoped>\n",
       "    .dataframe tbody tr th:only-of-type {\n",
       "        vertical-align: middle;\n",
       "    }\n",
       "\n",
       "    .dataframe tbody tr th {\n",
       "        vertical-align: top;\n",
       "    }\n",
       "\n",
       "    .dataframe thead th {\n",
       "        text-align: right;\n",
       "    }\n",
       "</style>\n",
       "<table border=\"1\" class=\"dataframe\">\n",
       "  <thead>\n",
       "    <tr style=\"text-align: right;\">\n",
       "      <th></th>\n",
       "      <th>Finding Labels</th>\n",
       "      <th>Follow-up #</th>\n",
       "      <th>Patient ID</th>\n",
       "      <th>Patient Age</th>\n",
       "      <th>Patient Gender</th>\n",
       "      <th>View Position</th>\n",
       "      <th>OriginalImage[Width</th>\n",
       "      <th>Height]</th>\n",
       "      <th>OriginalImagePixelSpacing[x</th>\n",
       "      <th>y]</th>\n",
       "      <th>Unnamed: 11</th>\n",
       "      <th>image_files</th>\n",
       "    </tr>\n",
       "    <tr>\n",
       "      <th>Image Index</th>\n",
       "      <th></th>\n",
       "      <th></th>\n",
       "      <th></th>\n",
       "      <th></th>\n",
       "      <th></th>\n",
       "      <th></th>\n",
       "      <th></th>\n",
       "      <th></th>\n",
       "      <th></th>\n",
       "      <th></th>\n",
       "      <th></th>\n",
       "      <th></th>\n",
       "    </tr>\n",
       "  </thead>\n",
       "  <tbody>\n",
       "    <tr>\n",
       "      <th>00000002_000.png</th>\n",
       "      <td>No Finding</td>\n",
       "      <td>0</td>\n",
       "      <td>2</td>\n",
       "      <td>81</td>\n",
       "      <td>M</td>\n",
       "      <td>PA</td>\n",
       "      <td>2500</td>\n",
       "      <td>2048</td>\n",
       "      <td>0.171</td>\n",
       "      <td>0.171</td>\n",
       "      <td>NaN</td>\n",
       "      <td>/home/nicoleg/workspaces/teddytoolkit/.data/Ch...</td>\n",
       "    </tr>\n",
       "    <tr>\n",
       "      <th>00000005_000.png</th>\n",
       "      <td>No Finding</td>\n",
       "      <td>0</td>\n",
       "      <td>5</td>\n",
       "      <td>69</td>\n",
       "      <td>F</td>\n",
       "      <td>PA</td>\n",
       "      <td>2048</td>\n",
       "      <td>2500</td>\n",
       "      <td>0.168</td>\n",
       "      <td>0.168</td>\n",
       "      <td>NaN</td>\n",
       "      <td>/home/nicoleg/workspaces/teddytoolkit/.data/Ch...</td>\n",
       "    </tr>\n",
       "    <tr>\n",
       "      <th>00000005_001.png</th>\n",
       "      <td>No Finding</td>\n",
       "      <td>1</td>\n",
       "      <td>5</td>\n",
       "      <td>69</td>\n",
       "      <td>F</td>\n",
       "      <td>AP</td>\n",
       "      <td>2500</td>\n",
       "      <td>2048</td>\n",
       "      <td>0.168</td>\n",
       "      <td>0.168</td>\n",
       "      <td>NaN</td>\n",
       "      <td>/home/nicoleg/workspaces/teddytoolkit/.data/Ch...</td>\n",
       "    </tr>\n",
       "    <tr>\n",
       "      <th>00000005_002.png</th>\n",
       "      <td>No Finding</td>\n",
       "      <td>2</td>\n",
       "      <td>5</td>\n",
       "      <td>69</td>\n",
       "      <td>F</td>\n",
       "      <td>AP</td>\n",
       "      <td>2500</td>\n",
       "      <td>2048</td>\n",
       "      <td>0.168</td>\n",
       "      <td>0.168</td>\n",
       "      <td>NaN</td>\n",
       "      <td>/home/nicoleg/workspaces/teddytoolkit/.data/Ch...</td>\n",
       "    </tr>\n",
       "    <tr>\n",
       "      <th>00000005_003.png</th>\n",
       "      <td>No Finding</td>\n",
       "      <td>3</td>\n",
       "      <td>5</td>\n",
       "      <td>69</td>\n",
       "      <td>F</td>\n",
       "      <td>PA</td>\n",
       "      <td>2992</td>\n",
       "      <td>2991</td>\n",
       "      <td>0.143</td>\n",
       "      <td>0.143</td>\n",
       "      <td>NaN</td>\n",
       "      <td>/home/nicoleg/workspaces/teddytoolkit/.data/Ch...</td>\n",
       "    </tr>\n",
       "  </tbody>\n",
       "</table>\n",
       "</div>"
      ],
      "text/plain": [
       "\n",
       "                 Finding Labels  Follow-up #  Patient ID  Patient Age  \\\n",
       "Image Index                                                             \n",
       "00000002_000.png     No Finding            \u001b[1;36m0\u001b[0m           \u001b[1;36m2\u001b[0m           \u001b[1;36m81\u001b[0m   \n",
       "00000005_000.png     No Finding            \u001b[1;36m0\u001b[0m           \u001b[1;36m5\u001b[0m           \u001b[1;36m69\u001b[0m   \n",
       "00000005_001.png     No Finding            \u001b[1;36m1\u001b[0m           \u001b[1;36m5\u001b[0m           \u001b[1;36m69\u001b[0m   \n",
       "00000005_002.png     No Finding            \u001b[1;36m2\u001b[0m           \u001b[1;36m5\u001b[0m           \u001b[1;36m69\u001b[0m   \n",
       "00000005_003.png     No Finding            \u001b[1;36m3\u001b[0m           \u001b[1;36m5\u001b[0m           \u001b[1;36m69\u001b[0m   \n",
       "\n",
       "                 Patient Gender View Position  OriginalImage\u001b[1m[\u001b[0mWidth  Height\u001b[1m]\u001b[0m  \\\n",
       "Image Index                                                                   \n",
       "00000002_000.png              M            PA                 \u001b[1;36m2500\u001b[0m     \u001b[1;36m2048\u001b[0m   \n",
       "00000005_000.png              F            PA                 \u001b[1;36m2048\u001b[0m     \u001b[1;36m2500\u001b[0m   \n",
       "00000005_001.png              F            AP                 \u001b[1;36m2500\u001b[0m     \u001b[1;36m2048\u001b[0m   \n",
       "00000005_002.png              F            AP                 \u001b[1;36m2500\u001b[0m     \u001b[1;36m2048\u001b[0m   \n",
       "00000005_003.png              F            PA                 \u001b[1;36m2992\u001b[0m     \u001b[1;36m2991\u001b[0m   \n",
       "\n",
       "                  OriginalImagePixelSpacing\u001b[1m[\u001b[0mx     y\u001b[1m]\u001b[0m  Unnamed: \u001b[1;36m11\u001b[0m  \\\n",
       "Image Index                                                         \n",
       "00000002_000.png                        \u001b[1;36m0.171\u001b[0m  \u001b[1;36m0.171\u001b[0m          NaN   \n",
       "00000005_000.png                        \u001b[1;36m0.168\u001b[0m  \u001b[1;36m0.168\u001b[0m          NaN   \n",
       "00000005_001.png                        \u001b[1;36m0.168\u001b[0m  \u001b[1;36m0.168\u001b[0m          NaN   \n",
       "00000005_002.png                        \u001b[1;36m0.168\u001b[0m  \u001b[1;36m0.168\u001b[0m          NaN   \n",
       "00000005_003.png                        \u001b[1;36m0.143\u001b[0m  \u001b[1;36m0.143\u001b[0m          NaN   \n",
       "\n",
       "                                                        image_files  \n",
       "Image Index                                                          \n",
       "00000002_000.png  \u001b[35m/home/nicoleg/workspaces/teddytoolkit/.data/\u001b[0m\u001b[95mCh...\u001b[0m  \n",
       "00000005_000.png  \u001b[35m/home/nicoleg/workspaces/teddytoolkit/.data/\u001b[0m\u001b[95mCh...\u001b[0m  \n",
       "00000005_001.png  \u001b[35m/home/nicoleg/workspaces/teddytoolkit/.data/\u001b[0m\u001b[95mCh...\u001b[0m  \n",
       "00000005_002.png  \u001b[35m/home/nicoleg/workspaces/teddytoolkit/.data/\u001b[0m\u001b[95mCh...\u001b[0m  \n",
       "00000005_003.png  \u001b[35m/home/nicoleg/workspaces/teddytoolkit/.data/\u001b[0m\u001b[95mCh...\u001b[0m  "
      ]
     },
     "execution_count": 112,
     "metadata": {},
     "output_type": "execute_result"
    }
   ],
   "source": [
    "# {label: i for i, label in enumerate(dataset_cfg.labels)}\n",
    "def transform_labels_to_metaclass(df: pd.DataFrame, target_name: str, metaclass: dict):\n",
    "    \"\"\"\n",
    "    Transform the labels to the metaclass.\n",
    "    \"\"\"\n",
    "\n",
    "    def _transform_to_metaclass(x, metaclass: dict):\n",
    "        \"\"\"\n",
    "        Transform the label to the metaclass.\n",
    "        \"\"\"\n",
    "        for new_class, old_classes in metaclass.items():\n",
    "            if new_class in x:\n",
    "                return new_class\n",
    "        return x\n",
    "\n",
    "    console.print(\"Transforming labels to metaclass...\")\n",
    "    old_target_name = f\"old_{target_name}\"\n",
    "    df[old_target_name] = df[target_name]\n",
    "    df[target_name] = df[old_target_name].apply(\n",
    "        _transform_to_metaclass, args=(metaclass,)\n",
    "    )\n",
    "    console.print(\"Labels transformed.\\n\")\n",
    "    df.drop(columns=[old_target_name], inplace=True)\n",
    "    console.print(f\"Dataframe:\\n\\n{df.head()}\\n\")\n",
    "    classes = df[target_name].value_counts().to_dict()\n",
    "    console.print(f\"Labels transformed. New class counts:\\n{classes}.\\n\")\n",
    "\n",
    "    return df\n",
    "\n",
    "transform_labels_to_metaclass(deepcopy(train_df), target, dataset_cfg.encoding).head()\n"
   ]
  },
  {
   "cell_type": "code",
   "execution_count": 27,
   "metadata": {},
   "outputs": [
    {
     "data": {
      "text/html": [
       "<pre style=\"white-space:pre;overflow-x:auto;line-height:normal;font-family:Menlo,'DejaVu Sans Mono',consolas,'Courier New',monospace\">Test dataset description:\n",
       "</pre>\n"
      ],
      "text/plain": [
       "Test dataset description:\n"
      ]
     },
     "metadata": {},
     "output_type": "display_data"
    },
    {
     "data": {
      "text/html": [
       "<pre style=\"white-space:pre;overflow-x:auto;line-height:normal;font-family:Menlo,'DejaVu Sans Mono',consolas,'Courier New',monospace\"><span style=\"font-weight: bold\">[</span><span style=\"color: #008000; text-decoration-color: #008000\">'No Finding'</span> <span style=\"color: #008000; text-decoration-color: #008000\">'Pneumonia'</span><span style=\"font-weight: bold\">]</span>\n",
       "</pre>\n"
      ],
      "text/plain": [
       "\u001b[1m[\u001b[0m\u001b[32m'No Finding'\u001b[0m \u001b[32m'Pneumonia'\u001b[0m\u001b[1m]\u001b[0m\n"
      ]
     },
     "metadata": {},
     "output_type": "display_data"
    },
    {
     "data": {
      "text/html": [
       "<pre style=\"white-space:pre;overflow-x:auto;line-height:normal;font-family:Menlo,'DejaVu Sans Mono',consolas,'Courier New',monospace\">Finding Labels\n",
       "No Finding    <span style=\"color: #008080; text-decoration-color: #008080; font-weight: bold\">9861</span>\n",
       "Pneumonia       <span style=\"color: #008080; text-decoration-color: #008080; font-weight: bold\">88</span>\n",
       "Name: count, dtype: int64\n",
       "</pre>\n"
      ],
      "text/plain": [
       "Finding Labels\n",
       "No Finding    \u001b[1;36m9861\u001b[0m\n",
       "Pneumonia       \u001b[1;36m88\u001b[0m\n",
       "Name: count, dtype: int64\n"
      ]
     },
     "metadata": {},
     "output_type": "display_data"
    }
   ],
   "source": [
    "console.print(\"Test dataset description:\")\n",
    "console.print(test_df[target].unique())\n",
    "console.print(test_df[target].value_counts())"
   ]
  },
  {
   "cell_type": "code",
   "execution_count": 113,
   "metadata": {},
   "outputs": [
    {
     "data": {
      "text/html": [
       "<pre style=\"white-space:pre;overflow-x:auto;line-height:normal;font-family:Menlo,'DejaVu Sans Mono',consolas,'Courier New',monospace\">Transforming labels to metaclass<span style=\"color: #808000; text-decoration-color: #808000\">...</span>\n",
       "</pre>\n"
      ],
      "text/plain": [
       "Transforming labels to metaclass\u001b[33m...\u001b[0m\n"
      ]
     },
     "metadata": {},
     "output_type": "display_data"
    },
    {
     "data": {
      "text/html": [
       "<pre style=\"white-space:pre;overflow-x:auto;line-height:normal;font-family:Menlo,'DejaVu Sans Mono',consolas,'Courier New',monospace\">Labels transformed.\n",
       "\n",
       "</pre>\n"
      ],
      "text/plain": [
       "Labels transformed.\n",
       "\n"
      ]
     },
     "metadata": {},
     "output_type": "display_data"
    },
    {
     "data": {
      "text/html": [
       "<pre style=\"white-space:pre;overflow-x:auto;line-height:normal;font-family:Menlo,'DejaVu Sans Mono',consolas,'Courier New',monospace\">Dataframe:\n",
       "\n",
       "                 Finding Labels  Follow-up #  Patient ID  Patient Age  \\\n",
       "Image Index                                                             \n",
       "00000013_000.png     No Finding            <span style=\"color: #008080; text-decoration-color: #008080; font-weight: bold\">0</span>          <span style=\"color: #008080; text-decoration-color: #008080; font-weight: bold\">13</span>           <span style=\"color: #008080; text-decoration-color: #008080; font-weight: bold\">61</span>   \n",
       "00000013_008.png     No Finding            <span style=\"color: #008080; text-decoration-color: #008080; font-weight: bold\">8</span>          <span style=\"color: #008080; text-decoration-color: #008080; font-weight: bold\">13</span>           <span style=\"color: #008080; text-decoration-color: #008080; font-weight: bold\">60</span>   \n",
       "00000013_010.png      Pneumonia           <span style=\"color: #008080; text-decoration-color: #008080; font-weight: bold\">10</span>          <span style=\"color: #008080; text-decoration-color: #008080; font-weight: bold\">13</span>           <span style=\"color: #008080; text-decoration-color: #008080; font-weight: bold\">60</span>   \n",
       "00000013_014.png     No Finding           <span style=\"color: #008080; text-decoration-color: #008080; font-weight: bold\">14</span>          <span style=\"color: #008080; text-decoration-color: #008080; font-weight: bold\">13</span>           <span style=\"color: #008080; text-decoration-color: #008080; font-weight: bold\">61</span>   \n",
       "00000013_015.png     No Finding           <span style=\"color: #008080; text-decoration-color: #008080; font-weight: bold\">15</span>          <span style=\"color: #008080; text-decoration-color: #008080; font-weight: bold\">13</span>           <span style=\"color: #008080; text-decoration-color: #008080; font-weight: bold\">61</span>   \n",
       "\n",
       "                 Patient Gender View Position  OriginalImage<span style=\"font-weight: bold\">[</span>Width  Height<span style=\"font-weight: bold\">]</span>  \\\n",
       "Image Index                                                                   \n",
       "00000013_000.png              M            PA                 <span style=\"color: #008080; text-decoration-color: #008080; font-weight: bold\">2021</span>     <span style=\"color: #008080; text-decoration-color: #008080; font-weight: bold\">2021</span>   \n",
       "00000013_008.png              M            AP                 <span style=\"color: #008080; text-decoration-color: #008080; font-weight: bold\">3056</span>     <span style=\"color: #008080; text-decoration-color: #008080; font-weight: bold\">2544</span>   \n",
       "00000013_010.png              M            AP                 <span style=\"color: #008080; text-decoration-color: #008080; font-weight: bold\">3056</span>     <span style=\"color: #008080; text-decoration-color: #008080; font-weight: bold\">2544</span>   \n",
       "00000013_014.png              M            PA                 <span style=\"color: #008080; text-decoration-color: #008080; font-weight: bold\">2021</span>     <span style=\"color: #008080; text-decoration-color: #008080; font-weight: bold\">2021</span>   \n",
       "00000013_015.png              M            PA                 <span style=\"color: #008080; text-decoration-color: #008080; font-weight: bold\">2020</span>     <span style=\"color: #008080; text-decoration-color: #008080; font-weight: bold\">2021</span>   \n",
       "\n",
       "                  OriginalImagePixelSpacing  Unnamed: <span style=\"color: #008080; text-decoration-color: #008080; font-weight: bold\">11</span>  \\\n",
       "Image Index                                                            \n",
       "00000013_000.png                     <span style=\"color: #008080; text-decoration-color: #008080; font-weight: bold\">0.194311</span>  <span style=\"color: #008080; text-decoration-color: #008080; font-weight: bold\">0.194311</span>          NaN   \n",
       "00000013_008.png                     <span style=\"color: #008080; text-decoration-color: #008080; font-weight: bold\">0.139000</span>  <span style=\"color: #008080; text-decoration-color: #008080; font-weight: bold\">0.139000</span>          NaN   \n",
       "00000013_010.png                     <span style=\"color: #008080; text-decoration-color: #008080; font-weight: bold\">0.139000</span>  <span style=\"color: #008080; text-decoration-color: #008080; font-weight: bold\">0.139000</span>          NaN   \n",
       "00000013_014.png                     <span style=\"color: #008080; text-decoration-color: #008080; font-weight: bold\">0.194311</span>  <span style=\"color: #008080; text-decoration-color: #008080; font-weight: bold\">0.194311</span>          NaN   \n",
       "00000013_015.png                     <span style=\"color: #008080; text-decoration-color: #008080; font-weight: bold\">0.194311</span>  <span style=\"color: #008080; text-decoration-color: #008080; font-weight: bold\">0.194311</span>          NaN   \n",
       "\n",
       "                                                        image_files  \n",
       "Image Index                                                          \n",
       "00000013_000.png  <span style=\"color: #800080; text-decoration-color: #800080\">/home/nicoleg/workspaces/teddytoolkit/.data/</span><span style=\"color: #ff00ff; text-decoration-color: #ff00ff\">Ch...</span>  \n",
       "00000013_008.png  <span style=\"color: #800080; text-decoration-color: #800080\">/home/nicoleg/workspaces/teddytoolkit/.data/</span><span style=\"color: #ff00ff; text-decoration-color: #ff00ff\">Ch...</span>  \n",
       "00000013_010.png  <span style=\"color: #800080; text-decoration-color: #800080\">/home/nicoleg/workspaces/teddytoolkit/.data/</span><span style=\"color: #ff00ff; text-decoration-color: #ff00ff\">Ch...</span>  \n",
       "00000013_014.png  <span style=\"color: #800080; text-decoration-color: #800080\">/home/nicoleg/workspaces/teddytoolkit/.data/</span><span style=\"color: #ff00ff; text-decoration-color: #ff00ff\">Ch...</span>  \n",
       "00000013_015.png  <span style=\"color: #800080; text-decoration-color: #800080\">/home/nicoleg/workspaces/teddytoolkit/.data/</span><span style=\"color: #ff00ff; text-decoration-color: #ff00ff\">Ch...</span>  \n",
       "\n",
       "</pre>\n"
      ],
      "text/plain": [
       "Dataframe:\n",
       "\n",
       "                 Finding Labels  Follow-up #  Patient ID  Patient Age  \\\n",
       "Image Index                                                             \n",
       "00000013_000.png     No Finding            \u001b[1;36m0\u001b[0m          \u001b[1;36m13\u001b[0m           \u001b[1;36m61\u001b[0m   \n",
       "00000013_008.png     No Finding            \u001b[1;36m8\u001b[0m          \u001b[1;36m13\u001b[0m           \u001b[1;36m60\u001b[0m   \n",
       "00000013_010.png      Pneumonia           \u001b[1;36m10\u001b[0m          \u001b[1;36m13\u001b[0m           \u001b[1;36m60\u001b[0m   \n",
       "00000013_014.png     No Finding           \u001b[1;36m14\u001b[0m          \u001b[1;36m13\u001b[0m           \u001b[1;36m61\u001b[0m   \n",
       "00000013_015.png     No Finding           \u001b[1;36m15\u001b[0m          \u001b[1;36m13\u001b[0m           \u001b[1;36m61\u001b[0m   \n",
       "\n",
       "                 Patient Gender View Position  OriginalImage\u001b[1m[\u001b[0mWidth  Height\u001b[1m]\u001b[0m  \\\n",
       "Image Index                                                                   \n",
       "00000013_000.png              M            PA                 \u001b[1;36m2021\u001b[0m     \u001b[1;36m2021\u001b[0m   \n",
       "00000013_008.png              M            AP                 \u001b[1;36m3056\u001b[0m     \u001b[1;36m2544\u001b[0m   \n",
       "00000013_010.png              M            AP                 \u001b[1;36m3056\u001b[0m     \u001b[1;36m2544\u001b[0m   \n",
       "00000013_014.png              M            PA                 \u001b[1;36m2021\u001b[0m     \u001b[1;36m2021\u001b[0m   \n",
       "00000013_015.png              M            PA                 \u001b[1;36m2020\u001b[0m     \u001b[1;36m2021\u001b[0m   \n",
       "\n",
       "                  OriginalImagePixelSpacing  Unnamed: \u001b[1;36m11\u001b[0m  \\\n",
       "Image Index                                                            \n",
       "00000013_000.png                     \u001b[1;36m0.194311\u001b[0m  \u001b[1;36m0.194311\u001b[0m          NaN   \n",
       "00000013_008.png                     \u001b[1;36m0.139000\u001b[0m  \u001b[1;36m0.139000\u001b[0m          NaN   \n",
       "00000013_010.png                     \u001b[1;36m0.139000\u001b[0m  \u001b[1;36m0.139000\u001b[0m          NaN   \n",
       "00000013_014.png                     \u001b[1;36m0.194311\u001b[0m  \u001b[1;36m0.194311\u001b[0m          NaN   \n",
       "00000013_015.png                     \u001b[1;36m0.194311\u001b[0m  \u001b[1;36m0.194311\u001b[0m          NaN   \n",
       "\n",
       "                                                        image_files  \n",
       "Image Index                                                          \n",
       "00000013_000.png  \u001b[35m/home/nicoleg/workspaces/teddytoolkit/.data/\u001b[0m\u001b[95mCh...\u001b[0m  \n",
       "00000013_008.png  \u001b[35m/home/nicoleg/workspaces/teddytoolkit/.data/\u001b[0m\u001b[95mCh...\u001b[0m  \n",
       "00000013_010.png  \u001b[35m/home/nicoleg/workspaces/teddytoolkit/.data/\u001b[0m\u001b[95mCh...\u001b[0m  \n",
       "00000013_014.png  \u001b[35m/home/nicoleg/workspaces/teddytoolkit/.data/\u001b[0m\u001b[95mCh...\u001b[0m  \n",
       "00000013_015.png  \u001b[35m/home/nicoleg/workspaces/teddytoolkit/.data/\u001b[0m\u001b[95mCh...\u001b[0m  \n",
       "\n"
      ]
     },
     "metadata": {},
     "output_type": "display_data"
    },
    {
     "data": {
      "text/html": [
       "<pre style=\"white-space:pre;overflow-x:auto;line-height:normal;font-family:Menlo,'DejaVu Sans Mono',consolas,'Courier New',monospace\">Labels transformed. New class counts:\n",
       "<span style=\"font-weight: bold\">{</span><span style=\"color: #008000; text-decoration-color: #008000\">'No Finding'</span>: <span style=\"color: #008080; text-decoration-color: #008080; font-weight: bold\">9861</span>, <span style=\"color: #008000; text-decoration-color: #008000\">'Pneumonia'</span>: <span style=\"color: #008080; text-decoration-color: #008080; font-weight: bold\">555</span><span style=\"font-weight: bold\">}</span>.\n",
       "\n",
       "</pre>\n"
      ],
      "text/plain": [
       "Labels transformed. New class counts:\n",
       "\u001b[1m{\u001b[0m\u001b[32m'No Finding'\u001b[0m: \u001b[1;36m9861\u001b[0m, \u001b[32m'Pneumonia'\u001b[0m: \u001b[1;36m555\u001b[0m\u001b[1m}\u001b[0m.\n",
       "\n"
      ]
     },
     "metadata": {},
     "output_type": "display_data"
    },
    {
     "data": {
      "text/html": [
       "<pre style=\"white-space:pre;overflow-x:auto;line-height:normal;font-family:Menlo,'DejaVu Sans Mono',consolas,'Courier New',monospace\"></pre>\n"
      ],
      "text/plain": []
     },
     "metadata": {},
     "output_type": "display_data"
    },
    {
     "data": {
      "text/html": [
       "<div>\n",
       "<style scoped>\n",
       "    .dataframe tbody tr th:only-of-type {\n",
       "        vertical-align: middle;\n",
       "    }\n",
       "\n",
       "    .dataframe tbody tr th {\n",
       "        vertical-align: top;\n",
       "    }\n",
       "\n",
       "    .dataframe thead th {\n",
       "        text-align: right;\n",
       "    }\n",
       "</style>\n",
       "<table border=\"1\" class=\"dataframe\">\n",
       "  <thead>\n",
       "    <tr style=\"text-align: right;\">\n",
       "      <th></th>\n",
       "      <th>Finding Labels</th>\n",
       "      <th>Follow-up #</th>\n",
       "      <th>Patient ID</th>\n",
       "      <th>Patient Age</th>\n",
       "      <th>Patient Gender</th>\n",
       "      <th>View Position</th>\n",
       "      <th>OriginalImage[Width</th>\n",
       "      <th>Height]</th>\n",
       "      <th>OriginalImagePixelSpacing[x</th>\n",
       "      <th>y]</th>\n",
       "      <th>Unnamed: 11</th>\n",
       "      <th>image_files</th>\n",
       "    </tr>\n",
       "    <tr>\n",
       "      <th>Image Index</th>\n",
       "      <th></th>\n",
       "      <th></th>\n",
       "      <th></th>\n",
       "      <th></th>\n",
       "      <th></th>\n",
       "      <th></th>\n",
       "      <th></th>\n",
       "      <th></th>\n",
       "      <th></th>\n",
       "      <th></th>\n",
       "      <th></th>\n",
       "      <th></th>\n",
       "    </tr>\n",
       "  </thead>\n",
       "  <tbody>\n",
       "    <tr>\n",
       "      <th>00000013_000.png</th>\n",
       "      <td>No Finding</td>\n",
       "      <td>0</td>\n",
       "      <td>13</td>\n",
       "      <td>61</td>\n",
       "      <td>M</td>\n",
       "      <td>PA</td>\n",
       "      <td>2021</td>\n",
       "      <td>2021</td>\n",
       "      <td>0.194311</td>\n",
       "      <td>0.194311</td>\n",
       "      <td>NaN</td>\n",
       "      <td>/home/nicoleg/workspaces/teddytoolkit/.data/Ch...</td>\n",
       "    </tr>\n",
       "    <tr>\n",
       "      <th>00000013_008.png</th>\n",
       "      <td>No Finding</td>\n",
       "      <td>8</td>\n",
       "      <td>13</td>\n",
       "      <td>60</td>\n",
       "      <td>M</td>\n",
       "      <td>AP</td>\n",
       "      <td>3056</td>\n",
       "      <td>2544</td>\n",
       "      <td>0.139000</td>\n",
       "      <td>0.139000</td>\n",
       "      <td>NaN</td>\n",
       "      <td>/home/nicoleg/workspaces/teddytoolkit/.data/Ch...</td>\n",
       "    </tr>\n",
       "    <tr>\n",
       "      <th>00000013_010.png</th>\n",
       "      <td>Pneumonia</td>\n",
       "      <td>10</td>\n",
       "      <td>13</td>\n",
       "      <td>60</td>\n",
       "      <td>M</td>\n",
       "      <td>AP</td>\n",
       "      <td>3056</td>\n",
       "      <td>2544</td>\n",
       "      <td>0.139000</td>\n",
       "      <td>0.139000</td>\n",
       "      <td>NaN</td>\n",
       "      <td>/home/nicoleg/workspaces/teddytoolkit/.data/Ch...</td>\n",
       "    </tr>\n",
       "    <tr>\n",
       "      <th>00000013_014.png</th>\n",
       "      <td>No Finding</td>\n",
       "      <td>14</td>\n",
       "      <td>13</td>\n",
       "      <td>61</td>\n",
       "      <td>M</td>\n",
       "      <td>PA</td>\n",
       "      <td>2021</td>\n",
       "      <td>2021</td>\n",
       "      <td>0.194311</td>\n",
       "      <td>0.194311</td>\n",
       "      <td>NaN</td>\n",
       "      <td>/home/nicoleg/workspaces/teddytoolkit/.data/Ch...</td>\n",
       "    </tr>\n",
       "    <tr>\n",
       "      <th>00000013_015.png</th>\n",
       "      <td>No Finding</td>\n",
       "      <td>15</td>\n",
       "      <td>13</td>\n",
       "      <td>61</td>\n",
       "      <td>M</td>\n",
       "      <td>PA</td>\n",
       "      <td>2020</td>\n",
       "      <td>2021</td>\n",
       "      <td>0.194311</td>\n",
       "      <td>0.194311</td>\n",
       "      <td>NaN</td>\n",
       "      <td>/home/nicoleg/workspaces/teddytoolkit/.data/Ch...</td>\n",
       "    </tr>\n",
       "  </tbody>\n",
       "</table>\n",
       "</div>"
      ],
      "text/plain": [
       "\n",
       "                 Finding Labels  Follow-up #  Patient ID  Patient Age  \\\n",
       "Image Index                                                             \n",
       "00000013_000.png     No Finding            \u001b[1;36m0\u001b[0m          \u001b[1;36m13\u001b[0m           \u001b[1;36m61\u001b[0m   \n",
       "00000013_008.png     No Finding            \u001b[1;36m8\u001b[0m          \u001b[1;36m13\u001b[0m           \u001b[1;36m60\u001b[0m   \n",
       "00000013_010.png      Pneumonia           \u001b[1;36m10\u001b[0m          \u001b[1;36m13\u001b[0m           \u001b[1;36m60\u001b[0m   \n",
       "00000013_014.png     No Finding           \u001b[1;36m14\u001b[0m          \u001b[1;36m13\u001b[0m           \u001b[1;36m61\u001b[0m   \n",
       "00000013_015.png     No Finding           \u001b[1;36m15\u001b[0m          \u001b[1;36m13\u001b[0m           \u001b[1;36m61\u001b[0m   \n",
       "\n",
       "                 Patient Gender View Position  OriginalImage\u001b[1m[\u001b[0mWidth  Height\u001b[1m]\u001b[0m  \\\n",
       "Image Index                                                                   \n",
       "00000013_000.png              M            PA                 \u001b[1;36m2021\u001b[0m     \u001b[1;36m2021\u001b[0m   \n",
       "00000013_008.png              M            AP                 \u001b[1;36m3056\u001b[0m     \u001b[1;36m2544\u001b[0m   \n",
       "00000013_010.png              M            AP                 \u001b[1;36m3056\u001b[0m     \u001b[1;36m2544\u001b[0m   \n",
       "00000013_014.png              M            PA                 \u001b[1;36m2021\u001b[0m     \u001b[1;36m2021\u001b[0m   \n",
       "00000013_015.png              M            PA                 \u001b[1;36m2020\u001b[0m     \u001b[1;36m2021\u001b[0m   \n",
       "\n",
       "                  OriginalImagePixelSpacing\u001b[1m[\u001b[0mx        y\u001b[1m]\u001b[0m  Unnamed: \u001b[1;36m11\u001b[0m  \\\n",
       "Image Index                                                            \n",
       "00000013_000.png                     \u001b[1;36m0.194311\u001b[0m  \u001b[1;36m0.194311\u001b[0m          NaN   \n",
       "00000013_008.png                     \u001b[1;36m0.139000\u001b[0m  \u001b[1;36m0.139000\u001b[0m          NaN   \n",
       "00000013_010.png                     \u001b[1;36m0.139000\u001b[0m  \u001b[1;36m0.139000\u001b[0m          NaN   \n",
       "00000013_014.png                     \u001b[1;36m0.194311\u001b[0m  \u001b[1;36m0.194311\u001b[0m          NaN   \n",
       "00000013_015.png                     \u001b[1;36m0.194311\u001b[0m  \u001b[1;36m0.194311\u001b[0m          NaN   \n",
       "\n",
       "                                                        image_files  \n",
       "Image Index                                                          \n",
       "00000013_000.png  \u001b[35m/home/nicoleg/workspaces/teddytoolkit/.data/\u001b[0m\u001b[95mCh...\u001b[0m  \n",
       "00000013_008.png  \u001b[35m/home/nicoleg/workspaces/teddytoolkit/.data/\u001b[0m\u001b[95mCh...\u001b[0m  \n",
       "00000013_010.png  \u001b[35m/home/nicoleg/workspaces/teddytoolkit/.data/\u001b[0m\u001b[95mCh...\u001b[0m  \n",
       "00000013_014.png  \u001b[35m/home/nicoleg/workspaces/teddytoolkit/.data/\u001b[0m\u001b[95mCh...\u001b[0m  \n",
       "00000013_015.png  \u001b[35m/home/nicoleg/workspaces/teddytoolkit/.data/\u001b[0m\u001b[95mCh...\u001b[0m  "
      ]
     },
     "execution_count": 113,
     "metadata": {},
     "output_type": "execute_result"
    }
   ],
   "source": [
    "transform_labels_to_metaclass(deepcopy(test_df), target, dataset_cfg.encoding).head()"
   ]
  },
  {
   "cell_type": "code",
   "execution_count": 114,
   "metadata": {},
   "outputs": [],
   "source": [
    "# visualize\n",
    "train_dataset = ImageDataset(\n",
    "    image_files=train_df[\"image_files\"].tolist(), labels=train_df[target].tolist()\n",
    ")\n",
    "train_loader = ThreadDataLoader(dataset=train_dataset, batch_size=1, num_workers=4)\n",
    "iterator = iter(train_loader)"
   ]
  },
  {
   "cell_type": "code",
   "execution_count": 115,
   "metadata": {},
   "outputs": [
    {
     "data": {
      "text/html": [
       "<pre style=\"white-space:pre;overflow-x:auto;line-height:normal;font-family:Menlo,'DejaVu Sans Mono',consolas,'Courier New',monospace\"></pre>\n"
      ],
      "text/plain": []
     },
     "metadata": {},
     "output_type": "display_data"
    },
    {
     "data": {
      "text/plain": [
       "\u001b[1m(\u001b[0m\u001b[1;35mtorch.Size\u001b[0m\u001b[1m(\u001b[0m\u001b[1m[\u001b[0m\u001b[1;36m1\u001b[0m, \u001b[1;36m1024\u001b[0m, \u001b[1;36m1024\u001b[0m\u001b[1m]\u001b[0m\u001b[1m)\u001b[0m, \u001b[1m[\u001b[0m\u001b[32m'No Finding'\u001b[0m\u001b[1m]\u001b[0m\u001b[1m)\u001b[0m"
      ]
     },
     "execution_count": 115,
     "metadata": {},
     "output_type": "execute_result"
    }
   ],
   "source": [
    "from monai.utils import first\n",
    "\n",
    "scan, label = next(iterator)\n",
    "scan.shape, label\n"
   ]
  },
  {
   "cell_type": "code",
   "execution_count": 116,
   "metadata": {},
   "outputs": [
    {
     "data": {
      "text/html": [
       "<pre style=\"white-space:pre;overflow-x:auto;line-height:normal;font-family:Menlo,'DejaVu Sans Mono',consolas,'Courier New',monospace\"></pre>\n"
      ],
      "text/plain": []
     },
     "metadata": {},
     "output_type": "display_data"
    },
    {
     "data": {
      "text/plain": [
       "\u001b[1;35mtorch.Size\u001b[0m\u001b[1m(\u001b[0m\u001b[1m[\u001b[0m\u001b[1;36m1024\u001b[0m, \u001b[1;36m1024\u001b[0m\u001b[1m]\u001b[0m\u001b[1m)\u001b[0m"
      ]
     },
     "execution_count": 116,
     "metadata": {},
     "output_type": "execute_result"
    }
   ],
   "source": [
    "scan.squeeze().shape"
   ]
  },
  {
   "cell_type": "code",
   "execution_count": 117,
   "metadata": {},
   "outputs": [
    {
     "data": {
      "text/html": [
       "<pre style=\"white-space:pre;overflow-x:auto;line-height:normal;font-family:Menlo,'DejaVu Sans Mono',consolas,'Courier New',monospace\"></pre>\n"
      ],
      "text/plain": []
     },
     "metadata": {},
     "output_type": "display_data"
    },
    {
     "data": {
      "image/png": "[encoded data removed]",
      "text/plain": [
       "\u001b[1m<\u001b[0m\u001b[1;95mFigure\u001b[0m\u001b[39m size 64\u001b[0m\u001b[1;36m0x480\u001b[0m\u001b[39m with \u001b[0m\u001b[1;36m1\u001b[0m\u001b[39m Axes\u001b[0m\u001b[1m>\u001b[0m"
      ]
     },
     "metadata": {},
     "output_type": "display_data"
    }
   ],
   "source": [
    "# patient_id = scan._meta[\"filename_or_obj\"].split(\"/\")[-1].split(\".\")[0]\n",
    "plt.title(f\"Label: {label[0]}\")\n",
    "display_scan = scan.squeeze().numpy()\n",
    "# display_scan = np.transpose(display_scan, (1, 2, 0))\n",
    "plt.imshow(display_scan, cmap=\"bone\");"
   ]
  },
  {
   "cell_type": "markdown",
   "metadata": {},
   "source": [
    "# Using `TTK`"
   ]
  },
  {
   "cell_type": "code",
   "execution_count": null,
   "metadata": {},
   "outputs": [],
   "source": [
    "from omegaconf import DictConfig\n",
    "import logging\n",
    "\n",
    "# rtk\n",
    "from rtk import datasets\n",
    "from rtk.utils import hydra_instantiate\n",
    "\n",
    "logging.getLogger(\"rtk.datasets\").setLevel(logging.DEBUG)\n",
    "\n",
    "transform = datasets.create_transforms(\n",
    "    cfg, use_transforms=job_cfg.use_transforms\n",
    ")\n",
    "dataset = datasets.instantiate_image_dataset(\n",
    "    cfg=cfg, save_metadata=True, transform=transform\n",
    ")\n",
    "train_dataset, test_dataset = dataset[0], dataset[1]"
   ]
  },
  {
   "cell_type": "code",
   "execution_count": null,
   "metadata": {},
   "outputs": [],
   "source": [
    "transform.transforms"
   ]
  },
  {
   "cell_type": "code",
   "execution_count": null,
   "metadata": {},
   "outputs": [],
   "source": [
    "train_dataset[0][0].shape"
   ]
  },
  {
   "cell_type": "code",
   "execution_count": null,
   "metadata": {},
   "outputs": [],
   "source": [
    "train_loader = hydra_instantiate(\n",
    "    cfg=dataset_cfg.dataloader,\n",
    "    dataset=train_dataset,\n",
    "    pin_memory=torch.cuda.is_available(),\n",
    "    shuffle=True,\n",
    ")\n",
    "test_loader = hydra_instantiate(\n",
    "    cfg=dataset_cfg.dataloader,\n",
    "    dataset=test_dataset,\n",
    "    pin_memory=torch.cuda.is_available(),\n",
    ")\n",
    "iterator = iter(train_loader)\n"
   ]
  },
  {
   "cell_type": "markdown",
   "metadata": {},
   "source": [
    "## Get some samples"
   ]
  },
  {
   "cell_type": "code",
   "execution_count": null,
   "metadata": {},
   "outputs": [],
   "source": [
    "scan, label = next(iterator)\n",
    "scan.shape, label"
   ]
  },
  {
   "cell_type": "code",
   "execution_count": null,
   "metadata": {},
   "outputs": [],
   "source": [
    "_filename = scan[0]._meta['filename_or_obj'].split('/')[-1]\n",
    "patient_id = _filename.split('.')[0]\n",
    "patient_id"
   ]
  },
  {
   "cell_type": "code",
   "execution_count": null,
   "metadata": {},
   "outputs": [],
   "source": [
    "plt.title(f\"Patient ID: {patient_id}\")\n",
    "display_scan = scan[0].numpy()\n",
    "display_scan = np.transpose(display_scan, (1, 2, 0))\n",
    "plt.imshow(display_scan, cmap=\"bone\");"
   ]
  },
  {
   "cell_type": "code",
   "execution_count": null,
   "metadata": {},
   "outputs": [],
   "source": [
    "display_scan"
   ]
  },
  {
   "cell_type": "code",
   "execution_count": null,
   "metadata": {},
   "outputs": [],
   "source": []
  }
 ],
 "metadata": {
  "kernelspec": {
   "display_name": "dissertation-dev",
   "language": "python",
   "name": "python3"
  },
  "language_info": {
   "codemirror_mode": {
    "name": "ipython",
    "version": 3
   },
   "file_extension": ".py",
   "mimetype": "text/x-python",
   "name": "python",
   "nbconvert_exporter": "python",
   "pygments_lexer": "ipython3",
   "version": "3.11.4"
  },
  "orig_nbformat": 4
 },
 "nbformat": 4,
 "nbformat_minor": 2
}
